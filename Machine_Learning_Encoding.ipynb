{
 "cells": [
  {
   "cell_type": "code",
   "execution_count": null,
   "id": "31b2faa3",
   "metadata": {},
   "outputs": [],
   "source": [
    "# Initial imports.\n",
    "\n",
    "import pandas as pd\n",
    "from path import Path\n",
    "from sklearn.ensemble import RandomForestClassifier\n",
    "from sklearn.preprocessing import StandardScaler\n",
    "from sklearn.model_selection import train_test_split\n",
    "from sklearn.metrics import confusion_matrix, accuracy_score, classification_report"
   ]
  },
  {
   "cell_type": "code",
   "execution_count": null,
   "id": "ccfae700",
   "metadata": {},
   "outputs": [],
   "source": [
    "# Loading data\n",
    "\n",
    "# psp : patient survival prediciton\n",
    "\n",
    "file_path = Path(\"\") # Need cleaned data \n",
    "df_psp = pd.read_csv(file_path)\n",
    "df_psp.head()"
   ]
  },
  {
   "cell_type": "markdown",
   "id": "22aef6a0",
   "metadata": {},
   "source": [
    "## Preprocess the Data"
   ]
  },
  {
   "cell_type": "markdown",
   "id": "142cced9",
   "metadata": {},
   "source": [
    "### Encoding"
   ]
  },
  {
   "cell_type": "code",
   "execution_count": null,
   "id": "07633aa9",
   "metadata": {},
   "outputs": [],
   "source": [
    "# Will need to encode any strings to numerical data\n",
    "# If the data can be encoded in two values, for ex (0=male, and 1=female)\n",
    "\n",
    "psp_binary_encoded = pd.get_dummies(psp_df, columns=[\"gender\"])\n",
    "\n",
    "psp_binary_encoded.head()"
   ]
  },
  {
   "cell_type": "code",
   "execution_count": null,
   "id": "63a89553",
   "metadata": {},
   "outputs": [],
   "source": [
    "# Use scikit-learns LabelEncoder for columns like Ethnicity, Hospital Admit scource, ICU type, apache_3j_bodysystem, and apache_2_body system\n",
    "\n",
    "from sklearn.preprocessing import LabelEncoder\n",
    "\n",
    "le = LabelEncoder()\n",
    "\n",
    "df_psp_encoded = df_psp.copy()\n",
    "\n",
    "df_psp_encoded['ethnicity'] = le.fit_transform(df2['ethnicity'])\n",
    "df_psp_encoded['hospital_admin_source'] = le.fit_transform(df2['hospital_admin_source'])\n",
    "df_psp_encoded['icu_type'] = le.fit_transform(df2['icu_type'])\n",
    "df_psp_encoded['apache_3j_bodysystem'] = le.fit_transform(df2['apache_3j_bodysystem'])\n",
    "df_psp_encoded['apache_2_bodysystem'] = le.fit_transform(df2['apache_2_bodysystem'])\n",
    "\n",
    "df_psp_encoded.head()"
   ]
  },
  {
   "cell_type": "code",
   "execution_count": null,
   "id": "f749846d",
   "metadata": {},
   "outputs": [],
   "source": [
    "# Can Use Custom Encoding Fucntions for the columns above after seeing the df2 table\n",
    "\n",
    "# 17.6.3"
   ]
  },
  {
   "cell_type": "markdown",
   "id": "31d77e2d",
   "metadata": {},
   "source": []
  },
  {
   "cell_type": "code",
   "execution_count": null,
   "id": "aedbd4a2",
   "metadata": {},
   "outputs": [],
   "source": []
  },
  {
   "cell_type": "code",
   "execution_count": null,
   "id": "528a742c",
   "metadata": {},
   "outputs": [],
   "source": []
  }
 ],
 "metadata": {
  "kernelspec": {
   "display_name": "mlenv",
   "language": "python",
   "name": "mlenv"
  },
  "language_info": {
   "codemirror_mode": {
    "name": "ipython",
    "version": 3
   },
   "file_extension": ".py",
   "mimetype": "text/x-python",
   "name": "python",
   "nbconvert_exporter": "python",
   "pygments_lexer": "ipython3",
   "version": "3.7.13"
  }
 },
 "nbformat": 4,
 "nbformat_minor": 5
}
