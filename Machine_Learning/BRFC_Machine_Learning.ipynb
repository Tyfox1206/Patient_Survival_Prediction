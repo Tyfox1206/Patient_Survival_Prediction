{
 "cells": [
  {
   "cell_type": "code",
   "execution_count": 1,
   "id": "b2a1a294",
   "metadata": {},
   "outputs": [],
   "source": [
    "# Initial imports.\n",
    "\n",
    "import numpy as np\n",
    "import pandas as pd\n",
    "from pathlib import Path\n",
    "from collections import Counter\n",
    "from sklearn.model_selection import train_test_split\n",
    "from sklearn.metrics import balanced_accuracy_score\n",
    "from sklearn.metrics import confusion_matrix\n",
    "from imblearn.metrics import classification_report_imbalanced\n",
    "import matplotlib.pyplot \n",
    "from scipy import stats\n",
    "import matplotlib.pyplot as plt\n",
    "from imblearn.ensemble import BalancedRandomForestClassifier"
   ]
  },
  {
   "cell_type": "markdown",
   "id": "c3f113f3",
   "metadata": {},
   "source": [
    "### Patient Vitals (First Hour in ICU)"
   ]
  },
  {
   "cell_type": "code",
   "execution_count": 2,
   "id": "bb7d0ae3",
   "metadata": {},
   "outputs": [
    {
     "data": {
      "text/html": [
       "<div>\n",
       "<style scoped>\n",
       "    .dataframe tbody tr th:only-of-type {\n",
       "        vertical-align: middle;\n",
       "    }\n",
       "\n",
       "    .dataframe tbody tr th {\n",
       "        vertical-align: top;\n",
       "    }\n",
       "\n",
       "    .dataframe thead th {\n",
       "        text-align: right;\n",
       "    }\n",
       "</style>\n",
       "<table border=\"1\" class=\"dataframe\">\n",
       "  <thead>\n",
       "    <tr style=\"text-align: right;\">\n",
       "      <th></th>\n",
       "      <th>patient_id</th>\n",
       "      <th>h1_diasbp_max</th>\n",
       "      <th>h1_diasbp_min</th>\n",
       "      <th>h1_heartrate_max</th>\n",
       "      <th>h1_heartrate_min</th>\n",
       "      <th>h1_mbp_max</th>\n",
       "      <th>h1_mbp_min</th>\n",
       "      <th>h1_resprate_max</th>\n",
       "      <th>h1_resprate_min</th>\n",
       "      <th>h1_spo2_max</th>\n",
       "      <th>h1_spo2_min</th>\n",
       "      <th>h1_sysbp_max</th>\n",
       "      <th>h1_sysbp_min</th>\n",
       "      <th>hospital_death</th>\n",
       "    </tr>\n",
       "  </thead>\n",
       "  <tbody>\n",
       "    <tr>\n",
       "      <th>0</th>\n",
       "      <td>25312</td>\n",
       "      <td>68</td>\n",
       "      <td>63</td>\n",
       "      <td>119</td>\n",
       "      <td>108</td>\n",
       "      <td>86</td>\n",
       "      <td>85</td>\n",
       "      <td>26</td>\n",
       "      <td>18</td>\n",
       "      <td>100</td>\n",
       "      <td>74</td>\n",
       "      <td>131</td>\n",
       "      <td>115</td>\n",
       "      <td>0</td>\n",
       "    </tr>\n",
       "    <tr>\n",
       "      <th>1</th>\n",
       "      <td>59342</td>\n",
       "      <td>61</td>\n",
       "      <td>48</td>\n",
       "      <td>114</td>\n",
       "      <td>100</td>\n",
       "      <td>85</td>\n",
       "      <td>57</td>\n",
       "      <td>31</td>\n",
       "      <td>28</td>\n",
       "      <td>95</td>\n",
       "      <td>70</td>\n",
       "      <td>95</td>\n",
       "      <td>71</td>\n",
       "      <td>0</td>\n",
       "    </tr>\n",
       "    <tr>\n",
       "      <th>2</th>\n",
       "      <td>50777</td>\n",
       "      <td>88</td>\n",
       "      <td>58</td>\n",
       "      <td>96</td>\n",
       "      <td>78</td>\n",
       "      <td>91</td>\n",
       "      <td>83</td>\n",
       "      <td>20</td>\n",
       "      <td>16</td>\n",
       "      <td>98</td>\n",
       "      <td>91</td>\n",
       "      <td>148</td>\n",
       "      <td>124</td>\n",
       "      <td>0</td>\n",
       "    </tr>\n",
       "    <tr>\n",
       "      <th>3</th>\n",
       "      <td>46918</td>\n",
       "      <td>62</td>\n",
       "      <td>44</td>\n",
       "      <td>100</td>\n",
       "      <td>96</td>\n",
       "      <td>92</td>\n",
       "      <td>71</td>\n",
       "      <td>12</td>\n",
       "      <td>11</td>\n",
       "      <td>100</td>\n",
       "      <td>99</td>\n",
       "      <td>136</td>\n",
       "      <td>106</td>\n",
       "      <td>0</td>\n",
       "    </tr>\n",
       "    <tr>\n",
       "      <th>4</th>\n",
       "      <td>74489</td>\n",
       "      <td>89</td>\n",
       "      <td>89</td>\n",
       "      <td>83</td>\n",
       "      <td>83</td>\n",
       "      <td>111</td>\n",
       "      <td>111</td>\n",
       "      <td>12</td>\n",
       "      <td>12</td>\n",
       "      <td>97</td>\n",
       "      <td>97</td>\n",
       "      <td>143</td>\n",
       "      <td>143</td>\n",
       "      <td>0</td>\n",
       "    </tr>\n",
       "  </tbody>\n",
       "</table>\n",
       "</div>"
      ],
      "text/plain": [
       "   patient_id  h1_diasbp_max  h1_diasbp_min  h1_heartrate_max  \\\n",
       "0       25312             68             63               119   \n",
       "1       59342             61             48               114   \n",
       "2       50777             88             58                96   \n",
       "3       46918             62             44               100   \n",
       "4       74489             89             89                83   \n",
       "\n",
       "   h1_heartrate_min  h1_mbp_max  h1_mbp_min  h1_resprate_max  h1_resprate_min  \\\n",
       "0               108          86          85               26               18   \n",
       "1               100          85          57               31               28   \n",
       "2                78          91          83               20               16   \n",
       "3                96          92          71               12               11   \n",
       "4                83         111         111               12               12   \n",
       "\n",
       "   h1_spo2_max  h1_spo2_min  h1_sysbp_max  h1_sysbp_min  hospital_death  \n",
       "0          100           74           131           115               0  \n",
       "1           95           70            95            71               0  \n",
       "2           98           91           148           124               0  \n",
       "3          100           99           136           106               0  \n",
       "4           97           97           143           143               0  "
      ]
     },
     "execution_count": 2,
     "metadata": {},
     "output_type": "execute_result"
    }
   ],
   "source": [
    "# Loading data\n",
    "\n",
    "file_path = Path(\"C:/Users/emili/Class/Patient_Survival_Prediction/Machine_Learning/Resources/vitals_hour_patient.csv\")\n",
    "df_vitals_h1 = pd.read_csv(file_path)\n",
    "df_vitals_h1.head()"
   ]
  },
  {
   "cell_type": "code",
   "execution_count": 3,
   "id": "9c1a8f56",
   "metadata": {},
   "outputs": [],
   "source": [
    "# Drop patient_id column\n",
    "\n",
    "df_vitals_h1=df_vitals_h1.drop(columns=['patient_id'])\n"
   ]
  },
  {
   "cell_type": "code",
   "execution_count": 4,
   "id": "04522ee4",
   "metadata": {},
   "outputs": [
    {
     "data": {
      "text/html": [
       "<div>\n",
       "<style scoped>\n",
       "    .dataframe tbody tr th:only-of-type {\n",
       "        vertical-align: middle;\n",
       "    }\n",
       "\n",
       "    .dataframe tbody tr th {\n",
       "        vertical-align: top;\n",
       "    }\n",
       "\n",
       "    .dataframe thead th {\n",
       "        text-align: right;\n",
       "    }\n",
       "</style>\n",
       "<table border=\"1\" class=\"dataframe\">\n",
       "  <thead>\n",
       "    <tr style=\"text-align: right;\">\n",
       "      <th></th>\n",
       "      <th>h1_diasbp_max</th>\n",
       "      <th>h1_diasbp_min</th>\n",
       "      <th>h1_heartrate_max</th>\n",
       "      <th>h1_heartrate_min</th>\n",
       "      <th>h1_mbp_max</th>\n",
       "      <th>h1_mbp_min</th>\n",
       "      <th>h1_resprate_max</th>\n",
       "      <th>h1_resprate_min</th>\n",
       "      <th>h1_spo2_max</th>\n",
       "      <th>h1_spo2_min</th>\n",
       "      <th>h1_sysbp_max</th>\n",
       "      <th>h1_sysbp_min</th>\n",
       "    </tr>\n",
       "  </thead>\n",
       "  <tbody>\n",
       "    <tr>\n",
       "      <th>0</th>\n",
       "      <td>68</td>\n",
       "      <td>63</td>\n",
       "      <td>119</td>\n",
       "      <td>108</td>\n",
       "      <td>86</td>\n",
       "      <td>85</td>\n",
       "      <td>26</td>\n",
       "      <td>18</td>\n",
       "      <td>100</td>\n",
       "      <td>74</td>\n",
       "      <td>131</td>\n",
       "      <td>115</td>\n",
       "    </tr>\n",
       "    <tr>\n",
       "      <th>1</th>\n",
       "      <td>61</td>\n",
       "      <td>48</td>\n",
       "      <td>114</td>\n",
       "      <td>100</td>\n",
       "      <td>85</td>\n",
       "      <td>57</td>\n",
       "      <td>31</td>\n",
       "      <td>28</td>\n",
       "      <td>95</td>\n",
       "      <td>70</td>\n",
       "      <td>95</td>\n",
       "      <td>71</td>\n",
       "    </tr>\n",
       "    <tr>\n",
       "      <th>2</th>\n",
       "      <td>88</td>\n",
       "      <td>58</td>\n",
       "      <td>96</td>\n",
       "      <td>78</td>\n",
       "      <td>91</td>\n",
       "      <td>83</td>\n",
       "      <td>20</td>\n",
       "      <td>16</td>\n",
       "      <td>98</td>\n",
       "      <td>91</td>\n",
       "      <td>148</td>\n",
       "      <td>124</td>\n",
       "    </tr>\n",
       "    <tr>\n",
       "      <th>3</th>\n",
       "      <td>62</td>\n",
       "      <td>44</td>\n",
       "      <td>100</td>\n",
       "      <td>96</td>\n",
       "      <td>92</td>\n",
       "      <td>71</td>\n",
       "      <td>12</td>\n",
       "      <td>11</td>\n",
       "      <td>100</td>\n",
       "      <td>99</td>\n",
       "      <td>136</td>\n",
       "      <td>106</td>\n",
       "    </tr>\n",
       "    <tr>\n",
       "      <th>4</th>\n",
       "      <td>89</td>\n",
       "      <td>89</td>\n",
       "      <td>83</td>\n",
       "      <td>83</td>\n",
       "      <td>111</td>\n",
       "      <td>111</td>\n",
       "      <td>12</td>\n",
       "      <td>12</td>\n",
       "      <td>97</td>\n",
       "      <td>97</td>\n",
       "      <td>143</td>\n",
       "      <td>143</td>\n",
       "    </tr>\n",
       "  </tbody>\n",
       "</table>\n",
       "</div>"
      ],
      "text/plain": [
       "   h1_diasbp_max  h1_diasbp_min  h1_heartrate_max  h1_heartrate_min  \\\n",
       "0             68             63               119               108   \n",
       "1             61             48               114               100   \n",
       "2             88             58                96                78   \n",
       "3             62             44               100                96   \n",
       "4             89             89                83                83   \n",
       "\n",
       "   h1_mbp_max  h1_mbp_min  h1_resprate_max  h1_resprate_min  h1_spo2_max  \\\n",
       "0          86          85               26               18          100   \n",
       "1          85          57               31               28           95   \n",
       "2          91          83               20               16           98   \n",
       "3          92          71               12               11          100   \n",
       "4         111         111               12               12           97   \n",
       "\n",
       "   h1_spo2_min  h1_sysbp_max  h1_sysbp_min  \n",
       "0           74           131           115  \n",
       "1           70            95            71  \n",
       "2           91           148           124  \n",
       "3           99           136           106  \n",
       "4           97           143           143  "
      ]
     },
     "execution_count": 4,
     "metadata": {},
     "output_type": "execute_result"
    }
   ],
   "source": [
    "# Create our features\n",
    "\n",
    "X = df_vitals_h1.drop('hospital_death', axis=1)\n",
    "\n",
    "\n",
    "X.head()"
   ]
  },
  {
   "cell_type": "code",
   "execution_count": 5,
   "id": "e2f6ba41",
   "metadata": {},
   "outputs": [
    {
     "data": {
      "text/plain": [
       "<bound method NDFrame.describe of        h1_diasbp_max  h1_diasbp_min  h1_heartrate_max  h1_heartrate_min  \\\n",
       "0                 68             63               119               108   \n",
       "1                 61             48               114               100   \n",
       "2                 88             58                96                78   \n",
       "3                 62             44               100                96   \n",
       "4                 89             89                83                83   \n",
       "...              ...            ...               ...               ...   \n",
       "73257             70             70               100                93   \n",
       "73258            102             96                59                55   \n",
       "73259             55             44               111                96   \n",
       "73260             64             56                89                83   \n",
       "73261             40             36                83                75   \n",
       "\n",
       "       h1_mbp_max  h1_mbp_min  h1_resprate_max  h1_resprate_min  h1_spo2_max  \\\n",
       "0              86          85               26               18          100   \n",
       "1              85          57               31               28           95   \n",
       "2              91          83               20               16           98   \n",
       "3              92          71               12               11          100   \n",
       "4             111         111               12               12           97   \n",
       "...           ...         ...              ...              ...          ...   \n",
       "73257          78          78               15                9           99   \n",
       "73258         111         108               19               13          100   \n",
       "73259          64          55               24               16           98   \n",
       "73260          78          68               28               22           99   \n",
       "73261          56          56               19                9          100   \n",
       "\n",
       "       h1_spo2_min  h1_sysbp_max  h1_sysbp_min  \n",
       "0               74           131           115  \n",
       "1               70            95            71  \n",
       "2               91           148           124  \n",
       "3               99           136           106  \n",
       "4               97           143           143  \n",
       "...            ...           ...           ...  \n",
       "73257           97           104           104  \n",
       "73258           98           169           143  \n",
       "73259           97            94            87  \n",
       "73260           96           127           107  \n",
       "73261          100            93            89  \n",
       "\n",
       "[73262 rows x 12 columns]>"
      ]
     },
     "execution_count": 5,
     "metadata": {},
     "output_type": "execute_result"
    }
   ],
   "source": [
    "X.describe"
   ]
  },
  {
   "cell_type": "code",
   "execution_count": 6,
   "id": "c11c57a3",
   "metadata": {},
   "outputs": [
    {
     "data": {
      "text/plain": [
       "0    67400\n",
       "1     5862\n",
       "Name: hospital_death, dtype: int64"
      ]
     },
     "execution_count": 6,
     "metadata": {},
     "output_type": "execute_result"
    }
   ],
   "source": [
    "#Create our target \n",
    "\n",
    "y = df_vitals_h1['hospital_death']\n",
    "\n",
    "y.value_counts()"
   ]
  },
  {
   "cell_type": "code",
   "execution_count": 7,
   "id": "5c4bdf53",
   "metadata": {},
   "outputs": [],
   "source": [
    "# Split data into Training and Testing\n",
    "\n",
    "X_train, X_test, y_train, y_test = train_test_split(X, y, random_state=1, stratify=y)"
   ]
  },
  {
   "cell_type": "code",
   "execution_count": 8,
   "id": "6055885d",
   "metadata": {},
   "outputs": [
    {
     "name": "stdout",
     "output_type": "stream",
     "text": [
      "Counter({0: 50550, 1: 4396})\n",
      "Counter({0: 16850, 1: 1466})\n"
     ]
    }
   ],
   "source": [
    "# Check balances\n",
    "print(Counter(y_train))\n",
    "print(Counter(y_test))"
   ]
  },
  {
   "cell_type": "code",
   "execution_count": 9,
   "id": "231710ff",
   "metadata": {},
   "outputs": [
    {
     "data": {
      "text/plain": [
       "BalancedRandomForestClassifier(random_state=1)"
      ]
     },
     "execution_count": 9,
     "metadata": {},
     "output_type": "execute_result"
    }
   ],
   "source": [
    "# Instantiate RBC\n",
    "\n",
    "brfc = BalancedRandomForestClassifier(n_estimators=100, random_state=1)\n",
    "\n",
    "# Fit\n",
    "\n",
    "brfc.fit(X_train, y_train)"
   ]
  },
  {
   "cell_type": "code",
   "execution_count": 10,
   "id": "6ad7fbfe",
   "metadata": {},
   "outputs": [
    {
     "data": {
      "text/plain": [
       "0.661057845284409"
      ]
     },
     "execution_count": 10,
     "metadata": {},
     "output_type": "execute_result"
    }
   ],
   "source": [
    "# Calculated the balanced accuracy score\n",
    "y_pred = brfc.predict(X_test)\n",
    "RandomForest_accuracy_vitals_h1 = balanced_accuracy_score(y_test, y_pred)\n",
    "\n",
    "RandomForest_accuracy_vitals_h1"
   ]
  },
  {
   "cell_type": "code",
   "execution_count": 11,
   "id": "7e3ca80b",
   "metadata": {},
   "outputs": [
    {
     "data": {
      "text/html": [
       "<div>\n",
       "<style scoped>\n",
       "    .dataframe tbody tr th:only-of-type {\n",
       "        vertical-align: middle;\n",
       "    }\n",
       "\n",
       "    .dataframe tbody tr th {\n",
       "        vertical-align: top;\n",
       "    }\n",
       "\n",
       "    .dataframe thead th {\n",
       "        text-align: right;\n",
       "    }\n",
       "</style>\n",
       "<table border=\"1\" class=\"dataframe\">\n",
       "  <thead>\n",
       "    <tr style=\"text-align: right;\">\n",
       "      <th></th>\n",
       "      <th>Predicted Survival</th>\n",
       "      <th>Predicted Death</th>\n",
       "    </tr>\n",
       "  </thead>\n",
       "  <tbody>\n",
       "    <tr>\n",
       "      <th>Actual Survival</th>\n",
       "      <td>11324</td>\n",
       "      <td>5526</td>\n",
       "    </tr>\n",
       "    <tr>\n",
       "      <th>Actual Death</th>\n",
       "      <td>513</td>\n",
       "      <td>953</td>\n",
       "    </tr>\n",
       "  </tbody>\n",
       "</table>\n",
       "</div>"
      ],
      "text/plain": [
       "                 Predicted Survival  Predicted Death\n",
       "Actual Survival               11324             5526\n",
       "Actual Death                    513              953"
      ]
     },
     "execution_count": 11,
     "metadata": {},
     "output_type": "execute_result"
    }
   ],
   "source": [
    "# Display the confusion matrix\n",
    "# Calculating the confusion matrix\n",
    "cm = confusion_matrix(y_test, y_pred)\n",
    "\n",
    "\n",
    "# Create a DataFrame from the confusion matrix.\n",
    "cm_df = pd.DataFrame(\n",
    "    cm, index=[\"Actual Survival\", \"Actual Death\"], columns=[\"Predicted Survival\", \"Predicted Death\"])\n",
    "\n",
    "cm_df"
   ]
  },
  {
   "cell_type": "code",
   "execution_count": 12,
   "id": "cb60b95d",
   "metadata": {},
   "outputs": [
    {
     "name": "stdout",
     "output_type": "stream",
     "text": [
      "                   pre       rec       spe        f1       geo       iba       sup\n",
      "\n",
      "          0       0.96      0.67      0.65      0.79      0.66      0.44     16850\n",
      "          1       0.15      0.65      0.67      0.24      0.66      0.44      1466\n",
      "\n",
      "avg / total       0.89      0.67      0.65      0.75      0.66      0.44     18316\n",
      "\n"
     ]
    }
   ],
   "source": [
    "# Print the imbalanced classification report\n",
    "print(classification_report_imbalanced(y_test, y_pred))"
   ]
  },
  {
   "cell_type": "code",
   "execution_count": 13,
   "id": "72dfb242",
   "metadata": {
    "scrolled": true
   },
   "outputs": [
    {
     "name": "stdout",
     "output_type": "stream",
     "text": [
      "h1_sysbp_min: (0.11026637089007352)\n",
      "h1_heartrate_max: (0.0931061704133453)\n",
      "h1_mbp_min: (0.09001667287646543)\n",
      "h1_diasbp_min: (0.08970825533925379)\n",
      "h1_heartrate_min: (0.08833249557298828)\n",
      "h1_sysbp_max: (0.08821061879218861)\n",
      "h1_resprate_max: (0.08444542754602728)\n",
      "h1_resprate_min: (0.08262180213603429)\n",
      "h1_diasbp_max: (0.08054526020911164)\n",
      "h1_mbp_max: (0.07868096799990344)\n",
      "h1_spo2_min: (0.06986375198990209)\n",
      "h1_spo2_max: (0.04420220623470642)\n"
     ]
    }
   ],
   "source": [
    "# List the features sorted in descending order by feature importance\n",
    "features_rank = sorted(zip(brfc.feature_importances_, X.columns), reverse=True)\n",
    "for feature in features_rank:\n",
    "    print(f\"{feature[1]}: ({feature[0]})\")"
   ]
  },
  {
   "cell_type": "code",
   "execution_count": 14,
   "id": "3b80669d",
   "metadata": {},
   "outputs": [
    {
     "data": {
      "text/plain": [
       "Text(0.5, 1.0, 'Feature Importance Hour 1 Vitals')"
      ]
     },
     "execution_count": 14,
     "metadata": {},
     "output_type": "execute_result"
    },
    {
     "data": {
      "image/png": "[encoded data removed]",
      "text/plain": [
       "<Figure size 864x432 with 1 Axes>"
      ]
     },
     "metadata": {
      "needs_background": "light"
     },
     "output_type": "display_data"
    }
   ],
   "source": [
    "# Plot Features \n",
    "\n",
    "feature_importance = brfc.feature_importances_\n",
    "sorted_idx = np.argsort(feature_importance)\n",
    "fit = plt.figure(figsize=(12,6))\n",
    "plt.barh(range(len(sorted_idx)), feature_importance[sorted_idx], align='center')\n",
    "plt.yticks(range(len(sorted_idx)), np.array(X_test.columns)[sorted_idx])\n",
    "plt.title('Feature Importance Hour 1 Vitals')"
   ]
  },
  {
   "cell_type": "markdown",
   "id": "ee375446",
   "metadata": {},
   "source": [
    "### Patient Vitals (First Day in ICU)"
   ]
  },
  {
   "cell_type": "code",
   "execution_count": 15,
   "id": "acaa548e",
   "metadata": {},
   "outputs": [
    {
     "data": {
      "text/html": [
       "<div>\n",
       "<style scoped>\n",
       "    .dataframe tbody tr th:only-of-type {\n",
       "        vertical-align: middle;\n",
       "    }\n",
       "\n",
       "    .dataframe tbody tr th {\n",
       "        vertical-align: top;\n",
       "    }\n",
       "\n",
       "    .dataframe thead th {\n",
       "        text-align: right;\n",
       "    }\n",
       "</style>\n",
       "<table border=\"1\" class=\"dataframe\">\n",
       "  <thead>\n",
       "    <tr style=\"text-align: right;\">\n",
       "      <th></th>\n",
       "      <th>patient_id</th>\n",
       "      <th>d1_diasbp_max</th>\n",
       "      <th>d1_diasbp_min</th>\n",
       "      <th>d1_diasbp_noninvasive_max</th>\n",
       "      <th>d1_diasbp_noninvasive_min</th>\n",
       "      <th>d1_heartrate_max</th>\n",
       "      <th>d1_heartrate_min</th>\n",
       "      <th>d1_mbp_max</th>\n",
       "      <th>d1_mbp_min</th>\n",
       "      <th>d1_mbp_noninvasive_max</th>\n",
       "      <th>...</th>\n",
       "      <th>d1_resprate_min</th>\n",
       "      <th>d1_spo2_max</th>\n",
       "      <th>d1_spo2_min</th>\n",
       "      <th>d1_sysbp_max</th>\n",
       "      <th>d1_sysbp_min</th>\n",
       "      <th>d1_sysbp_noninvasive_max</th>\n",
       "      <th>d1_sysbp_noninvasive_min</th>\n",
       "      <th>d1_temp_max</th>\n",
       "      <th>d1_temp_min</th>\n",
       "      <th>hospital_death</th>\n",
       "    </tr>\n",
       "  </thead>\n",
       "  <tbody>\n",
       "    <tr>\n",
       "      <th>0</th>\n",
       "      <td>25312</td>\n",
       "      <td>68</td>\n",
       "      <td>37</td>\n",
       "      <td>68</td>\n",
       "      <td>37</td>\n",
       "      <td>119</td>\n",
       "      <td>72</td>\n",
       "      <td>89</td>\n",
       "      <td>46</td>\n",
       "      <td>89</td>\n",
       "      <td>...</td>\n",
       "      <td>10</td>\n",
       "      <td>100</td>\n",
       "      <td>74</td>\n",
       "      <td>131</td>\n",
       "      <td>73</td>\n",
       "      <td>131</td>\n",
       "      <td>73.0</td>\n",
       "      <td>39.9</td>\n",
       "      <td>37.2</td>\n",
       "      <td>0</td>\n",
       "    </tr>\n",
       "    <tr>\n",
       "      <th>1</th>\n",
       "      <td>59342</td>\n",
       "      <td>95</td>\n",
       "      <td>31</td>\n",
       "      <td>95</td>\n",
       "      <td>31</td>\n",
       "      <td>118</td>\n",
       "      <td>72</td>\n",
       "      <td>120</td>\n",
       "      <td>38</td>\n",
       "      <td>120</td>\n",
       "      <td>...</td>\n",
       "      <td>12</td>\n",
       "      <td>100</td>\n",
       "      <td>70</td>\n",
       "      <td>159</td>\n",
       "      <td>67</td>\n",
       "      <td>159</td>\n",
       "      <td>67.0</td>\n",
       "      <td>36.3</td>\n",
       "      <td>35.1</td>\n",
       "      <td>0</td>\n",
       "    </tr>\n",
       "    <tr>\n",
       "      <th>2</th>\n",
       "      <td>50777</td>\n",
       "      <td>88</td>\n",
       "      <td>48</td>\n",
       "      <td>88</td>\n",
       "      <td>48</td>\n",
       "      <td>96</td>\n",
       "      <td>68</td>\n",
       "      <td>102</td>\n",
       "      <td>68</td>\n",
       "      <td>102</td>\n",
       "      <td>...</td>\n",
       "      <td>8</td>\n",
       "      <td>98</td>\n",
       "      <td>91</td>\n",
       "      <td>148</td>\n",
       "      <td>105</td>\n",
       "      <td>148</td>\n",
       "      <td>105.0</td>\n",
       "      <td>37.0</td>\n",
       "      <td>36.7</td>\n",
       "      <td>0</td>\n",
       "    </tr>\n",
       "    <tr>\n",
       "      <th>3</th>\n",
       "      <td>46918</td>\n",
       "      <td>48</td>\n",
       "      <td>42</td>\n",
       "      <td>48</td>\n",
       "      <td>42</td>\n",
       "      <td>116</td>\n",
       "      <td>92</td>\n",
       "      <td>84</td>\n",
       "      <td>84</td>\n",
       "      <td>84</td>\n",
       "      <td>...</td>\n",
       "      <td>7</td>\n",
       "      <td>100</td>\n",
       "      <td>95</td>\n",
       "      <td>158</td>\n",
       "      <td>84</td>\n",
       "      <td>158</td>\n",
       "      <td>84.0</td>\n",
       "      <td>38.0</td>\n",
       "      <td>34.8</td>\n",
       "      <td>0</td>\n",
       "    </tr>\n",
       "    <tr>\n",
       "      <th>4</th>\n",
       "      <td>74489</td>\n",
       "      <td>100</td>\n",
       "      <td>61</td>\n",
       "      <td>100</td>\n",
       "      <td>61</td>\n",
       "      <td>113</td>\n",
       "      <td>83</td>\n",
       "      <td>127</td>\n",
       "      <td>80</td>\n",
       "      <td>127</td>\n",
       "      <td>...</td>\n",
       "      <td>10</td>\n",
       "      <td>97</td>\n",
       "      <td>91</td>\n",
       "      <td>173</td>\n",
       "      <td>107</td>\n",
       "      <td>173</td>\n",
       "      <td>107.0</td>\n",
       "      <td>36.8</td>\n",
       "      <td>36.6</td>\n",
       "      <td>0</td>\n",
       "    </tr>\n",
       "  </tbody>\n",
       "</table>\n",
       "<p>5 rows × 22 columns</p>\n",
       "</div>"
      ],
      "text/plain": [
       "   patient_id  d1_diasbp_max  d1_diasbp_min  d1_diasbp_noninvasive_max  \\\n",
       "0       25312             68             37                         68   \n",
       "1       59342             95             31                         95   \n",
       "2       50777             88             48                         88   \n",
       "3       46918             48             42                         48   \n",
       "4       74489            100             61                        100   \n",
       "\n",
       "   d1_diasbp_noninvasive_min  d1_heartrate_max  d1_heartrate_min  d1_mbp_max  \\\n",
       "0                         37               119                72          89   \n",
       "1                         31               118                72         120   \n",
       "2                         48                96                68         102   \n",
       "3                         42               116                92          84   \n",
       "4                         61               113                83         127   \n",
       "\n",
       "   d1_mbp_min  d1_mbp_noninvasive_max  ...  d1_resprate_min  d1_spo2_max  \\\n",
       "0          46                      89  ...               10          100   \n",
       "1          38                     120  ...               12          100   \n",
       "2          68                     102  ...                8           98   \n",
       "3          84                      84  ...                7          100   \n",
       "4          80                     127  ...               10           97   \n",
       "\n",
       "   d1_spo2_min  d1_sysbp_max  d1_sysbp_min  d1_sysbp_noninvasive_max  \\\n",
       "0           74           131            73                       131   \n",
       "1           70           159            67                       159   \n",
       "2           91           148           105                       148   \n",
       "3           95           158            84                       158   \n",
       "4           91           173           107                       173   \n",
       "\n",
       "   d1_sysbp_noninvasive_min  d1_temp_max  d1_temp_min  hospital_death  \n",
       "0                      73.0         39.9         37.2               0  \n",
       "1                      67.0         36.3         35.1               0  \n",
       "2                     105.0         37.0         36.7               0  \n",
       "3                      84.0         38.0         34.8               0  \n",
       "4                     107.0         36.8         36.6               0  \n",
       "\n",
       "[5 rows x 22 columns]"
      ]
     },
     "execution_count": 15,
     "metadata": {},
     "output_type": "execute_result"
    }
   ],
   "source": [
    "file_path = Path(\"C:/Users/emili/Class/Patient_Survival_Prediction/Machine_Learning/Resources/vitals_day_patient.csv\")\n",
    "df_vitals_d1 = pd.read_csv(file_path)\n",
    "df_vitals_d1.head()"
   ]
  },
  {
   "cell_type": "code",
   "execution_count": 16,
   "id": "0a8a2724",
   "metadata": {},
   "outputs": [],
   "source": [
    "# Drop patient_id column\n",
    "\n",
    "df_vitals_d1=df_vitals_d1.drop(columns=['patient_id'])"
   ]
  },
  {
   "cell_type": "code",
   "execution_count": 17,
   "id": "e2889e1f",
   "metadata": {},
   "outputs": [
    {
     "data": {
      "text/html": [
       "<div>\n",
       "<style scoped>\n",
       "    .dataframe tbody tr th:only-of-type {\n",
       "        vertical-align: middle;\n",
       "    }\n",
       "\n",
       "    .dataframe tbody tr th {\n",
       "        vertical-align: top;\n",
       "    }\n",
       "\n",
       "    .dataframe thead th {\n",
       "        text-align: right;\n",
       "    }\n",
       "</style>\n",
       "<table border=\"1\" class=\"dataframe\">\n",
       "  <thead>\n",
       "    <tr style=\"text-align: right;\">\n",
       "      <th></th>\n",
       "      <th>d1_diasbp_max</th>\n",
       "      <th>d1_diasbp_min</th>\n",
       "      <th>d1_diasbp_noninvasive_max</th>\n",
       "      <th>d1_diasbp_noninvasive_min</th>\n",
       "      <th>d1_heartrate_max</th>\n",
       "      <th>d1_heartrate_min</th>\n",
       "      <th>d1_mbp_max</th>\n",
       "      <th>d1_mbp_min</th>\n",
       "      <th>d1_mbp_noninvasive_max</th>\n",
       "      <th>d1_mbp_noninvasive_min</th>\n",
       "      <th>d1_resprate_max</th>\n",
       "      <th>d1_resprate_min</th>\n",
       "      <th>d1_spo2_max</th>\n",
       "      <th>d1_spo2_min</th>\n",
       "      <th>d1_sysbp_max</th>\n",
       "      <th>d1_sysbp_min</th>\n",
       "      <th>d1_sysbp_noninvasive_max</th>\n",
       "      <th>d1_sysbp_noninvasive_min</th>\n",
       "      <th>d1_temp_max</th>\n",
       "      <th>d1_temp_min</th>\n",
       "    </tr>\n",
       "  </thead>\n",
       "  <tbody>\n",
       "    <tr>\n",
       "      <th>0</th>\n",
       "      <td>68</td>\n",
       "      <td>37</td>\n",
       "      <td>68</td>\n",
       "      <td>37</td>\n",
       "      <td>119</td>\n",
       "      <td>72</td>\n",
       "      <td>89</td>\n",
       "      <td>46</td>\n",
       "      <td>89</td>\n",
       "      <td>46</td>\n",
       "      <td>34</td>\n",
       "      <td>10</td>\n",
       "      <td>100</td>\n",
       "      <td>74</td>\n",
       "      <td>131</td>\n",
       "      <td>73</td>\n",
       "      <td>131</td>\n",
       "      <td>73.0</td>\n",
       "      <td>39.9</td>\n",
       "      <td>37.2</td>\n",
       "    </tr>\n",
       "    <tr>\n",
       "      <th>1</th>\n",
       "      <td>95</td>\n",
       "      <td>31</td>\n",
       "      <td>95</td>\n",
       "      <td>31</td>\n",
       "      <td>118</td>\n",
       "      <td>72</td>\n",
       "      <td>120</td>\n",
       "      <td>38</td>\n",
       "      <td>120</td>\n",
       "      <td>38</td>\n",
       "      <td>32</td>\n",
       "      <td>12</td>\n",
       "      <td>100</td>\n",
       "      <td>70</td>\n",
       "      <td>159</td>\n",
       "      <td>67</td>\n",
       "      <td>159</td>\n",
       "      <td>67.0</td>\n",
       "      <td>36.3</td>\n",
       "      <td>35.1</td>\n",
       "    </tr>\n",
       "    <tr>\n",
       "      <th>2</th>\n",
       "      <td>88</td>\n",
       "      <td>48</td>\n",
       "      <td>88</td>\n",
       "      <td>48</td>\n",
       "      <td>96</td>\n",
       "      <td>68</td>\n",
       "      <td>102</td>\n",
       "      <td>68</td>\n",
       "      <td>102</td>\n",
       "      <td>68</td>\n",
       "      <td>21</td>\n",
       "      <td>8</td>\n",
       "      <td>98</td>\n",
       "      <td>91</td>\n",
       "      <td>148</td>\n",
       "      <td>105</td>\n",
       "      <td>148</td>\n",
       "      <td>105.0</td>\n",
       "      <td>37.0</td>\n",
       "      <td>36.7</td>\n",
       "    </tr>\n",
       "    <tr>\n",
       "      <th>3</th>\n",
       "      <td>48</td>\n",
       "      <td>42</td>\n",
       "      <td>48</td>\n",
       "      <td>42</td>\n",
       "      <td>116</td>\n",
       "      <td>92</td>\n",
       "      <td>84</td>\n",
       "      <td>84</td>\n",
       "      <td>84</td>\n",
       "      <td>84</td>\n",
       "      <td>23</td>\n",
       "      <td>7</td>\n",
       "      <td>100</td>\n",
       "      <td>95</td>\n",
       "      <td>158</td>\n",
       "      <td>84</td>\n",
       "      <td>158</td>\n",
       "      <td>84.0</td>\n",
       "      <td>38.0</td>\n",
       "      <td>34.8</td>\n",
       "    </tr>\n",
       "    <tr>\n",
       "      <th>4</th>\n",
       "      <td>100</td>\n",
       "      <td>61</td>\n",
       "      <td>100</td>\n",
       "      <td>61</td>\n",
       "      <td>113</td>\n",
       "      <td>83</td>\n",
       "      <td>127</td>\n",
       "      <td>80</td>\n",
       "      <td>127</td>\n",
       "      <td>80</td>\n",
       "      <td>32</td>\n",
       "      <td>10</td>\n",
       "      <td>97</td>\n",
       "      <td>91</td>\n",
       "      <td>173</td>\n",
       "      <td>107</td>\n",
       "      <td>173</td>\n",
       "      <td>107.0</td>\n",
       "      <td>36.8</td>\n",
       "      <td>36.6</td>\n",
       "    </tr>\n",
       "  </tbody>\n",
       "</table>\n",
       "</div>"
      ],
      "text/plain": [
       "   d1_diasbp_max  d1_diasbp_min  d1_diasbp_noninvasive_max  \\\n",
       "0             68             37                         68   \n",
       "1             95             31                         95   \n",
       "2             88             48                         88   \n",
       "3             48             42                         48   \n",
       "4            100             61                        100   \n",
       "\n",
       "   d1_diasbp_noninvasive_min  d1_heartrate_max  d1_heartrate_min  d1_mbp_max  \\\n",
       "0                         37               119                72          89   \n",
       "1                         31               118                72         120   \n",
       "2                         48                96                68         102   \n",
       "3                         42               116                92          84   \n",
       "4                         61               113                83         127   \n",
       "\n",
       "   d1_mbp_min  d1_mbp_noninvasive_max  d1_mbp_noninvasive_min  \\\n",
       "0          46                      89                      46   \n",
       "1          38                     120                      38   \n",
       "2          68                     102                      68   \n",
       "3          84                      84                      84   \n",
       "4          80                     127                      80   \n",
       "\n",
       "   d1_resprate_max  d1_resprate_min  d1_spo2_max  d1_spo2_min  d1_sysbp_max  \\\n",
       "0               34               10          100           74           131   \n",
       "1               32               12          100           70           159   \n",
       "2               21                8           98           91           148   \n",
       "3               23                7          100           95           158   \n",
       "4               32               10           97           91           173   \n",
       "\n",
       "   d1_sysbp_min  d1_sysbp_noninvasive_max  d1_sysbp_noninvasive_min  \\\n",
       "0            73                       131                      73.0   \n",
       "1            67                       159                      67.0   \n",
       "2           105                       148                     105.0   \n",
       "3            84                       158                      84.0   \n",
       "4           107                       173                     107.0   \n",
       "\n",
       "   d1_temp_max  d1_temp_min  \n",
       "0         39.9         37.2  \n",
       "1         36.3         35.1  \n",
       "2         37.0         36.7  \n",
       "3         38.0         34.8  \n",
       "4         36.8         36.6  "
      ]
     },
     "execution_count": 17,
     "metadata": {},
     "output_type": "execute_result"
    }
   ],
   "source": [
    "# Create our features\n",
    "\n",
    "X = df_vitals_d1.drop('hospital_death', axis=1)\n",
    "\n",
    "\n",
    "X.head()"
   ]
  },
  {
   "cell_type": "code",
   "execution_count": 18,
   "id": "a89f76d0",
   "metadata": {},
   "outputs": [
    {
     "data": {
      "text/plain": [
       "<bound method NDFrame.describe of        d1_diasbp_max  d1_diasbp_min  d1_diasbp_noninvasive_max  \\\n",
       "0                 68             37                         68   \n",
       "1                 95             31                         95   \n",
       "2                 88             48                         88   \n",
       "3                 48             42                         48   \n",
       "4                100             61                        100   \n",
       "...              ...            ...                        ...   \n",
       "73257             83             57                         83   \n",
       "73258            102             54                        102   \n",
       "73259            104             44                        104   \n",
       "73260             73             40                         73   \n",
       "73261             47             32                         47   \n",
       "\n",
       "       d1_diasbp_noninvasive_min  d1_heartrate_max  d1_heartrate_min  \\\n",
       "0                             37               119                72   \n",
       "1                             31               118                72   \n",
       "2                             48                96                68   \n",
       "3                             42               116                92   \n",
       "4                             61               113                83   \n",
       "...                          ...               ...               ...   \n",
       "73257                         57               137                93   \n",
       "73258                         54                78                55   \n",
       "73259                         44               115                70   \n",
       "73260                         40               100                76   \n",
       "73261                         32               104                71   \n",
       "\n",
       "       d1_mbp_max  d1_mbp_min  d1_mbp_noninvasive_max  d1_mbp_noninvasive_min  \\\n",
       "0              89          46                      89                      46   \n",
       "1             120          38                     120                      38   \n",
       "2             102          68                     102                      68   \n",
       "3              84          84                      84                      84   \n",
       "4             127          80                     127                      80   \n",
       "...           ...         ...                     ...                     ...   \n",
       "73257          91          66                      91                      66   \n",
       "73258         111          62                     111                      62   \n",
       "73259         109          48                     109                      48   \n",
       "73260          82          47                      82                      47   \n",
       "73261          68          55                      68                      55   \n",
       "\n",
       "       d1_resprate_max  d1_resprate_min  d1_spo2_max  d1_spo2_min  \\\n",
       "0                   34               10          100           74   \n",
       "1                   32               12          100           70   \n",
       "2                   21                8           98           91   \n",
       "3                   23                7          100           95   \n",
       "4                   32               10           97           91   \n",
       "...                ...              ...          ...          ...   \n",
       "73257               21                8          100           93   \n",
       "73258               23               12          100           90   \n",
       "73259               27                9          100           85   \n",
       "73260               33               12          100           45   \n",
       "73261               27                0          100           91   \n",
       "\n",
       "       d1_sysbp_max  d1_sysbp_min  d1_sysbp_noninvasive_max  \\\n",
       "0               131            73                       131   \n",
       "1               159            67                       159   \n",
       "2               148           105                       148   \n",
       "3               158            84                       158   \n",
       "4               173           107                       173   \n",
       "...             ...           ...                       ...   \n",
       "73257           119            87                       119   \n",
       "73258           169            90                       169   \n",
       "73259           128            67                       128   \n",
       "73260           127            65                       127   \n",
       "73261           110            85                       110   \n",
       "\n",
       "       d1_sysbp_noninvasive_min  d1_temp_max  d1_temp_min  \n",
       "0                          73.0         39.9         37.2  \n",
       "1                          67.0         36.3         35.1  \n",
       "2                         105.0         37.0         36.7  \n",
       "3                          84.0         38.0         34.8  \n",
       "4                         107.0         36.8         36.6  \n",
       "...                         ...          ...          ...  \n",
       "73257                      87.0         37.7         36.5  \n",
       "73258                      90.0         36.6         36.6  \n",
       "73259                      67.0         38.2         36.6  \n",
       "73260                      65.0         37.4         36.1  \n",
       "73261                      85.0         36.7         36.0  \n",
       "\n",
       "[73262 rows x 20 columns]>"
      ]
     },
     "execution_count": 18,
     "metadata": {},
     "output_type": "execute_result"
    }
   ],
   "source": [
    "X.describe"
   ]
  },
  {
   "cell_type": "code",
   "execution_count": 19,
   "id": "c493574b",
   "metadata": {},
   "outputs": [
    {
     "data": {
      "text/plain": [
       "0    67400\n",
       "1     5862\n",
       "Name: hospital_death, dtype: int64"
      ]
     },
     "execution_count": 19,
     "metadata": {},
     "output_type": "execute_result"
    }
   ],
   "source": [
    "#Create our target \n",
    "\n",
    "y = df_vitals_d1['hospital_death']\n",
    "\n",
    "y.value_counts()"
   ]
  },
  {
   "cell_type": "code",
   "execution_count": 20,
   "id": "fec0a38b",
   "metadata": {},
   "outputs": [],
   "source": [
    "# Split data into Training and Testing\n",
    "\n",
    "X_train, X_test, y_train, y_test = train_test_split(X, y, random_state=1, stratify=y)"
   ]
  },
  {
   "cell_type": "code",
   "execution_count": 21,
   "id": "c1c4b6ff",
   "metadata": {},
   "outputs": [
    {
     "name": "stdout",
     "output_type": "stream",
     "text": [
      "Counter({0: 50550, 1: 4396})\n",
      "Counter({0: 16850, 1: 1466})\n"
     ]
    }
   ],
   "source": [
    "# Check balances\n",
    "print(Counter(y_train))\n",
    "print(Counter(y_test))"
   ]
  },
  {
   "cell_type": "code",
   "execution_count": 22,
   "id": "5d336852",
   "metadata": {},
   "outputs": [
    {
     "data": {
      "text/plain": [
       "BalancedRandomForestClassifier(random_state=1)"
      ]
     },
     "execution_count": 22,
     "metadata": {},
     "output_type": "execute_result"
    }
   ],
   "source": [
    "# Instantiate RBC\n",
    "\n",
    "brfc = BalancedRandomForestClassifier(n_estimators=100, random_state=1)\n",
    "\n",
    "# Fit\n",
    "\n",
    "brfc.fit(X_train, y_train)"
   ]
  },
  {
   "cell_type": "code",
   "execution_count": 23,
   "id": "d91802b0",
   "metadata": {},
   "outputs": [
    {
     "data": {
      "text/plain": [
       "0.7331600147355892"
      ]
     },
     "execution_count": 23,
     "metadata": {},
     "output_type": "execute_result"
    }
   ],
   "source": [
    "# Calculated the balanced accuracy score\n",
    "y_pred = brfc.predict(X_test)\n",
    "RandomForest_accuracy_vitals_d1 = balanced_accuracy_score(y_test, y_pred)\n",
    "\n",
    "RandomForest_accuracy_vitals_d1"
   ]
  },
  {
   "cell_type": "code",
   "execution_count": 24,
   "id": "436f9db6",
   "metadata": {},
   "outputs": [
    {
     "data": {
      "text/html": [
       "<div>\n",
       "<style scoped>\n",
       "    .dataframe tbody tr th:only-of-type {\n",
       "        vertical-align: middle;\n",
       "    }\n",
       "\n",
       "    .dataframe tbody tr th {\n",
       "        vertical-align: top;\n",
       "    }\n",
       "\n",
       "    .dataframe thead th {\n",
       "        text-align: right;\n",
       "    }\n",
       "</style>\n",
       "<table border=\"1\" class=\"dataframe\">\n",
       "  <thead>\n",
       "    <tr style=\"text-align: right;\">\n",
       "      <th></th>\n",
       "      <th>Predicted Survival</th>\n",
       "      <th>Predicted Death</th>\n",
       "    </tr>\n",
       "  </thead>\n",
       "  <tbody>\n",
       "    <tr>\n",
       "      <th>Actual Survival</th>\n",
       "      <td>12524</td>\n",
       "      <td>4326</td>\n",
       "    </tr>\n",
       "    <tr>\n",
       "      <th>Actual Death</th>\n",
       "      <td>406</td>\n",
       "      <td>1060</td>\n",
       "    </tr>\n",
       "  </tbody>\n",
       "</table>\n",
       "</div>"
      ],
      "text/plain": [
       "                 Predicted Survival  Predicted Death\n",
       "Actual Survival               12524             4326\n",
       "Actual Death                    406             1060"
      ]
     },
     "execution_count": 24,
     "metadata": {},
     "output_type": "execute_result"
    }
   ],
   "source": [
    "# Display the confusion matrix\n",
    "# Calculating the confusion matrix\n",
    "cm = confusion_matrix(y_test, y_pred)\n",
    "\n",
    "\n",
    "# Create a DataFrame from the confusion matrix.\n",
    "cm_df = pd.DataFrame(\n",
    "    cm, index=[\"Actual Survival\", \"Actual Death\"], columns=[\"Predicted Survival\", \"Predicted Death\"])\n",
    "\n",
    "cm_df"
   ]
  },
  {
   "cell_type": "code",
   "execution_count": 25,
   "id": "4c8f1437",
   "metadata": {},
   "outputs": [
    {
     "name": "stdout",
     "output_type": "stream",
     "text": [
      "                   pre       rec       spe        f1       geo       iba       sup\n",
      "\n",
      "          0       0.97      0.74      0.72      0.84      0.73      0.54     16850\n",
      "          1       0.20      0.72      0.74      0.31      0.73      0.54      1466\n",
      "\n",
      "avg / total       0.91      0.74      0.72      0.80      0.73      0.54     18316\n",
      "\n"
     ]
    }
   ],
   "source": [
    "# Print the imbalanced classification report\n",
    "print(classification_report_imbalanced(y_test, y_pred))"
   ]
  },
  {
   "cell_type": "code",
   "execution_count": 26,
   "id": "315f73fd",
   "metadata": {},
   "outputs": [
    {
     "name": "stdout",
     "output_type": "stream",
     "text": [
      "d1_temp_min: (0.08221067493229833)\n",
      "d1_sysbp_min: (0.07040176372708373)\n",
      "d1_sysbp_noninvasive_min: (0.07028509772493469)\n",
      "d1_spo2_min: (0.0694960027802098)\n",
      "d1_heartrate_max: (0.06824034396987907)\n",
      "d1_temp_max: (0.06296546476599996)\n",
      "d1_resprate_max: (0.058963896668094866)\n",
      "d1_heartrate_min: (0.05448626333040839)\n",
      "d1_resprate_min: (0.04873708207569174)\n",
      "d1_mbp_noninvasive_min: (0.048540798201939975)\n",
      "d1_mbp_min: (0.04630810352592036)\n",
      "d1_diasbp_noninvasive_min: (0.04123435654808553)\n",
      "d1_sysbp_max: (0.04085902257636915)\n",
      "d1_sysbp_noninvasive_max: (0.040599114584535086)\n",
      "d1_diasbp_noninvasive_max: (0.03737905605516293)\n",
      "d1_diasbp_max: (0.036995441086740403)\n",
      "d1_diasbp_min: (0.03693767184455811)\n",
      "d1_mbp_noninvasive_max: (0.03610772495052992)\n",
      "d1_mbp_max: (0.035388828721079416)\n",
      "d1_spo2_max: (0.013863291930478703)\n"
     ]
    }
   ],
   "source": [
    "# List the features sorted in descending order by feature importance\n",
    "features_rank = sorted(zip(brfc.feature_importances_, X.columns), reverse=True)\n",
    "for feature in features_rank:\n",
    "    print(f\"{feature[1]}: ({feature[0]})\")"
   ]
  },
  {
   "cell_type": "code",
   "execution_count": 27,
   "id": "b74a52d9",
   "metadata": {},
   "outputs": [
    {
     "data": {
      "text/plain": [
       "Text(0.5, 1.0, 'Feature Importance Day 1 Vitals')"
      ]
     },
     "execution_count": 27,
     "metadata": {},
     "output_type": "execute_result"
    },
    {
     "data": {
      "image/png": "[encoded data removed]",
      "text/plain": [
       "<Figure size 864x432 with 1 Axes>"
      ]
     },
     "metadata": {
      "needs_background": "light"
     },
     "output_type": "display_data"
    }
   ],
   "source": [
    "# Plot Features \n",
    "\n",
    "feature_importance = brfc.feature_importances_\n",
    "sorted_idx = np.argsort(feature_importance)\n",
    "fit = plt.figure(figsize=(12,6))\n",
    "plt.barh(range(len(sorted_idx)), feature_importance[sorted_idx], align='center')\n",
    "plt.yticks(range(len(sorted_idx)), np.array(X_test.columns)[sorted_idx])\n",
    "plt.title('Feature Importance Day 1 Vitals')"
   ]
  },
  {
   "cell_type": "markdown",
   "id": "973d4172",
   "metadata": {},
   "source": [
    "### All Patient Vitals Taken in ICU"
   ]
  },
  {
   "cell_type": "code",
   "execution_count": 28,
   "id": "37617755",
   "metadata": {},
   "outputs": [
    {
     "data": {
      "text/html": [
       "<div>\n",
       "<style scoped>\n",
       "    .dataframe tbody tr th:only-of-type {\n",
       "        vertical-align: middle;\n",
       "    }\n",
       "\n",
       "    .dataframe tbody tr th {\n",
       "        vertical-align: top;\n",
       "    }\n",
       "\n",
       "    .dataframe thead th {\n",
       "        text-align: right;\n",
       "    }\n",
       "</style>\n",
       "<table border=\"1\" class=\"dataframe\">\n",
       "  <thead>\n",
       "    <tr style=\"text-align: right;\">\n",
       "      <th></th>\n",
       "      <th>patient_id</th>\n",
       "      <th>d1_diasbp_max</th>\n",
       "      <th>d1_diasbp_min</th>\n",
       "      <th>d1_diasbp_noninvasive_max</th>\n",
       "      <th>d1_diasbp_noninvasive_min</th>\n",
       "      <th>d1_heartrate_max</th>\n",
       "      <th>d1_heartrate_min</th>\n",
       "      <th>d1_mbp_max</th>\n",
       "      <th>d1_mbp_min</th>\n",
       "      <th>d1_mbp_noninvasive_max</th>\n",
       "      <th>...</th>\n",
       "      <th>h1_heartrate_min</th>\n",
       "      <th>h1_mbp_max</th>\n",
       "      <th>h1_mbp_min</th>\n",
       "      <th>h1_resprate_max</th>\n",
       "      <th>h1_resprate_min</th>\n",
       "      <th>h1_spo2_max</th>\n",
       "      <th>h1_spo2_min</th>\n",
       "      <th>h1_sysbp_max</th>\n",
       "      <th>h1_sysbp_min</th>\n",
       "      <th>hospital_death</th>\n",
       "    </tr>\n",
       "  </thead>\n",
       "  <tbody>\n",
       "    <tr>\n",
       "      <th>0</th>\n",
       "      <td>25312</td>\n",
       "      <td>68</td>\n",
       "      <td>37</td>\n",
       "      <td>68</td>\n",
       "      <td>37</td>\n",
       "      <td>119</td>\n",
       "      <td>72</td>\n",
       "      <td>89</td>\n",
       "      <td>46</td>\n",
       "      <td>89</td>\n",
       "      <td>...</td>\n",
       "      <td>108</td>\n",
       "      <td>86</td>\n",
       "      <td>85</td>\n",
       "      <td>26</td>\n",
       "      <td>18</td>\n",
       "      <td>100</td>\n",
       "      <td>74</td>\n",
       "      <td>131</td>\n",
       "      <td>115</td>\n",
       "      <td>0</td>\n",
       "    </tr>\n",
       "    <tr>\n",
       "      <th>1</th>\n",
       "      <td>59342</td>\n",
       "      <td>95</td>\n",
       "      <td>31</td>\n",
       "      <td>95</td>\n",
       "      <td>31</td>\n",
       "      <td>118</td>\n",
       "      <td>72</td>\n",
       "      <td>120</td>\n",
       "      <td>38</td>\n",
       "      <td>120</td>\n",
       "      <td>...</td>\n",
       "      <td>100</td>\n",
       "      <td>85</td>\n",
       "      <td>57</td>\n",
       "      <td>31</td>\n",
       "      <td>28</td>\n",
       "      <td>95</td>\n",
       "      <td>70</td>\n",
       "      <td>95</td>\n",
       "      <td>71</td>\n",
       "      <td>0</td>\n",
       "    </tr>\n",
       "    <tr>\n",
       "      <th>2</th>\n",
       "      <td>50777</td>\n",
       "      <td>88</td>\n",
       "      <td>48</td>\n",
       "      <td>88</td>\n",
       "      <td>48</td>\n",
       "      <td>96</td>\n",
       "      <td>68</td>\n",
       "      <td>102</td>\n",
       "      <td>68</td>\n",
       "      <td>102</td>\n",
       "      <td>...</td>\n",
       "      <td>78</td>\n",
       "      <td>91</td>\n",
       "      <td>83</td>\n",
       "      <td>20</td>\n",
       "      <td>16</td>\n",
       "      <td>98</td>\n",
       "      <td>91</td>\n",
       "      <td>148</td>\n",
       "      <td>124</td>\n",
       "      <td>0</td>\n",
       "    </tr>\n",
       "    <tr>\n",
       "      <th>3</th>\n",
       "      <td>46918</td>\n",
       "      <td>48</td>\n",
       "      <td>42</td>\n",
       "      <td>48</td>\n",
       "      <td>42</td>\n",
       "      <td>116</td>\n",
       "      <td>92</td>\n",
       "      <td>84</td>\n",
       "      <td>84</td>\n",
       "      <td>84</td>\n",
       "      <td>...</td>\n",
       "      <td>96</td>\n",
       "      <td>92</td>\n",
       "      <td>71</td>\n",
       "      <td>12</td>\n",
       "      <td>11</td>\n",
       "      <td>100</td>\n",
       "      <td>99</td>\n",
       "      <td>136</td>\n",
       "      <td>106</td>\n",
       "      <td>0</td>\n",
       "    </tr>\n",
       "    <tr>\n",
       "      <th>4</th>\n",
       "      <td>74489</td>\n",
       "      <td>100</td>\n",
       "      <td>61</td>\n",
       "      <td>100</td>\n",
       "      <td>61</td>\n",
       "      <td>113</td>\n",
       "      <td>83</td>\n",
       "      <td>127</td>\n",
       "      <td>80</td>\n",
       "      <td>127</td>\n",
       "      <td>...</td>\n",
       "      <td>83</td>\n",
       "      <td>111</td>\n",
       "      <td>111</td>\n",
       "      <td>12</td>\n",
       "      <td>12</td>\n",
       "      <td>97</td>\n",
       "      <td>97</td>\n",
       "      <td>143</td>\n",
       "      <td>143</td>\n",
       "      <td>0</td>\n",
       "    </tr>\n",
       "  </tbody>\n",
       "</table>\n",
       "<p>5 rows × 34 columns</p>\n",
       "</div>"
      ],
      "text/plain": [
       "   patient_id  d1_diasbp_max  d1_diasbp_min  d1_diasbp_noninvasive_max  \\\n",
       "0       25312             68             37                         68   \n",
       "1       59342             95             31                         95   \n",
       "2       50777             88             48                         88   \n",
       "3       46918             48             42                         48   \n",
       "4       74489            100             61                        100   \n",
       "\n",
       "   d1_diasbp_noninvasive_min  d1_heartrate_max  d1_heartrate_min  d1_mbp_max  \\\n",
       "0                         37               119                72          89   \n",
       "1                         31               118                72         120   \n",
       "2                         48                96                68         102   \n",
       "3                         42               116                92          84   \n",
       "4                         61               113                83         127   \n",
       "\n",
       "   d1_mbp_min  d1_mbp_noninvasive_max  ...  h1_heartrate_min  h1_mbp_max  \\\n",
       "0          46                      89  ...               108          86   \n",
       "1          38                     120  ...               100          85   \n",
       "2          68                     102  ...                78          91   \n",
       "3          84                      84  ...                96          92   \n",
       "4          80                     127  ...                83         111   \n",
       "\n",
       "   h1_mbp_min  h1_resprate_max  h1_resprate_min  h1_spo2_max  h1_spo2_min  \\\n",
       "0          85               26               18          100           74   \n",
       "1          57               31               28           95           70   \n",
       "2          83               20               16           98           91   \n",
       "3          71               12               11          100           99   \n",
       "4         111               12               12           97           97   \n",
       "\n",
       "   h1_sysbp_max  h1_sysbp_min  hospital_death  \n",
       "0           131           115               0  \n",
       "1            95            71               0  \n",
       "2           148           124               0  \n",
       "3           136           106               0  \n",
       "4           143           143               0  \n",
       "\n",
       "[5 rows x 34 columns]"
      ]
     },
     "execution_count": 28,
     "metadata": {},
     "output_type": "execute_result"
    }
   ],
   "source": [
    "file_path = Path(\"C:/Users/emili/Class/Patient_Survival_Prediction/Machine_Learning/Resources/vitals_all_patient.csv\")\n",
    "df_vitals_all = pd.read_csv(file_path)\n",
    "df_vitals_all.head()"
   ]
  },
  {
   "cell_type": "code",
   "execution_count": 29,
   "id": "2d2332da",
   "metadata": {},
   "outputs": [],
   "source": [
    "# Drop patient_id column\n",
    "\n",
    "df_vitals_all=df_vitals_all.drop(columns=['patient_id'])"
   ]
  },
  {
   "cell_type": "code",
   "execution_count": 30,
   "id": "0ea3b2ed",
   "metadata": {},
   "outputs": [
    {
     "data": {
      "text/html": [
       "<div>\n",
       "<style scoped>\n",
       "    .dataframe tbody tr th:only-of-type {\n",
       "        vertical-align: middle;\n",
       "    }\n",
       "\n",
       "    .dataframe tbody tr th {\n",
       "        vertical-align: top;\n",
       "    }\n",
       "\n",
       "    .dataframe thead th {\n",
       "        text-align: right;\n",
       "    }\n",
       "</style>\n",
       "<table border=\"1\" class=\"dataframe\">\n",
       "  <thead>\n",
       "    <tr style=\"text-align: right;\">\n",
       "      <th></th>\n",
       "      <th>d1_diasbp_max</th>\n",
       "      <th>d1_diasbp_min</th>\n",
       "      <th>d1_diasbp_noninvasive_max</th>\n",
       "      <th>d1_diasbp_noninvasive_min</th>\n",
       "      <th>d1_heartrate_max</th>\n",
       "      <th>d1_heartrate_min</th>\n",
       "      <th>d1_mbp_max</th>\n",
       "      <th>d1_mbp_min</th>\n",
       "      <th>d1_mbp_noninvasive_max</th>\n",
       "      <th>d1_mbp_noninvasive_min</th>\n",
       "      <th>...</th>\n",
       "      <th>h1_heartrate_max</th>\n",
       "      <th>h1_heartrate_min</th>\n",
       "      <th>h1_mbp_max</th>\n",
       "      <th>h1_mbp_min</th>\n",
       "      <th>h1_resprate_max</th>\n",
       "      <th>h1_resprate_min</th>\n",
       "      <th>h1_spo2_max</th>\n",
       "      <th>h1_spo2_min</th>\n",
       "      <th>h1_sysbp_max</th>\n",
       "      <th>h1_sysbp_min</th>\n",
       "    </tr>\n",
       "  </thead>\n",
       "  <tbody>\n",
       "    <tr>\n",
       "      <th>0</th>\n",
       "      <td>68</td>\n",
       "      <td>37</td>\n",
       "      <td>68</td>\n",
       "      <td>37</td>\n",
       "      <td>119</td>\n",
       "      <td>72</td>\n",
       "      <td>89</td>\n",
       "      <td>46</td>\n",
       "      <td>89</td>\n",
       "      <td>46</td>\n",
       "      <td>...</td>\n",
       "      <td>119</td>\n",
       "      <td>108</td>\n",
       "      <td>86</td>\n",
       "      <td>85</td>\n",
       "      <td>26</td>\n",
       "      <td>18</td>\n",
       "      <td>100</td>\n",
       "      <td>74</td>\n",
       "      <td>131</td>\n",
       "      <td>115</td>\n",
       "    </tr>\n",
       "    <tr>\n",
       "      <th>1</th>\n",
       "      <td>95</td>\n",
       "      <td>31</td>\n",
       "      <td>95</td>\n",
       "      <td>31</td>\n",
       "      <td>118</td>\n",
       "      <td>72</td>\n",
       "      <td>120</td>\n",
       "      <td>38</td>\n",
       "      <td>120</td>\n",
       "      <td>38</td>\n",
       "      <td>...</td>\n",
       "      <td>114</td>\n",
       "      <td>100</td>\n",
       "      <td>85</td>\n",
       "      <td>57</td>\n",
       "      <td>31</td>\n",
       "      <td>28</td>\n",
       "      <td>95</td>\n",
       "      <td>70</td>\n",
       "      <td>95</td>\n",
       "      <td>71</td>\n",
       "    </tr>\n",
       "    <tr>\n",
       "      <th>2</th>\n",
       "      <td>88</td>\n",
       "      <td>48</td>\n",
       "      <td>88</td>\n",
       "      <td>48</td>\n",
       "      <td>96</td>\n",
       "      <td>68</td>\n",
       "      <td>102</td>\n",
       "      <td>68</td>\n",
       "      <td>102</td>\n",
       "      <td>68</td>\n",
       "      <td>...</td>\n",
       "      <td>96</td>\n",
       "      <td>78</td>\n",
       "      <td>91</td>\n",
       "      <td>83</td>\n",
       "      <td>20</td>\n",
       "      <td>16</td>\n",
       "      <td>98</td>\n",
       "      <td>91</td>\n",
       "      <td>148</td>\n",
       "      <td>124</td>\n",
       "    </tr>\n",
       "    <tr>\n",
       "      <th>3</th>\n",
       "      <td>48</td>\n",
       "      <td>42</td>\n",
       "      <td>48</td>\n",
       "      <td>42</td>\n",
       "      <td>116</td>\n",
       "      <td>92</td>\n",
       "      <td>84</td>\n",
       "      <td>84</td>\n",
       "      <td>84</td>\n",
       "      <td>84</td>\n",
       "      <td>...</td>\n",
       "      <td>100</td>\n",
       "      <td>96</td>\n",
       "      <td>92</td>\n",
       "      <td>71</td>\n",
       "      <td>12</td>\n",
       "      <td>11</td>\n",
       "      <td>100</td>\n",
       "      <td>99</td>\n",
       "      <td>136</td>\n",
       "      <td>106</td>\n",
       "    </tr>\n",
       "    <tr>\n",
       "      <th>4</th>\n",
       "      <td>100</td>\n",
       "      <td>61</td>\n",
       "      <td>100</td>\n",
       "      <td>61</td>\n",
       "      <td>113</td>\n",
       "      <td>83</td>\n",
       "      <td>127</td>\n",
       "      <td>80</td>\n",
       "      <td>127</td>\n",
       "      <td>80</td>\n",
       "      <td>...</td>\n",
       "      <td>83</td>\n",
       "      <td>83</td>\n",
       "      <td>111</td>\n",
       "      <td>111</td>\n",
       "      <td>12</td>\n",
       "      <td>12</td>\n",
       "      <td>97</td>\n",
       "      <td>97</td>\n",
       "      <td>143</td>\n",
       "      <td>143</td>\n",
       "    </tr>\n",
       "  </tbody>\n",
       "</table>\n",
       "<p>5 rows × 32 columns</p>\n",
       "</div>"
      ],
      "text/plain": [
       "   d1_diasbp_max  d1_diasbp_min  d1_diasbp_noninvasive_max  \\\n",
       "0             68             37                         68   \n",
       "1             95             31                         95   \n",
       "2             88             48                         88   \n",
       "3             48             42                         48   \n",
       "4            100             61                        100   \n",
       "\n",
       "   d1_diasbp_noninvasive_min  d1_heartrate_max  d1_heartrate_min  d1_mbp_max  \\\n",
       "0                         37               119                72          89   \n",
       "1                         31               118                72         120   \n",
       "2                         48                96                68         102   \n",
       "3                         42               116                92          84   \n",
       "4                         61               113                83         127   \n",
       "\n",
       "   d1_mbp_min  d1_mbp_noninvasive_max  d1_mbp_noninvasive_min  ...  \\\n",
       "0          46                      89                      46  ...   \n",
       "1          38                     120                      38  ...   \n",
       "2          68                     102                      68  ...   \n",
       "3          84                      84                      84  ...   \n",
       "4          80                     127                      80  ...   \n",
       "\n",
       "   h1_heartrate_max  h1_heartrate_min  h1_mbp_max  h1_mbp_min  \\\n",
       "0               119               108          86          85   \n",
       "1               114               100          85          57   \n",
       "2                96                78          91          83   \n",
       "3               100                96          92          71   \n",
       "4                83                83         111         111   \n",
       "\n",
       "   h1_resprate_max  h1_resprate_min  h1_spo2_max  h1_spo2_min  h1_sysbp_max  \\\n",
       "0               26               18          100           74           131   \n",
       "1               31               28           95           70            95   \n",
       "2               20               16           98           91           148   \n",
       "3               12               11          100           99           136   \n",
       "4               12               12           97           97           143   \n",
       "\n",
       "   h1_sysbp_min  \n",
       "0           115  \n",
       "1            71  \n",
       "2           124  \n",
       "3           106  \n",
       "4           143  \n",
       "\n",
       "[5 rows x 32 columns]"
      ]
     },
     "execution_count": 30,
     "metadata": {},
     "output_type": "execute_result"
    }
   ],
   "source": [
    "# Create our features\n",
    "\n",
    "X = df_vitals_all.drop('hospital_death', axis=1)\n",
    "\n",
    "\n",
    "X.head()"
   ]
  },
  {
   "cell_type": "code",
   "execution_count": 31,
   "id": "b57a58d7",
   "metadata": {},
   "outputs": [
    {
     "data": {
      "text/plain": [
       "<bound method NDFrame.describe of        d1_diasbp_max  d1_diasbp_min  d1_diasbp_noninvasive_max  \\\n",
       "0                 68             37                         68   \n",
       "1                 95             31                         95   \n",
       "2                 88             48                         88   \n",
       "3                 48             42                         48   \n",
       "4                100             61                        100   \n",
       "...              ...            ...                        ...   \n",
       "73257             83             57                         83   \n",
       "73258            102             54                        102   \n",
       "73259            104             44                        104   \n",
       "73260             73             40                         73   \n",
       "73261             47             32                         47   \n",
       "\n",
       "       d1_diasbp_noninvasive_min  d1_heartrate_max  d1_heartrate_min  \\\n",
       "0                             37               119                72   \n",
       "1                             31               118                72   \n",
       "2                             48                96                68   \n",
       "3                             42               116                92   \n",
       "4                             61               113                83   \n",
       "...                          ...               ...               ...   \n",
       "73257                         57               137                93   \n",
       "73258                         54                78                55   \n",
       "73259                         44               115                70   \n",
       "73260                         40               100                76   \n",
       "73261                         32               104                71   \n",
       "\n",
       "       d1_mbp_max  d1_mbp_min  d1_mbp_noninvasive_max  d1_mbp_noninvasive_min  \\\n",
       "0              89          46                      89                      46   \n",
       "1             120          38                     120                      38   \n",
       "2             102          68                     102                      68   \n",
       "3              84          84                      84                      84   \n",
       "4             127          80                     127                      80   \n",
       "...           ...         ...                     ...                     ...   \n",
       "73257          91          66                      91                      66   \n",
       "73258         111          62                     111                      62   \n",
       "73259         109          48                     109                      48   \n",
       "73260          82          47                      82                      47   \n",
       "73261          68          55                      68                      55   \n",
       "\n",
       "       ...  h1_heartrate_max  h1_heartrate_min  h1_mbp_max  h1_mbp_min  \\\n",
       "0      ...               119               108          86          85   \n",
       "1      ...               114               100          85          57   \n",
       "2      ...                96                78          91          83   \n",
       "3      ...               100                96          92          71   \n",
       "4      ...                83                83         111         111   \n",
       "...    ...               ...               ...         ...         ...   \n",
       "73257  ...               100                93          78          78   \n",
       "73258  ...                59                55         111         108   \n",
       "73259  ...               111                96          64          55   \n",
       "73260  ...                89                83          78          68   \n",
       "73261  ...                83                75          56          56   \n",
       "\n",
       "       h1_resprate_max  h1_resprate_min  h1_spo2_max  h1_spo2_min  \\\n",
       "0                   26               18          100           74   \n",
       "1                   31               28           95           70   \n",
       "2                   20               16           98           91   \n",
       "3                   12               11          100           99   \n",
       "4                   12               12           97           97   \n",
       "...                ...              ...          ...          ...   \n",
       "73257               15                9           99           97   \n",
       "73258               19               13          100           98   \n",
       "73259               24               16           98           97   \n",
       "73260               28               22           99           96   \n",
       "73261               19                9          100          100   \n",
       "\n",
       "       h1_sysbp_max  h1_sysbp_min  \n",
       "0               131           115  \n",
       "1                95            71  \n",
       "2               148           124  \n",
       "3               136           106  \n",
       "4               143           143  \n",
       "...             ...           ...  \n",
       "73257           104           104  \n",
       "73258           169           143  \n",
       "73259            94            87  \n",
       "73260           127           107  \n",
       "73261            93            89  \n",
       "\n",
       "[73262 rows x 32 columns]>"
      ]
     },
     "execution_count": 31,
     "metadata": {},
     "output_type": "execute_result"
    }
   ],
   "source": [
    "X.describe\n"
   ]
  },
  {
   "cell_type": "code",
   "execution_count": 32,
   "id": "00ffe310",
   "metadata": {},
   "outputs": [
    {
     "data": {
      "text/plain": [
       "0    67400\n",
       "1     5862\n",
       "Name: hospital_death, dtype: int64"
      ]
     },
     "execution_count": 32,
     "metadata": {},
     "output_type": "execute_result"
    }
   ],
   "source": [
    "#Create our target \n",
    "\n",
    "y = df_vitals_all['hospital_death']\n",
    "\n",
    "y.value_counts()"
   ]
  },
  {
   "cell_type": "code",
   "execution_count": 33,
   "id": "9ffd2933",
   "metadata": {},
   "outputs": [],
   "source": [
    "# Split data into Training and Testing\n",
    "\n",
    "X_train, X_test, y_train, y_test = train_test_split(X, y, random_state=1, stratify=y)"
   ]
  },
  {
   "cell_type": "code",
   "execution_count": 34,
   "id": "72932b6d",
   "metadata": {},
   "outputs": [
    {
     "name": "stdout",
     "output_type": "stream",
     "text": [
      "Counter({0: 50550, 1: 4396})\n",
      "Counter({0: 16850, 1: 1466})\n"
     ]
    }
   ],
   "source": [
    "# Check balances\n",
    "print(Counter(y_train))\n",
    "print(Counter(y_test))"
   ]
  },
  {
   "cell_type": "code",
   "execution_count": 35,
   "id": "0f6129e6",
   "metadata": {},
   "outputs": [
    {
     "data": {
      "text/plain": [
       "BalancedRandomForestClassifier(random_state=1)"
      ]
     },
     "execution_count": 35,
     "metadata": {},
     "output_type": "execute_result"
    }
   ],
   "source": [
    "# Instantiate RBC\n",
    "\n",
    "brfc = BalancedRandomForestClassifier(n_estimators=100, random_state=1)\n",
    "\n",
    "# Fit\n",
    "\n",
    "brfc.fit(X_train, y_train)"
   ]
  },
  {
   "cell_type": "code",
   "execution_count": 36,
   "id": "4b2c1c57",
   "metadata": {},
   "outputs": [
    {
     "data": {
      "text/plain": [
       "0.7345682350893243"
      ]
     },
     "execution_count": 36,
     "metadata": {},
     "output_type": "execute_result"
    }
   ],
   "source": [
    "# Calculated the balanced accuracy score\n",
    "y_pred = brfc.predict(X_test)\n",
    "RandomForest_accuracy_vitals_all = balanced_accuracy_score(y_test, y_pred)\n",
    "\n",
    "RandomForest_accuracy_vitals_all"
   ]
  },
  {
   "cell_type": "code",
   "execution_count": 37,
   "id": "d71e5197",
   "metadata": {},
   "outputs": [
    {
     "data": {
      "text/html": [
       "<div>\n",
       "<style scoped>\n",
       "    .dataframe tbody tr th:only-of-type {\n",
       "        vertical-align: middle;\n",
       "    }\n",
       "\n",
       "    .dataframe tbody tr th {\n",
       "        vertical-align: top;\n",
       "    }\n",
       "\n",
       "    .dataframe thead th {\n",
       "        text-align: right;\n",
       "    }\n",
       "</style>\n",
       "<table border=\"1\" class=\"dataframe\">\n",
       "  <thead>\n",
       "    <tr style=\"text-align: right;\">\n",
       "      <th></th>\n",
       "      <th>Predicted Survival</th>\n",
       "      <th>Predicted Death</th>\n",
       "    </tr>\n",
       "  </thead>\n",
       "  <tbody>\n",
       "    <tr>\n",
       "      <th>Actual Survival</th>\n",
       "      <td>12491</td>\n",
       "      <td>4359</td>\n",
       "    </tr>\n",
       "    <tr>\n",
       "      <th>Actual Death</th>\n",
       "      <td>399</td>\n",
       "      <td>1067</td>\n",
       "    </tr>\n",
       "  </tbody>\n",
       "</table>\n",
       "</div>"
      ],
      "text/plain": [
       "                 Predicted Survival  Predicted Death\n",
       "Actual Survival               12491             4359\n",
       "Actual Death                    399             1067"
      ]
     },
     "execution_count": 37,
     "metadata": {},
     "output_type": "execute_result"
    }
   ],
   "source": [
    "# Display the confusion matrix\n",
    "# Calculating the confusion matrix\n",
    "cm = confusion_matrix(y_test, y_pred)\n",
    "\n",
    "\n",
    "# Create a DataFrame from the confusion matrix.\n",
    "cm_df = pd.DataFrame(\n",
    "    cm, index=[\"Actual Survival\", \"Actual Death\"], columns=[\"Predicted Survival\", \"Predicted Death\"])\n",
    "\n",
    "cm_df"
   ]
  },
  {
   "cell_type": "code",
   "execution_count": 38,
   "id": "b3cfd73c",
   "metadata": {},
   "outputs": [
    {
     "name": "stdout",
     "output_type": "stream",
     "text": [
      "                   pre       rec       spe        f1       geo       iba       sup\n",
      "\n",
      "          0       0.97      0.74      0.73      0.84      0.73      0.54     16850\n",
      "          1       0.20      0.73      0.74      0.31      0.73      0.54      1466\n",
      "\n",
      "avg / total       0.91      0.74      0.73      0.80      0.73      0.54     18316\n",
      "\n"
     ]
    }
   ],
   "source": [
    "# Print the imbalanced classification report\n",
    "print(classification_report_imbalanced(y_test, y_pred))"
   ]
  },
  {
   "cell_type": "code",
   "execution_count": 39,
   "id": "e9a3fe41",
   "metadata": {},
   "outputs": [
    {
     "name": "stdout",
     "output_type": "stream",
     "text": [
      "d1_temp_min: (0.0652417103814067)\n",
      "d1_sysbp_noninvasive_min: (0.05108410297502007)\n",
      "d1_sysbp_min: (0.04990123851432775)\n",
      "d1_spo2_min: (0.04976788834748856)\n",
      "d1_heartrate_max: (0.046968572895228565)\n",
      "d1_temp_max: (0.04449118847957833)\n",
      "d1_resprate_max: (0.037489261283141284)\n",
      "d1_mbp_min: (0.0360857168332096)\n",
      "h1_resprate_min: (0.034644554321458784)\n",
      "d1_mbp_noninvasive_min: (0.034532627631710264)\n",
      "d1_heartrate_min: (0.03408362538696804)\n",
      "d1_diasbp_min: (0.030271828626371514)\n",
      "h1_sysbp_min: (0.02984022762523764)\n",
      "h1_resprate_max: (0.02935671171130509)\n",
      "h1_heartrate_max: (0.028918007297405717)\n",
      "d1_diasbp_noninvasive_min: (0.02855475530199253)\n",
      "d1_resprate_min: (0.028200476160967533)\n",
      "h1_heartrate_min: (0.028134448250530627)\n",
      "h1_mbp_min: (0.028052206014050906)\n",
      "h1_sysbp_max: (0.02589485481724943)\n",
      "h1_diasbp_min: (0.0257381934797454)\n",
      "d1_sysbp_max: (0.02496008687780345)\n",
      "d1_sysbp_noninvasive_max: (0.0246898028993287)\n",
      "h1_diasbp_max: (0.024580150292323407)\n",
      "d1_diasbp_max: (0.023803182453026758)\n",
      "h1_mbp_max: (0.023802731894107587)\n",
      "d1_diasbp_noninvasive_max: (0.02273881674093429)\n",
      "d1_mbp_max: (0.022393272437988502)\n",
      "h1_spo2_min: (0.021682382446880127)\n",
      "d1_mbp_noninvasive_max: (0.021450851517537246)\n",
      "h1_spo2_max: (0.014360396831327208)\n",
      "d1_spo2_max: (0.00828612927434848)\n"
     ]
    }
   ],
   "source": [
    "# List the features sorted in descending order by feature importance\n",
    "features_rank = sorted(zip(brfc.feature_importances_, X.columns), reverse=True)\n",
    "for feature in features_rank:\n",
    "    print(f\"{feature[1]}: ({feature[0]})\")"
   ]
  },
  {
   "cell_type": "code",
   "execution_count": 40,
   "id": "d0064e49",
   "metadata": {},
   "outputs": [
    {
     "data": {
      "text/plain": [
       "Text(0.5, 1.0, 'Feature Importance All Vitals')"
      ]
     },
     "execution_count": 40,
     "metadata": {},
     "output_type": "execute_result"
    },
    {
     "data": {
      "image/png": "[encoded data removed]",
      "text/plain": [
       "<Figure size 864x432 with 1 Axes>"
      ]
     },
     "metadata": {
      "needs_background": "light"
     },
     "output_type": "display_data"
    }
   ],
   "source": [
    "# Plot Features \n",
    "\n",
    "feature_importance = brfc.feature_importances_\n",
    "sorted_idx = np.argsort(feature_importance)\n",
    "fit = plt.figure(figsize=(12,6))\n",
    "plt.barh(range(len(sorted_idx)), feature_importance[sorted_idx], align='center')\n",
    "plt.yticks(range(len(sorted_idx)), np.array(X_test.columns)[sorted_idx])\n",
    "plt.title('Feature Importance All Vitals')"
   ]
  },
  {
   "cell_type": "markdown",
   "id": "8ace86aa",
   "metadata": {},
   "source": [
    "### Patient Demographics"
   ]
  },
  {
   "cell_type": "code",
   "execution_count": 41,
   "id": "cd2479c4",
   "metadata": {},
   "outputs": [
    {
     "data": {
      "text/html": [
       "<div>\n",
       "<style scoped>\n",
       "    .dataframe tbody tr th:only-of-type {\n",
       "        vertical-align: middle;\n",
       "    }\n",
       "\n",
       "    .dataframe tbody tr th {\n",
       "        vertical-align: top;\n",
       "    }\n",
       "\n",
       "    .dataframe thead th {\n",
       "        text-align: right;\n",
       "    }\n",
       "</style>\n",
       "<table border=\"1\" class=\"dataframe\">\n",
       "  <thead>\n",
       "    <tr style=\"text-align: right;\">\n",
       "      <th></th>\n",
       "      <th>encounter_id</th>\n",
       "      <th>patient_id</th>\n",
       "      <th>hospital_id</th>\n",
       "      <th>hospital_death</th>\n",
       "      <th>age</th>\n",
       "      <th>bmi</th>\n",
       "      <th>elective_surgery</th>\n",
       "      <th>ethnicity</th>\n",
       "      <th>gender</th>\n",
       "      <th>icu_admit_source</th>\n",
       "      <th>icu_id</th>\n",
       "      <th>icu_stay_type</th>\n",
       "      <th>icu_type</th>\n",
       "      <th>pre_icu_los_days</th>\n",
       "      <th>readmission_status</th>\n",
       "    </tr>\n",
       "  </thead>\n",
       "  <tbody>\n",
       "    <tr>\n",
       "      <th>0</th>\n",
       "      <td>66154</td>\n",
       "      <td>25312</td>\n",
       "      <td>118</td>\n",
       "      <td>0</td>\n",
       "      <td>68</td>\n",
       "      <td>22.73</td>\n",
       "      <td>0</td>\n",
       "      <td>2</td>\n",
       "      <td>1</td>\n",
       "      <td>1</td>\n",
       "      <td>92</td>\n",
       "      <td>0</td>\n",
       "      <td>2</td>\n",
       "      <td>0.541667</td>\n",
       "      <td>0</td>\n",
       "    </tr>\n",
       "    <tr>\n",
       "      <th>1</th>\n",
       "      <td>114252</td>\n",
       "      <td>59342</td>\n",
       "      <td>81</td>\n",
       "      <td>0</td>\n",
       "      <td>77</td>\n",
       "      <td>27.42</td>\n",
       "      <td>0</td>\n",
       "      <td>2</td>\n",
       "      <td>0</td>\n",
       "      <td>1</td>\n",
       "      <td>90</td>\n",
       "      <td>0</td>\n",
       "      <td>5</td>\n",
       "      <td>0.927778</td>\n",
       "      <td>0</td>\n",
       "    </tr>\n",
       "    <tr>\n",
       "      <th>2</th>\n",
       "      <td>119783</td>\n",
       "      <td>50777</td>\n",
       "      <td>118</td>\n",
       "      <td>0</td>\n",
       "      <td>25</td>\n",
       "      <td>31.95</td>\n",
       "      <td>0</td>\n",
       "      <td>2</td>\n",
       "      <td>0</td>\n",
       "      <td>0</td>\n",
       "      <td>93</td>\n",
       "      <td>0</td>\n",
       "      <td>5</td>\n",
       "      <td>0.000694</td>\n",
       "      <td>0</td>\n",
       "    </tr>\n",
       "    <tr>\n",
       "      <th>3</th>\n",
       "      <td>79267</td>\n",
       "      <td>46918</td>\n",
       "      <td>118</td>\n",
       "      <td>0</td>\n",
       "      <td>81</td>\n",
       "      <td>22.64</td>\n",
       "      <td>1</td>\n",
       "      <td>2</td>\n",
       "      <td>0</td>\n",
       "      <td>2</td>\n",
       "      <td>92</td>\n",
       "      <td>0</td>\n",
       "      <td>2</td>\n",
       "      <td>0.000694</td>\n",
       "      <td>0</td>\n",
       "    </tr>\n",
       "    <tr>\n",
       "      <th>4</th>\n",
       "      <td>33181</td>\n",
       "      <td>74489</td>\n",
       "      <td>83</td>\n",
       "      <td>0</td>\n",
       "      <td>67</td>\n",
       "      <td>27.56</td>\n",
       "      <td>0</td>\n",
       "      <td>2</td>\n",
       "      <td>1</td>\n",
       "      <td>0</td>\n",
       "      <td>95</td>\n",
       "      <td>0</td>\n",
       "      <td>5</td>\n",
       "      <td>0.000694</td>\n",
       "      <td>0</td>\n",
       "    </tr>\n",
       "  </tbody>\n",
       "</table>\n",
       "</div>"
      ],
      "text/plain": [
       "   encounter_id  patient_id  hospital_id  hospital_death  age    bmi  \\\n",
       "0         66154       25312          118               0   68  22.73   \n",
       "1        114252       59342           81               0   77  27.42   \n",
       "2        119783       50777          118               0   25  31.95   \n",
       "3         79267       46918          118               0   81  22.64   \n",
       "4         33181       74489           83               0   67  27.56   \n",
       "\n",
       "   elective_surgery  ethnicity  gender  icu_admit_source  icu_id  \\\n",
       "0                 0          2       1                 1      92   \n",
       "1                 0          2       0                 1      90   \n",
       "2                 0          2       0                 0      93   \n",
       "3                 1          2       0                 2      92   \n",
       "4                 0          2       1                 0      95   \n",
       "\n",
       "   icu_stay_type  icu_type  pre_icu_los_days  readmission_status  \n",
       "0              0         2          0.541667                   0  \n",
       "1              0         5          0.927778                   0  \n",
       "2              0         5          0.000694                   0  \n",
       "3              0         2          0.000694                   0  \n",
       "4              0         5          0.000694                   0  "
      ]
     },
     "execution_count": 41,
     "metadata": {},
     "output_type": "execute_result"
    }
   ],
   "source": [
    "file_path = Path(\"C:/Users/emili/Class/Patient_Survival_Prediction/Machine_Learning/Resources/demographic_patient.csv\")\n",
    "df_vitals_all = pd.read_csv(file_path)\n",
    "df_vitals_all.head()"
   ]
  },
  {
   "cell_type": "code",
   "execution_count": 44,
   "id": "cdbe28de",
   "metadata": {},
   "outputs": [],
   "source": [
    "# Drop unique identifier columns\n",
    "\n",
    "df_vitals_all=df_vitals_all.drop(columns=['patient_id', 'encounter_id', 'hospital_id'])"
   ]
  },
  {
   "cell_type": "code",
   "execution_count": 45,
   "id": "03e2abdc",
   "metadata": {},
   "outputs": [
    {
     "data": {
      "text/html": [
       "<div>\n",
       "<style scoped>\n",
       "    .dataframe tbody tr th:only-of-type {\n",
       "        vertical-align: middle;\n",
       "    }\n",
       "\n",
       "    .dataframe tbody tr th {\n",
       "        vertical-align: top;\n",
       "    }\n",
       "\n",
       "    .dataframe thead th {\n",
       "        text-align: right;\n",
       "    }\n",
       "</style>\n",
       "<table border=\"1\" class=\"dataframe\">\n",
       "  <thead>\n",
       "    <tr style=\"text-align: right;\">\n",
       "      <th></th>\n",
       "      <th>age</th>\n",
       "      <th>bmi</th>\n",
       "      <th>elective_surgery</th>\n",
       "      <th>ethnicity</th>\n",
       "      <th>gender</th>\n",
       "      <th>icu_admit_source</th>\n",
       "      <th>icu_id</th>\n",
       "      <th>icu_stay_type</th>\n",
       "      <th>icu_type</th>\n",
       "      <th>pre_icu_los_days</th>\n",
       "      <th>readmission_status</th>\n",
       "    </tr>\n",
       "  </thead>\n",
       "  <tbody>\n",
       "    <tr>\n",
       "      <th>0</th>\n",
       "      <td>68</td>\n",
       "      <td>22.73</td>\n",
       "      <td>0</td>\n",
       "      <td>2</td>\n",
       "      <td>1</td>\n",
       "      <td>1</td>\n",
       "      <td>92</td>\n",
       "      <td>0</td>\n",
       "      <td>2</td>\n",
       "      <td>0.541667</td>\n",
       "      <td>0</td>\n",
       "    </tr>\n",
       "    <tr>\n",
       "      <th>1</th>\n",
       "      <td>77</td>\n",
       "      <td>27.42</td>\n",
       "      <td>0</td>\n",
       "      <td>2</td>\n",
       "      <td>0</td>\n",
       "      <td>1</td>\n",
       "      <td>90</td>\n",
       "      <td>0</td>\n",
       "      <td>5</td>\n",
       "      <td>0.927778</td>\n",
       "      <td>0</td>\n",
       "    </tr>\n",
       "    <tr>\n",
       "      <th>2</th>\n",
       "      <td>25</td>\n",
       "      <td>31.95</td>\n",
       "      <td>0</td>\n",
       "      <td>2</td>\n",
       "      <td>0</td>\n",
       "      <td>0</td>\n",
       "      <td>93</td>\n",
       "      <td>0</td>\n",
       "      <td>5</td>\n",
       "      <td>0.000694</td>\n",
       "      <td>0</td>\n",
       "    </tr>\n",
       "    <tr>\n",
       "      <th>3</th>\n",
       "      <td>81</td>\n",
       "      <td>22.64</td>\n",
       "      <td>1</td>\n",
       "      <td>2</td>\n",
       "      <td>0</td>\n",
       "      <td>2</td>\n",
       "      <td>92</td>\n",
       "      <td>0</td>\n",
       "      <td>2</td>\n",
       "      <td>0.000694</td>\n",
       "      <td>0</td>\n",
       "    </tr>\n",
       "    <tr>\n",
       "      <th>4</th>\n",
       "      <td>67</td>\n",
       "      <td>27.56</td>\n",
       "      <td>0</td>\n",
       "      <td>2</td>\n",
       "      <td>1</td>\n",
       "      <td>0</td>\n",
       "      <td>95</td>\n",
       "      <td>0</td>\n",
       "      <td>5</td>\n",
       "      <td>0.000694</td>\n",
       "      <td>0</td>\n",
       "    </tr>\n",
       "  </tbody>\n",
       "</table>\n",
       "</div>"
      ],
      "text/plain": [
       "   age    bmi  elective_surgery  ethnicity  gender  icu_admit_source  icu_id  \\\n",
       "0   68  22.73                 0          2       1                 1      92   \n",
       "1   77  27.42                 0          2       0                 1      90   \n",
       "2   25  31.95                 0          2       0                 0      93   \n",
       "3   81  22.64                 1          2       0                 2      92   \n",
       "4   67  27.56                 0          2       1                 0      95   \n",
       "\n",
       "   icu_stay_type  icu_type  pre_icu_los_days  readmission_status  \n",
       "0              0         2          0.541667                   0  \n",
       "1              0         5          0.927778                   0  \n",
       "2              0         5          0.000694                   0  \n",
       "3              0         2          0.000694                   0  \n",
       "4              0         5          0.000694                   0  "
      ]
     },
     "execution_count": 45,
     "metadata": {},
     "output_type": "execute_result"
    }
   ],
   "source": [
    "# Create our features\n",
    "\n",
    "X = df_vitals_all.drop('hospital_death', axis=1)\n",
    "\n",
    "\n",
    "X.head()"
   ]
  },
  {
   "cell_type": "code",
   "execution_count": 46,
   "id": "4ffa4dee",
   "metadata": {},
   "outputs": [
    {
     "data": {
      "text/plain": [
       "<bound method NDFrame.describe of        age        bmi  elective_surgery  ethnicity  gender  icu_admit_source  \\\n",
       "0       68  22.730000                 0          2       1                 1   \n",
       "1       77  27.420000                 0          2       0                 1   \n",
       "2       25  31.950000                 0          2       0                 0   \n",
       "3       81  22.640000                 1          2       0                 2   \n",
       "4       67  27.560000                 0          2       1                 0   \n",
       "...    ...        ...               ...        ...     ...               ...   \n",
       "73257   47  51.439842                 1          2       1                 2   \n",
       "73258   54  19.770448                 0          4       1                 0   \n",
       "73259   75  23.060250                 0          2       1                 1   \n",
       "73260   56  47.179671                 0          2       0                 1   \n",
       "73261   82  22.031250                 1          2       0                 2   \n",
       "\n",
       "       icu_id  icu_stay_type  icu_type  pre_icu_los_days  readmission_status  \n",
       "0          92              0         2          0.541667                   0  \n",
       "1          90              0         5          0.927778                   0  \n",
       "2          93              0         5          0.000694                   0  \n",
       "3          92              0         2          0.000694                   0  \n",
       "4          95              0         5          0.000694                   0  \n",
       "...       ...            ...       ...               ...                 ...  \n",
       "73257     908              0         5          0.033333                   0  \n",
       "73258     925              0         5          0.025694                   0  \n",
       "73259     927              0         3          0.298611                   0  \n",
       "73260     925              0         5          0.120139                   0  \n",
       "73261     926              0         5          0.018056                   0  \n",
       "\n",
       "[73262 rows x 11 columns]>"
      ]
     },
     "execution_count": 46,
     "metadata": {},
     "output_type": "execute_result"
    }
   ],
   "source": [
    "X.describe"
   ]
  },
  {
   "cell_type": "code",
   "execution_count": 47,
   "id": "27191ac2",
   "metadata": {},
   "outputs": [
    {
     "data": {
      "text/plain": [
       "0    67400\n",
       "1     5862\n",
       "Name: hospital_death, dtype: int64"
      ]
     },
     "execution_count": 47,
     "metadata": {},
     "output_type": "execute_result"
    }
   ],
   "source": [
    "#Create our target \n",
    "\n",
    "y = df_vitals_all['hospital_death']\n",
    "\n",
    "y.value_counts()"
   ]
  },
  {
   "cell_type": "code",
   "execution_count": 48,
   "id": "53efb3fe",
   "metadata": {},
   "outputs": [],
   "source": [
    "# Split data into Training and Testing\n",
    "\n",
    "X_train, X_test, y_train, y_test = train_test_split(X, y, random_state=1, stratify=y)"
   ]
  },
  {
   "cell_type": "code",
   "execution_count": 49,
   "id": "12674ad9",
   "metadata": {},
   "outputs": [
    {
     "name": "stdout",
     "output_type": "stream",
     "text": [
      "Counter({0: 50550, 1: 4396})\n",
      "Counter({0: 16850, 1: 1466})\n"
     ]
    }
   ],
   "source": [
    "# Check balances\n",
    "print(Counter(y_train))\n",
    "print(Counter(y_test))"
   ]
  },
  {
   "cell_type": "code",
   "execution_count": 50,
   "id": "b6db8af9",
   "metadata": {},
   "outputs": [
    {
     "data": {
      "text/plain": [
       "BalancedRandomForestClassifier(random_state=1)"
      ]
     },
     "execution_count": 50,
     "metadata": {},
     "output_type": "execute_result"
    }
   ],
   "source": [
    "# Instantiate RBC\n",
    "\n",
    "brfc = BalancedRandomForestClassifier(n_estimators=100, random_state=1)\n",
    "\n",
    "# Fit\n",
    "\n",
    "brfc.fit(X_train, y_train)"
   ]
  },
  {
   "cell_type": "code",
   "execution_count": 51,
   "id": "d0e6bd70",
   "metadata": {},
   "outputs": [
    {
     "data": {
      "text/plain": [
       "0.6310102379959599"
      ]
     },
     "execution_count": 51,
     "metadata": {},
     "output_type": "execute_result"
    }
   ],
   "source": [
    "# Calculated the balanced accuracy score\n",
    "y_pred = brfc.predict(X_test)\n",
    "RandomForest_accuracy_demographics = balanced_accuracy_score(y_test, y_pred)\n",
    "\n",
    "RandomForest_accuracy_demographics"
   ]
  },
  {
   "cell_type": "code",
   "execution_count": 52,
   "id": "bb470154",
   "metadata": {},
   "outputs": [
    {
     "data": {
      "text/html": [
       "<div>\n",
       "<style scoped>\n",
       "    .dataframe tbody tr th:only-of-type {\n",
       "        vertical-align: middle;\n",
       "    }\n",
       "\n",
       "    .dataframe tbody tr th {\n",
       "        vertical-align: top;\n",
       "    }\n",
       "\n",
       "    .dataframe thead th {\n",
       "        text-align: right;\n",
       "    }\n",
       "</style>\n",
       "<table border=\"1\" class=\"dataframe\">\n",
       "  <thead>\n",
       "    <tr style=\"text-align: right;\">\n",
       "      <th></th>\n",
       "      <th>Predicted Survival</th>\n",
       "      <th>Predicted Death</th>\n",
       "    </tr>\n",
       "  </thead>\n",
       "  <tbody>\n",
       "    <tr>\n",
       "      <th>Actual Survival</th>\n",
       "      <td>10116</td>\n",
       "      <td>6734</td>\n",
       "    </tr>\n",
       "    <tr>\n",
       "      <th>Actual Death</th>\n",
       "      <td>496</td>\n",
       "      <td>970</td>\n",
       "    </tr>\n",
       "  </tbody>\n",
       "</table>\n",
       "</div>"
      ],
      "text/plain": [
       "                 Predicted Survival  Predicted Death\n",
       "Actual Survival               10116             6734\n",
       "Actual Death                    496              970"
      ]
     },
     "execution_count": 52,
     "metadata": {},
     "output_type": "execute_result"
    }
   ],
   "source": [
    "# Display the confusion matrix\n",
    "# Calculating the confusion matrix\n",
    "cm = confusion_matrix(y_test, y_pred)\n",
    "\n",
    "\n",
    "# Create a DataFrame from the confusion matrix.\n",
    "cm_df = pd.DataFrame(\n",
    "    cm, index=[\"Actual Survival\", \"Actual Death\"], columns=[\"Predicted Survival\", \"Predicted Death\"])\n",
    "\n",
    "cm_df"
   ]
  },
  {
   "cell_type": "code",
   "execution_count": 53,
   "id": "f2be25e0",
   "metadata": {},
   "outputs": [
    {
     "name": "stdout",
     "output_type": "stream",
     "text": [
      "                   pre       rec       spe        f1       geo       iba       sup\n",
      "\n",
      "          0       0.95      0.60      0.66      0.74      0.63      0.39     16850\n",
      "          1       0.13      0.66      0.60      0.21      0.63      0.40      1466\n",
      "\n",
      "avg / total       0.89      0.61      0.66      0.69      0.63      0.40     18316\n",
      "\n"
     ]
    }
   ],
   "source": [
    "# Print the imbalanced classification report\n",
    "print(classification_report_imbalanced(y_test, y_pred))"
   ]
  },
  {
   "cell_type": "code",
   "execution_count": 54,
   "id": "7e107492",
   "metadata": {},
   "outputs": [
    {
     "name": "stdout",
     "output_type": "stream",
     "text": [
      "bmi: (0.21970470760838592)\n",
      "pre_icu_los_days: (0.21308520171211348)\n",
      "age: (0.19094321506302636)\n",
      "icu_id: (0.17352912562655784)\n",
      "icu_type: (0.05982866454236647)\n",
      "ethnicity: (0.03940457127970916)\n",
      "icu_admit_source: (0.03566754031588353)\n",
      "elective_surgery: (0.031076888830657595)\n",
      "gender: (0.02579646621600176)\n",
      "icu_stay_type: (0.01096361880529792)\n",
      "readmission_status: (0.0)\n"
     ]
    }
   ],
   "source": [
    "# List the features sorted in descending order by feature importance\n",
    "features_rank = sorted(zip(brfc.feature_importances_, X.columns), reverse=True)\n",
    "for feature in features_rank:\n",
    "    print(f\"{feature[1]}: ({feature[0]})\")"
   ]
  },
  {
   "cell_type": "code",
   "execution_count": 55,
   "id": "8f0d5e9c",
   "metadata": {},
   "outputs": [
    {
     "data": {
      "text/plain": [
       "Text(0.5, 1.0, 'Feature Importance Patient Demographics')"
      ]
     },
     "execution_count": 55,
     "metadata": {},
     "output_type": "execute_result"
    },
    {
     "data": {
      "image/png": "[encoded data removed]",
      "text/plain": [
       "<Figure size 864x432 with 1 Axes>"
      ]
     },
     "metadata": {
      "needs_background": "light"
     },
     "output_type": "display_data"
    }
   ],
   "source": [
    "# Plot Features \n",
    "\n",
    "feature_importance = brfc.feature_importances_\n",
    "sorted_idx = np.argsort(feature_importance)\n",
    "fit = plt.figure(figsize=(12,6))\n",
    "plt.barh(range(len(sorted_idx)), feature_importance[sorted_idx], align='center')\n",
    "plt.yticks(range(len(sorted_idx)), np.array(X_test.columns)[sorted_idx])\n",
    "plt.title('Feature Importance Patient Demographics')"
   ]
  },
  {
   "cell_type": "markdown",
   "id": "5c110405",
   "metadata": {},
   "source": [
    "### Patient Database"
   ]
  },
  {
   "cell_type": "code",
   "execution_count": 56,
   "id": "a6ba3447",
   "metadata": {},
   "outputs": [
    {
     "data": {
      "text/html": [
       "<div>\n",
       "<style scoped>\n",
       "    .dataframe tbody tr th:only-of-type {\n",
       "        vertical-align: middle;\n",
       "    }\n",
       "\n",
       "    .dataframe tbody tr th {\n",
       "        vertical-align: top;\n",
       "    }\n",
       "\n",
       "    .dataframe thead th {\n",
       "        text-align: right;\n",
       "    }\n",
       "</style>\n",
       "<table border=\"1\" class=\"dataframe\">\n",
       "  <thead>\n",
       "    <tr style=\"text-align: right;\">\n",
       "      <th></th>\n",
       "      <th>encounter_id</th>\n",
       "      <th>patient_id</th>\n",
       "      <th>hospital_id</th>\n",
       "      <th>hospital_death</th>\n",
       "      <th>age</th>\n",
       "      <th>bmi</th>\n",
       "      <th>elective_surgery</th>\n",
       "      <th>ethnicity</th>\n",
       "      <th>gender</th>\n",
       "      <th>icu_admit_source</th>\n",
       "      <th>...</th>\n",
       "      <th>aids</th>\n",
       "      <th>cirrhosis</th>\n",
       "      <th>diabetes_mellitus</th>\n",
       "      <th>hepatic_failure</th>\n",
       "      <th>immunosuppression</th>\n",
       "      <th>leukemia</th>\n",
       "      <th>lymphoma</th>\n",
       "      <th>solid_tumor_with_metastasis</th>\n",
       "      <th>apache_3j_bodysystem</th>\n",
       "      <th>apache_2_bodysystem</th>\n",
       "    </tr>\n",
       "  </thead>\n",
       "  <tbody>\n",
       "    <tr>\n",
       "      <th>0</th>\n",
       "      <td>66154</td>\n",
       "      <td>25312</td>\n",
       "      <td>118</td>\n",
       "      <td>0</td>\n",
       "      <td>68</td>\n",
       "      <td>22.73</td>\n",
       "      <td>0</td>\n",
       "      <td>2</td>\n",
       "      <td>1</td>\n",
       "      <td>1</td>\n",
       "      <td>...</td>\n",
       "      <td>0</td>\n",
       "      <td>0</td>\n",
       "      <td>1</td>\n",
       "      <td>0</td>\n",
       "      <td>0</td>\n",
       "      <td>0</td>\n",
       "      <td>0</td>\n",
       "      <td>0</td>\n",
       "      <td>9</td>\n",
       "      <td>0</td>\n",
       "    </tr>\n",
       "    <tr>\n",
       "      <th>1</th>\n",
       "      <td>114252</td>\n",
       "      <td>59342</td>\n",
       "      <td>81</td>\n",
       "      <td>0</td>\n",
       "      <td>77</td>\n",
       "      <td>27.42</td>\n",
       "      <td>0</td>\n",
       "      <td>2</td>\n",
       "      <td>0</td>\n",
       "      <td>1</td>\n",
       "      <td>...</td>\n",
       "      <td>0</td>\n",
       "      <td>0</td>\n",
       "      <td>1</td>\n",
       "      <td>0</td>\n",
       "      <td>0</td>\n",
       "      <td>0</td>\n",
       "      <td>0</td>\n",
       "      <td>0</td>\n",
       "      <td>8</td>\n",
       "      <td>6</td>\n",
       "    </tr>\n",
       "    <tr>\n",
       "      <th>2</th>\n",
       "      <td>119783</td>\n",
       "      <td>50777</td>\n",
       "      <td>118</td>\n",
       "      <td>0</td>\n",
       "      <td>25</td>\n",
       "      <td>31.95</td>\n",
       "      <td>0</td>\n",
       "      <td>2</td>\n",
       "      <td>0</td>\n",
       "      <td>0</td>\n",
       "      <td>...</td>\n",
       "      <td>0</td>\n",
       "      <td>0</td>\n",
       "      <td>0</td>\n",
       "      <td>0</td>\n",
       "      <td>0</td>\n",
       "      <td>0</td>\n",
       "      <td>0</td>\n",
       "      <td>0</td>\n",
       "      <td>5</td>\n",
       "      <td>3</td>\n",
       "    </tr>\n",
       "    <tr>\n",
       "      <th>3</th>\n",
       "      <td>79267</td>\n",
       "      <td>46918</td>\n",
       "      <td>118</td>\n",
       "      <td>0</td>\n",
       "      <td>81</td>\n",
       "      <td>22.64</td>\n",
       "      <td>1</td>\n",
       "      <td>2</td>\n",
       "      <td>0</td>\n",
       "      <td>2</td>\n",
       "      <td>...</td>\n",
       "      <td>0</td>\n",
       "      <td>0</td>\n",
       "      <td>0</td>\n",
       "      <td>0</td>\n",
       "      <td>0</td>\n",
       "      <td>0</td>\n",
       "      <td>0</td>\n",
       "      <td>0</td>\n",
       "      <td>0</td>\n",
       "      <td>0</td>\n",
       "    </tr>\n",
       "    <tr>\n",
       "      <th>4</th>\n",
       "      <td>33181</td>\n",
       "      <td>74489</td>\n",
       "      <td>83</td>\n",
       "      <td>0</td>\n",
       "      <td>67</td>\n",
       "      <td>27.56</td>\n",
       "      <td>0</td>\n",
       "      <td>2</td>\n",
       "      <td>1</td>\n",
       "      <td>0</td>\n",
       "      <td>...</td>\n",
       "      <td>0</td>\n",
       "      <td>0</td>\n",
       "      <td>1</td>\n",
       "      <td>0</td>\n",
       "      <td>0</td>\n",
       "      <td>0</td>\n",
       "      <td>0</td>\n",
       "      <td>0</td>\n",
       "      <td>7</td>\n",
       "      <td>4</td>\n",
       "    </tr>\n",
       "  </tbody>\n",
       "</table>\n",
       "<p>5 rows × 69 columns</p>\n",
       "</div>"
      ],
      "text/plain": [
       "   encounter_id  patient_id  hospital_id  hospital_death  age    bmi  \\\n",
       "0         66154       25312          118               0   68  22.73   \n",
       "1        114252       59342           81               0   77  27.42   \n",
       "2        119783       50777          118               0   25  31.95   \n",
       "3         79267       46918          118               0   81  22.64   \n",
       "4         33181       74489           83               0   67  27.56   \n",
       "\n",
       "   elective_surgery  ethnicity  gender  icu_admit_source  ...  aids  \\\n",
       "0                 0          2       1                 1  ...     0   \n",
       "1                 0          2       0                 1  ...     0   \n",
       "2                 0          2       0                 0  ...     0   \n",
       "3                 1          2       0                 2  ...     0   \n",
       "4                 0          2       1                 0  ...     0   \n",
       "\n",
       "   cirrhosis  diabetes_mellitus  hepatic_failure  immunosuppression  leukemia  \\\n",
       "0          0                  1                0                  0         0   \n",
       "1          0                  1                0                  0         0   \n",
       "2          0                  0                0                  0         0   \n",
       "3          0                  0                0                  0         0   \n",
       "4          0                  1                0                  0         0   \n",
       "\n",
       "   lymphoma  solid_tumor_with_metastasis  apache_3j_bodysystem  \\\n",
       "0         0                            0                     9   \n",
       "1         0                            0                     8   \n",
       "2         0                            0                     5   \n",
       "3         0                            0                     0   \n",
       "4         0                            0                     7   \n",
       "\n",
       "   apache_2_bodysystem  \n",
       "0                    0  \n",
       "1                    6  \n",
       "2                    3  \n",
       "3                    0  \n",
       "4                    4  \n",
       "\n",
       "[5 rows x 69 columns]"
      ]
     },
     "execution_count": 56,
     "metadata": {},
     "output_type": "execute_result"
    }
   ],
   "source": [
    "file_path = Path(\"C:/Users/emili/Class/Patient_Survival_Prediction/Machine_Learning/Resources/database_patient.csv\")\n",
    "df_vitals_all = pd.read_csv(file_path)\n",
    "df_vitals_all.head()"
   ]
  },
  {
   "cell_type": "code",
   "execution_count": 57,
   "id": "18bd8c38",
   "metadata": {},
   "outputs": [],
   "source": [
    "# Drop unique identifier columns\n",
    "\n",
    "df_vitals_all=df_vitals_all.drop(columns=['patient_id', 'encounter_id', 'hospital_id'])"
   ]
  },
  {
   "cell_type": "code",
   "execution_count": 58,
   "id": "d332cb1f",
   "metadata": {},
   "outputs": [
    {
     "data": {
      "text/html": [
       "<div>\n",
       "<style scoped>\n",
       "    .dataframe tbody tr th:only-of-type {\n",
       "        vertical-align: middle;\n",
       "    }\n",
       "\n",
       "    .dataframe tbody tr th {\n",
       "        vertical-align: top;\n",
       "    }\n",
       "\n",
       "    .dataframe thead th {\n",
       "        text-align: right;\n",
       "    }\n",
       "</style>\n",
       "<table border=\"1\" class=\"dataframe\">\n",
       "  <thead>\n",
       "    <tr style=\"text-align: right;\">\n",
       "      <th></th>\n",
       "      <th>age</th>\n",
       "      <th>bmi</th>\n",
       "      <th>elective_surgery</th>\n",
       "      <th>ethnicity</th>\n",
       "      <th>gender</th>\n",
       "      <th>icu_admit_source</th>\n",
       "      <th>icu_id</th>\n",
       "      <th>icu_stay_type</th>\n",
       "      <th>icu_type</th>\n",
       "      <th>pre_icu_los_days</th>\n",
       "      <th>...</th>\n",
       "      <th>aids</th>\n",
       "      <th>cirrhosis</th>\n",
       "      <th>diabetes_mellitus</th>\n",
       "      <th>hepatic_failure</th>\n",
       "      <th>immunosuppression</th>\n",
       "      <th>leukemia</th>\n",
       "      <th>lymphoma</th>\n",
       "      <th>solid_tumor_with_metastasis</th>\n",
       "      <th>apache_3j_bodysystem</th>\n",
       "      <th>apache_2_bodysystem</th>\n",
       "    </tr>\n",
       "  </thead>\n",
       "  <tbody>\n",
       "    <tr>\n",
       "      <th>0</th>\n",
       "      <td>68</td>\n",
       "      <td>22.73</td>\n",
       "      <td>0</td>\n",
       "      <td>2</td>\n",
       "      <td>1</td>\n",
       "      <td>1</td>\n",
       "      <td>92</td>\n",
       "      <td>0</td>\n",
       "      <td>2</td>\n",
       "      <td>0.541667</td>\n",
       "      <td>...</td>\n",
       "      <td>0</td>\n",
       "      <td>0</td>\n",
       "      <td>1</td>\n",
       "      <td>0</td>\n",
       "      <td>0</td>\n",
       "      <td>0</td>\n",
       "      <td>0</td>\n",
       "      <td>0</td>\n",
       "      <td>9</td>\n",
       "      <td>0</td>\n",
       "    </tr>\n",
       "    <tr>\n",
       "      <th>1</th>\n",
       "      <td>77</td>\n",
       "      <td>27.42</td>\n",
       "      <td>0</td>\n",
       "      <td>2</td>\n",
       "      <td>0</td>\n",
       "      <td>1</td>\n",
       "      <td>90</td>\n",
       "      <td>0</td>\n",
       "      <td>5</td>\n",
       "      <td>0.927778</td>\n",
       "      <td>...</td>\n",
       "      <td>0</td>\n",
       "      <td>0</td>\n",
       "      <td>1</td>\n",
       "      <td>0</td>\n",
       "      <td>0</td>\n",
       "      <td>0</td>\n",
       "      <td>0</td>\n",
       "      <td>0</td>\n",
       "      <td>8</td>\n",
       "      <td>6</td>\n",
       "    </tr>\n",
       "    <tr>\n",
       "      <th>2</th>\n",
       "      <td>25</td>\n",
       "      <td>31.95</td>\n",
       "      <td>0</td>\n",
       "      <td>2</td>\n",
       "      <td>0</td>\n",
       "      <td>0</td>\n",
       "      <td>93</td>\n",
       "      <td>0</td>\n",
       "      <td>5</td>\n",
       "      <td>0.000694</td>\n",
       "      <td>...</td>\n",
       "      <td>0</td>\n",
       "      <td>0</td>\n",
       "      <td>0</td>\n",
       "      <td>0</td>\n",
       "      <td>0</td>\n",
       "      <td>0</td>\n",
       "      <td>0</td>\n",
       "      <td>0</td>\n",
       "      <td>5</td>\n",
       "      <td>3</td>\n",
       "    </tr>\n",
       "    <tr>\n",
       "      <th>3</th>\n",
       "      <td>81</td>\n",
       "      <td>22.64</td>\n",
       "      <td>1</td>\n",
       "      <td>2</td>\n",
       "      <td>0</td>\n",
       "      <td>2</td>\n",
       "      <td>92</td>\n",
       "      <td>0</td>\n",
       "      <td>2</td>\n",
       "      <td>0.000694</td>\n",
       "      <td>...</td>\n",
       "      <td>0</td>\n",
       "      <td>0</td>\n",
       "      <td>0</td>\n",
       "      <td>0</td>\n",
       "      <td>0</td>\n",
       "      <td>0</td>\n",
       "      <td>0</td>\n",
       "      <td>0</td>\n",
       "      <td>0</td>\n",
       "      <td>0</td>\n",
       "    </tr>\n",
       "    <tr>\n",
       "      <th>4</th>\n",
       "      <td>67</td>\n",
       "      <td>27.56</td>\n",
       "      <td>0</td>\n",
       "      <td>2</td>\n",
       "      <td>1</td>\n",
       "      <td>0</td>\n",
       "      <td>95</td>\n",
       "      <td>0</td>\n",
       "      <td>5</td>\n",
       "      <td>0.000694</td>\n",
       "      <td>...</td>\n",
       "      <td>0</td>\n",
       "      <td>0</td>\n",
       "      <td>1</td>\n",
       "      <td>0</td>\n",
       "      <td>0</td>\n",
       "      <td>0</td>\n",
       "      <td>0</td>\n",
       "      <td>0</td>\n",
       "      <td>7</td>\n",
       "      <td>4</td>\n",
       "    </tr>\n",
       "  </tbody>\n",
       "</table>\n",
       "<p>5 rows × 65 columns</p>\n",
       "</div>"
      ],
      "text/plain": [
       "   age    bmi  elective_surgery  ethnicity  gender  icu_admit_source  icu_id  \\\n",
       "0   68  22.73                 0          2       1                 1      92   \n",
       "1   77  27.42                 0          2       0                 1      90   \n",
       "2   25  31.95                 0          2       0                 0      93   \n",
       "3   81  22.64                 1          2       0                 2      92   \n",
       "4   67  27.56                 0          2       1                 0      95   \n",
       "\n",
       "   icu_stay_type  icu_type  pre_icu_los_days  ...  aids  cirrhosis  \\\n",
       "0              0         2          0.541667  ...     0          0   \n",
       "1              0         5          0.927778  ...     0          0   \n",
       "2              0         5          0.000694  ...     0          0   \n",
       "3              0         2          0.000694  ...     0          0   \n",
       "4              0         5          0.000694  ...     0          0   \n",
       "\n",
       "   diabetes_mellitus  hepatic_failure  immunosuppression  leukemia  lymphoma  \\\n",
       "0                  1                0                  0         0         0   \n",
       "1                  1                0                  0         0         0   \n",
       "2                  0                0                  0         0         0   \n",
       "3                  0                0                  0         0         0   \n",
       "4                  1                0                  0         0         0   \n",
       "\n",
       "   solid_tumor_with_metastasis  apache_3j_bodysystem  apache_2_bodysystem  \n",
       "0                            0                     9                    0  \n",
       "1                            0                     8                    6  \n",
       "2                            0                     5                    3  \n",
       "3                            0                     0                    0  \n",
       "4                            0                     7                    4  \n",
       "\n",
       "[5 rows x 65 columns]"
      ]
     },
     "execution_count": 58,
     "metadata": {},
     "output_type": "execute_result"
    }
   ],
   "source": [
    "# Create our features\n",
    "\n",
    "X = df_vitals_all.drop('hospital_death', axis=1)\n",
    "\n",
    "\n",
    "X.head()"
   ]
  },
  {
   "cell_type": "code",
   "execution_count": 59,
   "id": "745200de",
   "metadata": {},
   "outputs": [
    {
     "data": {
      "text/plain": [
       "<bound method NDFrame.describe of        age        bmi  elective_surgery  ethnicity  gender  icu_admit_source  \\\n",
       "0       68  22.730000                 0          2       1                 1   \n",
       "1       77  27.420000                 0          2       0                 1   \n",
       "2       25  31.950000                 0          2       0                 0   \n",
       "3       81  22.640000                 1          2       0                 2   \n",
       "4       67  27.560000                 0          2       1                 0   \n",
       "...    ...        ...               ...        ...     ...               ...   \n",
       "73257   47  51.439842                 1          2       1                 2   \n",
       "73258   54  19.770448                 0          4       1                 0   \n",
       "73259   75  23.060250                 0          2       1                 1   \n",
       "73260   56  47.179671                 0          2       0                 1   \n",
       "73261   82  22.031250                 1          2       0                 2   \n",
       "\n",
       "       icu_id  icu_stay_type  icu_type  pre_icu_los_days  ...  aids  \\\n",
       "0          92              0         2          0.541667  ...     0   \n",
       "1          90              0         5          0.927778  ...     0   \n",
       "2          93              0         5          0.000694  ...     0   \n",
       "3          92              0         2          0.000694  ...     0   \n",
       "4          95              0         5          0.000694  ...     0   \n",
       "...       ...            ...       ...               ...  ...   ...   \n",
       "73257     908              0         5          0.033333  ...     0   \n",
       "73258     925              0         5          0.025694  ...     0   \n",
       "73259     927              0         3          0.298611  ...     0   \n",
       "73260     925              0         5          0.120139  ...     0   \n",
       "73261     926              0         5          0.018056  ...     0   \n",
       "\n",
       "       cirrhosis  diabetes_mellitus  hepatic_failure  immunosuppression  \\\n",
       "0              0                  1                0                  0   \n",
       "1              0                  1                0                  0   \n",
       "2              0                  0                0                  0   \n",
       "3              0                  0                0                  0   \n",
       "4              0                  1                0                  0   \n",
       "...          ...                ...              ...                ...   \n",
       "73257          0                  0                0                  0   \n",
       "73258          0                  0                0                  0   \n",
       "73259          0                  1                0                  0   \n",
       "73260          0                  0                0                  0   \n",
       "73261          0                  0                0                  0   \n",
       "\n",
       "       leukemia  lymphoma  solid_tumor_with_metastasis  apache_3j_bodysystem  \\\n",
       "0             0         0                            0                     9   \n",
       "1             0         0                            0                     8   \n",
       "2             0         0                            0                     5   \n",
       "3             0         0                            0                     0   \n",
       "4             0         0                            0                     7   \n",
       "...         ...       ...                          ...                   ...   \n",
       "73257         0         0                            0                     1   \n",
       "73258         0         0                            0                     0   \n",
       "73259         0         0                            1                     9   \n",
       "73260         0         0                            0                     9   \n",
       "73261         0         0                            0                     1   \n",
       "\n",
       "       apache_2_bodysystem  \n",
       "0                        0  \n",
       "1                        6  \n",
       "2                        3  \n",
       "3                        0  \n",
       "4                        4  \n",
       "...                    ...  \n",
       "73257                    1  \n",
       "73258                    0  \n",
       "73259                    0  \n",
       "73260                    0  \n",
       "73261                    1  \n",
       "\n",
       "[73262 rows x 65 columns]>"
      ]
     },
     "execution_count": 59,
     "metadata": {},
     "output_type": "execute_result"
    }
   ],
   "source": [
    "X.describe"
   ]
  },
  {
   "cell_type": "code",
   "execution_count": 60,
   "id": "5cceba0b",
   "metadata": {},
   "outputs": [
    {
     "data": {
      "text/plain": [
       "0    67400\n",
       "1     5862\n",
       "Name: hospital_death, dtype: int64"
      ]
     },
     "execution_count": 60,
     "metadata": {},
     "output_type": "execute_result"
    }
   ],
   "source": [
    "#Create our target \n",
    "\n",
    "y = df_vitals_all['hospital_death']\n",
    "\n",
    "y.value_counts()"
   ]
  },
  {
   "cell_type": "code",
   "execution_count": 61,
   "id": "e4bea1c7",
   "metadata": {},
   "outputs": [],
   "source": [
    "# Split data into Training and Testing\n",
    "\n",
    "X_train, X_test, y_train, y_test = train_test_split(X, y, random_state=1, stratify=y)"
   ]
  },
  {
   "cell_type": "code",
   "execution_count": 62,
   "id": "5decc055",
   "metadata": {},
   "outputs": [
    {
     "name": "stdout",
     "output_type": "stream",
     "text": [
      "Counter({0: 50550, 1: 4396})\n",
      "Counter({0: 16850, 1: 1466})\n"
     ]
    }
   ],
   "source": [
    "# Check balances\n",
    "print(Counter(y_train))\n",
    "print(Counter(y_test))"
   ]
  },
  {
   "cell_type": "code",
   "execution_count": 63,
   "id": "4d5f2330",
   "metadata": {},
   "outputs": [
    {
     "data": {
      "text/plain": [
       "BalancedRandomForestClassifier(random_state=1)"
      ]
     },
     "execution_count": 63,
     "metadata": {},
     "output_type": "execute_result"
    }
   ],
   "source": [
    "# Instantiate RBC\n",
    "\n",
    "brfc = BalancedRandomForestClassifier(n_estimators=100, random_state=1)\n",
    "\n",
    "# Fit\n",
    "\n",
    "brfc.fit(X_train, y_train)"
   ]
  },
  {
   "cell_type": "code",
   "execution_count": 64,
   "id": "166be169",
   "metadata": {},
   "outputs": [
    {
     "data": {
      "text/plain": [
       "0.7948431105047749"
      ]
     },
     "execution_count": 64,
     "metadata": {},
     "output_type": "execute_result"
    }
   ],
   "source": [
    "# Calculated the balanced accuracy score\n",
    "y_pred = brfc.predict(X_test)\n",
    "RandomForest_accuracy_database = balanced_accuracy_score(y_test, y_pred)\n",
    "\n",
    "RandomForest_accuracy_database"
   ]
  },
  {
   "cell_type": "code",
   "execution_count": 65,
   "id": "d95af594",
   "metadata": {},
   "outputs": [
    {
     "data": {
      "text/html": [
       "<div>\n",
       "<style scoped>\n",
       "    .dataframe tbody tr th:only-of-type {\n",
       "        vertical-align: middle;\n",
       "    }\n",
       "\n",
       "    .dataframe tbody tr th {\n",
       "        vertical-align: top;\n",
       "    }\n",
       "\n",
       "    .dataframe thead th {\n",
       "        text-align: right;\n",
       "    }\n",
       "</style>\n",
       "<table border=\"1\" class=\"dataframe\">\n",
       "  <thead>\n",
       "    <tr style=\"text-align: right;\">\n",
       "      <th></th>\n",
       "      <th>Predicted Survival</th>\n",
       "      <th>Predicted Death</th>\n",
       "    </tr>\n",
       "  </thead>\n",
       "  <tbody>\n",
       "    <tr>\n",
       "      <th>Actual Survival</th>\n",
       "      <td>13143</td>\n",
       "      <td>3707</td>\n",
       "    </tr>\n",
       "    <tr>\n",
       "      <th>Actual Death</th>\n",
       "      <td>279</td>\n",
       "      <td>1187</td>\n",
       "    </tr>\n",
       "  </tbody>\n",
       "</table>\n",
       "</div>"
      ],
      "text/plain": [
       "                 Predicted Survival  Predicted Death\n",
       "Actual Survival               13143             3707\n",
       "Actual Death                    279             1187"
      ]
     },
     "execution_count": 65,
     "metadata": {},
     "output_type": "execute_result"
    }
   ],
   "source": [
    "# Display the confusion matrix\n",
    "# Calculating the confusion matrix\n",
    "cm = confusion_matrix(y_test, y_pred)\n",
    "\n",
    "\n",
    "# Create a DataFrame from the confusion matrix.\n",
    "cm_df = pd.DataFrame(\n",
    "    cm, index=[\"Actual Survival\", \"Actual Death\"], columns=[\"Predicted Survival\", \"Predicted Death\"])\n",
    "\n",
    "cm_df"
   ]
  },
  {
   "cell_type": "code",
   "execution_count": 66,
   "id": "7ad6e4e6",
   "metadata": {},
   "outputs": [
    {
     "name": "stdout",
     "output_type": "stream",
     "text": [
      "                   pre       rec       spe        f1       geo       iba       sup\n",
      "\n",
      "          0       0.98      0.78      0.81      0.87      0.79      0.63     16850\n",
      "          1       0.24      0.81      0.78      0.37      0.79      0.63      1466\n",
      "\n",
      "avg / total       0.92      0.78      0.81      0.83      0.79      0.63     18316\n",
      "\n"
     ]
    }
   ],
   "source": [
    "# Print the imbalanced classification report\n",
    "print(classification_report_imbalanced(y_test, y_pred))"
   ]
  },
  {
   "cell_type": "code",
   "execution_count": 67,
   "id": "f0c6efd7",
   "metadata": {},
   "outputs": [
    {
     "name": "stdout",
     "output_type": "stream",
     "text": [
      "gcs_motor_apache: (0.04246366547483487)\n",
      "d1_sysbp_noninvasive_min: (0.04154108270544474)\n",
      "ventilated_apache: (0.040896445117560506)\n",
      "age: (0.03676679947881998)\n",
      "d1_spo2_min: (0.032432336017719006)\n",
      "gcs_verbal_apache: (0.03231949176756836)\n",
      "gcs_eyes_apache: (0.03173552319263507)\n",
      "d1_sysbp_min: (0.027155878574796333)\n",
      "d1_heartrate_max: (0.026619613367424327)\n",
      "d1_mbp_min: (0.026040018147565326)\n",
      "d1_temp_min: (0.025634490138027637)\n",
      "d1_resprate_max: (0.025398884658886064)\n",
      "d1_mbp_noninvasive_min: (0.0236054981724934)\n",
      "pre_icu_los_days: (0.023378723105511055)\n",
      "temp_apache: (0.02321525824696883)\n",
      "heart_rate_apache: (0.021390877761695633)\n",
      "d1_heartrate_min: (0.021105369170806288)\n",
      "bmi: (0.02102268842397846)\n",
      "d1_diasbp_noninvasive_min: (0.020118921919250056)\n",
      "h1_resprate_min: (0.019927208374629725)\n",
      "h1_resprate_max: (0.019459290118891304)\n",
      "d1_temp_max: (0.01829776881791225)\n",
      "icu_id: (0.018182778850766298)\n",
      "h1_sysbp_min: (0.017864664032378085)\n",
      "map_apache: (0.017854158509995572)\n",
      "d1_diasbp_min: (0.017297843151408254)\n",
      "h1_heartrate_max: (0.016856481392951875)\n",
      "resprate_apache: (0.01670271565904892)\n",
      "h1_heartrate_min: (0.016532300253930588)\n",
      "d1_resprate_min: (0.016180967207387428)\n",
      "h1_sysbp_max: (0.01554076327858195)\n",
      "h1_mbp_max: (0.015364283276668021)\n",
      "h1_mbp_min: (0.015154156853830689)\n",
      "d1_sysbp_max: (0.015065345878246766)\n",
      "d1_sysbp_noninvasive_max: (0.01502227909970241)\n",
      "h1_diasbp_max: (0.014614138702522216)\n",
      "h1_diasbp_min: (0.01432627255013923)\n",
      "d1_diasbp_noninvasive_max: (0.0138276589278748)\n",
      "d1_mbp_max: (0.013675567492900166)\n",
      "d1_mbp_noninvasive_max: (0.013580097472988219)\n",
      "d1_diasbp_max: (0.013179108626429103)\n",
      "h1_spo2_min: (0.012129516644245688)\n",
      "apache_3j_bodysystem: (0.011978616996897794)\n",
      "apache_2_bodysystem: (0.011114918428786192)\n",
      "elective_surgery: (0.008333929144438092)\n",
      "icu_type: (0.007828984661094645)\n",
      "h1_spo2_max: (0.0077830351967611315)\n",
      "icu_admit_source: (0.0074213026472727895)\n",
      "intubated_apache: (0.007318154541096946)\n",
      "apache_post_operative: (0.005471603927812377)\n",
      "d1_spo2_max: (0.004409104064605299)\n",
      "ethnicity: (0.004359184134477004)\n",
      "gender: (0.0025820782850912495)\n",
      "diabetes_mellitus: (0.002101531896206053)\n",
      "solid_tumor_with_metastasis: (0.002090635909077921)\n",
      "icu_stay_type: (0.0019875717498248845)\n",
      "immunosuppression: (0.0013649234949466816)\n",
      "arf_apache: (0.0012446267061062524)\n",
      "hepatic_failure: (0.0012384231994954122)\n",
      "cirrhosis: (0.0009422061292332634)\n",
      "leukemia: (0.0005788180312667065)\n",
      "lymphoma: (0.00029663235365955375)\n",
      "aids: (7.678788643421596e-05)\n",
      "readmission_status: (0.0)\n",
      "gcs_unable_apache: (0.0)\n"
     ]
    }
   ],
   "source": [
    "# List the features sorted in descending order by feature importance\n",
    "features_rank = sorted(zip(brfc.feature_importances_, X.columns), reverse=True)\n",
    "for feature in features_rank:\n",
    "    print(f\"{feature[1]}: ({feature[0]})\")"
   ]
  },
  {
   "cell_type": "code",
   "execution_count": 69,
   "id": "5406319c",
   "metadata": {},
   "outputs": [
    {
     "data": {
      "text/plain": [
       "Text(0.5, 1.0, 'Feature Importance Patient Database')"
      ]
     },
     "execution_count": 69,
     "metadata": {},
     "output_type": "execute_result"
    },
    {
     "data": {
      "image/png": "[encoded data removed]",
      "text/plain": [
       "<Figure size 1800x864 with 1 Axes>"
      ]
     },
     "metadata": {
      "needs_background": "light"
     },
     "output_type": "display_data"
    }
   ],
   "source": [
    "# Plot Features \n",
    "\n",
    "feature_importance = brfc.feature_importances_\n",
    "sorted_idx = np.argsort(feature_importance)\n",
    "fit = plt.figure(figsize=(25,12))\n",
    "plt.barh(range(len(sorted_idx)), feature_importance[sorted_idx], align='center')\n",
    "plt.yticks(range(len(sorted_idx)), np.array(X_test.columns)[sorted_idx])\n",
    "plt.title('Feature Importance Patient Database')"
   ]
  },
  {
   "cell_type": "markdown",
   "id": "2ac9c8a6",
   "metadata": {},
   "source": [
    "### APACHE Covariates"
   ]
  },
  {
   "cell_type": "code",
   "execution_count": 70,
   "id": "d7c88f43",
   "metadata": {},
   "outputs": [
    {
     "data": {
      "text/html": [
       "<div>\n",
       "<style scoped>\n",
       "    .dataframe tbody tr th:only-of-type {\n",
       "        vertical-align: middle;\n",
       "    }\n",
       "\n",
       "    .dataframe tbody tr th {\n",
       "        vertical-align: top;\n",
       "    }\n",
       "\n",
       "    .dataframe thead th {\n",
       "        text-align: right;\n",
       "    }\n",
       "</style>\n",
       "<table border=\"1\" class=\"dataframe\">\n",
       "  <thead>\n",
       "    <tr style=\"text-align: right;\">\n",
       "      <th></th>\n",
       "      <th>patient_id</th>\n",
       "      <th>apache_post_operative</th>\n",
       "      <th>arf_apache</th>\n",
       "      <th>gcs_eyes_apache</th>\n",
       "      <th>gcs_motor_apache</th>\n",
       "      <th>gcs_unable_apache</th>\n",
       "      <th>gcs_verbal_apache</th>\n",
       "      <th>heart_rate_apache</th>\n",
       "      <th>intubated_apache</th>\n",
       "      <th>map_apache</th>\n",
       "      <th>resprate_apache</th>\n",
       "      <th>temp_apache</th>\n",
       "      <th>ventilated_apache</th>\n",
       "      <th>hospital_death</th>\n",
       "    </tr>\n",
       "  </thead>\n",
       "  <tbody>\n",
       "    <tr>\n",
       "      <th>0</th>\n",
       "      <td>25312</td>\n",
       "      <td>0</td>\n",
       "      <td>0</td>\n",
       "      <td>3</td>\n",
       "      <td>6</td>\n",
       "      <td>0</td>\n",
       "      <td>4</td>\n",
       "      <td>118</td>\n",
       "      <td>0</td>\n",
       "      <td>40</td>\n",
       "      <td>36.0</td>\n",
       "      <td>39.3</td>\n",
       "      <td>0</td>\n",
       "      <td>0</td>\n",
       "    </tr>\n",
       "    <tr>\n",
       "      <th>1</th>\n",
       "      <td>59342</td>\n",
       "      <td>0</td>\n",
       "      <td>0</td>\n",
       "      <td>1</td>\n",
       "      <td>3</td>\n",
       "      <td>0</td>\n",
       "      <td>1</td>\n",
       "      <td>120</td>\n",
       "      <td>0</td>\n",
       "      <td>46</td>\n",
       "      <td>33.0</td>\n",
       "      <td>35.1</td>\n",
       "      <td>1</td>\n",
       "      <td>0</td>\n",
       "    </tr>\n",
       "    <tr>\n",
       "      <th>2</th>\n",
       "      <td>50777</td>\n",
       "      <td>0</td>\n",
       "      <td>0</td>\n",
       "      <td>3</td>\n",
       "      <td>6</td>\n",
       "      <td>0</td>\n",
       "      <td>5</td>\n",
       "      <td>102</td>\n",
       "      <td>0</td>\n",
       "      <td>68</td>\n",
       "      <td>37.0</td>\n",
       "      <td>36.7</td>\n",
       "      <td>0</td>\n",
       "      <td>0</td>\n",
       "    </tr>\n",
       "    <tr>\n",
       "      <th>3</th>\n",
       "      <td>46918</td>\n",
       "      <td>1</td>\n",
       "      <td>0</td>\n",
       "      <td>4</td>\n",
       "      <td>6</td>\n",
       "      <td>0</td>\n",
       "      <td>5</td>\n",
       "      <td>114</td>\n",
       "      <td>1</td>\n",
       "      <td>60</td>\n",
       "      <td>4.0</td>\n",
       "      <td>34.8</td>\n",
       "      <td>1</td>\n",
       "      <td>0</td>\n",
       "    </tr>\n",
       "    <tr>\n",
       "      <th>4</th>\n",
       "      <td>74489</td>\n",
       "      <td>0</td>\n",
       "      <td>0</td>\n",
       "      <td>4</td>\n",
       "      <td>6</td>\n",
       "      <td>0</td>\n",
       "      <td>5</td>\n",
       "      <td>113</td>\n",
       "      <td>0</td>\n",
       "      <td>130</td>\n",
       "      <td>35.0</td>\n",
       "      <td>36.6</td>\n",
       "      <td>0</td>\n",
       "      <td>0</td>\n",
       "    </tr>\n",
       "  </tbody>\n",
       "</table>\n",
       "</div>"
      ],
      "text/plain": [
       "   patient_id  apache_post_operative  arf_apache  gcs_eyes_apache  \\\n",
       "0       25312                      0           0                3   \n",
       "1       59342                      0           0                1   \n",
       "2       50777                      0           0                3   \n",
       "3       46918                      1           0                4   \n",
       "4       74489                      0           0                4   \n",
       "\n",
       "   gcs_motor_apache  gcs_unable_apache  gcs_verbal_apache  heart_rate_apache  \\\n",
       "0                 6                  0                  4                118   \n",
       "1                 3                  0                  1                120   \n",
       "2                 6                  0                  5                102   \n",
       "3                 6                  0                  5                114   \n",
       "4                 6                  0                  5                113   \n",
       "\n",
       "   intubated_apache  map_apache  resprate_apache  temp_apache  \\\n",
       "0                 0          40             36.0         39.3   \n",
       "1                 0          46             33.0         35.1   \n",
       "2                 0          68             37.0         36.7   \n",
       "3                 1          60              4.0         34.8   \n",
       "4                 0         130             35.0         36.6   \n",
       "\n",
       "   ventilated_apache  hospital_death  \n",
       "0                  0               0  \n",
       "1                  1               0  \n",
       "2                  0               0  \n",
       "3                  1               0  \n",
       "4                  0               0  "
      ]
     },
     "execution_count": 70,
     "metadata": {},
     "output_type": "execute_result"
    }
   ],
   "source": [
    "file_path = Path(\"C:/Users/emili/Class/Patient_Survival_Prediction/Machine_Learning/Resources/APACHE_covariates_patient.csv\")\n",
    "df_vitals_all = pd.read_csv(file_path)\n",
    "df_vitals_all.head()"
   ]
  },
  {
   "cell_type": "code",
   "execution_count": 71,
   "id": "a2ccf3ae",
   "metadata": {},
   "outputs": [],
   "source": [
    "# Drop patient_id \n",
    "\n",
    "\n",
    "df_vitals_all=df_vitals_all.drop(columns=['patient_id'])"
   ]
  },
  {
   "cell_type": "code",
   "execution_count": 72,
   "id": "22c3c502",
   "metadata": {},
   "outputs": [
    {
     "data": {
      "text/html": [
       "<div>\n",
       "<style scoped>\n",
       "    .dataframe tbody tr th:only-of-type {\n",
       "        vertical-align: middle;\n",
       "    }\n",
       "\n",
       "    .dataframe tbody tr th {\n",
       "        vertical-align: top;\n",
       "    }\n",
       "\n",
       "    .dataframe thead th {\n",
       "        text-align: right;\n",
       "    }\n",
       "</style>\n",
       "<table border=\"1\" class=\"dataframe\">\n",
       "  <thead>\n",
       "    <tr style=\"text-align: right;\">\n",
       "      <th></th>\n",
       "      <th>apache_post_operative</th>\n",
       "      <th>arf_apache</th>\n",
       "      <th>gcs_eyes_apache</th>\n",
       "      <th>gcs_motor_apache</th>\n",
       "      <th>gcs_unable_apache</th>\n",
       "      <th>gcs_verbal_apache</th>\n",
       "      <th>heart_rate_apache</th>\n",
       "      <th>intubated_apache</th>\n",
       "      <th>map_apache</th>\n",
       "      <th>resprate_apache</th>\n",
       "      <th>temp_apache</th>\n",
       "      <th>ventilated_apache</th>\n",
       "    </tr>\n",
       "  </thead>\n",
       "  <tbody>\n",
       "    <tr>\n",
       "      <th>0</th>\n",
       "      <td>0</td>\n",
       "      <td>0</td>\n",
       "      <td>3</td>\n",
       "      <td>6</td>\n",
       "      <td>0</td>\n",
       "      <td>4</td>\n",
       "      <td>118</td>\n",
       "      <td>0</td>\n",
       "      <td>40</td>\n",
       "      <td>36.0</td>\n",
       "      <td>39.3</td>\n",
       "      <td>0</td>\n",
       "    </tr>\n",
       "    <tr>\n",
       "      <th>1</th>\n",
       "      <td>0</td>\n",
       "      <td>0</td>\n",
       "      <td>1</td>\n",
       "      <td>3</td>\n",
       "      <td>0</td>\n",
       "      <td>1</td>\n",
       "      <td>120</td>\n",
       "      <td>0</td>\n",
       "      <td>46</td>\n",
       "      <td>33.0</td>\n",
       "      <td>35.1</td>\n",
       "      <td>1</td>\n",
       "    </tr>\n",
       "    <tr>\n",
       "      <th>2</th>\n",
       "      <td>0</td>\n",
       "      <td>0</td>\n",
       "      <td>3</td>\n",
       "      <td>6</td>\n",
       "      <td>0</td>\n",
       "      <td>5</td>\n",
       "      <td>102</td>\n",
       "      <td>0</td>\n",
       "      <td>68</td>\n",
       "      <td>37.0</td>\n",
       "      <td>36.7</td>\n",
       "      <td>0</td>\n",
       "    </tr>\n",
       "    <tr>\n",
       "      <th>3</th>\n",
       "      <td>1</td>\n",
       "      <td>0</td>\n",
       "      <td>4</td>\n",
       "      <td>6</td>\n",
       "      <td>0</td>\n",
       "      <td>5</td>\n",
       "      <td>114</td>\n",
       "      <td>1</td>\n",
       "      <td>60</td>\n",
       "      <td>4.0</td>\n",
       "      <td>34.8</td>\n",
       "      <td>1</td>\n",
       "    </tr>\n",
       "    <tr>\n",
       "      <th>4</th>\n",
       "      <td>0</td>\n",
       "      <td>0</td>\n",
       "      <td>4</td>\n",
       "      <td>6</td>\n",
       "      <td>0</td>\n",
       "      <td>5</td>\n",
       "      <td>113</td>\n",
       "      <td>0</td>\n",
       "      <td>130</td>\n",
       "      <td>35.0</td>\n",
       "      <td>36.6</td>\n",
       "      <td>0</td>\n",
       "    </tr>\n",
       "  </tbody>\n",
       "</table>\n",
       "</div>"
      ],
      "text/plain": [
       "   apache_post_operative  arf_apache  gcs_eyes_apache  gcs_motor_apache  \\\n",
       "0                      0           0                3                 6   \n",
       "1                      0           0                1                 3   \n",
       "2                      0           0                3                 6   \n",
       "3                      1           0                4                 6   \n",
       "4                      0           0                4                 6   \n",
       "\n",
       "   gcs_unable_apache  gcs_verbal_apache  heart_rate_apache  intubated_apache  \\\n",
       "0                  0                  4                118                 0   \n",
       "1                  0                  1                120                 0   \n",
       "2                  0                  5                102                 0   \n",
       "3                  0                  5                114                 1   \n",
       "4                  0                  5                113                 0   \n",
       "\n",
       "   map_apache  resprate_apache  temp_apache  ventilated_apache  \n",
       "0          40             36.0         39.3                  0  \n",
       "1          46             33.0         35.1                  1  \n",
       "2          68             37.0         36.7                  0  \n",
       "3          60              4.0         34.8                  1  \n",
       "4         130             35.0         36.6                  0  "
      ]
     },
     "execution_count": 72,
     "metadata": {},
     "output_type": "execute_result"
    }
   ],
   "source": [
    "# Create our features\n",
    "\n",
    "X = df_vitals_all.drop('hospital_death', axis=1)\n",
    "\n",
    "\n",
    "X.head()"
   ]
  },
  {
   "cell_type": "code",
   "execution_count": 73,
   "id": "040945df",
   "metadata": {},
   "outputs": [
    {
     "data": {
      "text/plain": [
       "<bound method NDFrame.describe of        apache_post_operative  arf_apache  gcs_eyes_apache  gcs_motor_apache  \\\n",
       "0                          0           0                3                 6   \n",
       "1                          0           0                1                 3   \n",
       "2                          0           0                3                 6   \n",
       "3                          1           0                4                 6   \n",
       "4                          0           0                4                 6   \n",
       "...                      ...         ...              ...               ...   \n",
       "73257                      1           0                4                 6   \n",
       "73258                      0           0                4                 6   \n",
       "73259                      0           0                4                 6   \n",
       "73260                      0           0                4                 6   \n",
       "73261                      1           0                4                 6   \n",
       "\n",
       "       gcs_unable_apache  gcs_verbal_apache  heart_rate_apache  \\\n",
       "0                      0                  4                118   \n",
       "1                      0                  1                120   \n",
       "2                      0                  5                102   \n",
       "3                      0                  5                114   \n",
       "4                      0                  5                113   \n",
       "...                  ...                ...                ...   \n",
       "73257                  0                  2                137   \n",
       "73258                  0                  5                 55   \n",
       "73259                  0                  5                115   \n",
       "73260                  0                  5                100   \n",
       "73261                  0                  1                101   \n",
       "\n",
       "       intubated_apache  map_apache  resprate_apache  temp_apache  \\\n",
       "0                     0          40             36.0         39.3   \n",
       "1                     0          46             33.0         35.1   \n",
       "2                     0          68             37.0         36.7   \n",
       "3                     1          60              4.0         34.8   \n",
       "4                     0         130             35.0         36.6   \n",
       "...                 ...         ...              ...          ...   \n",
       "73257                 0          66              8.0         36.5   \n",
       "73258                 0          62             12.0         36.6   \n",
       "73259                 0          48              9.0         36.6   \n",
       "73260                 0          62             33.0         37.4   \n",
       "73261                 0          56              4.0         36.0   \n",
       "\n",
       "       ventilated_apache  \n",
       "0                      0  \n",
       "1                      1  \n",
       "2                      0  \n",
       "3                      1  \n",
       "4                      0  \n",
       "...                  ...  \n",
       "73257                  0  \n",
       "73258                  0  \n",
       "73259                  1  \n",
       "73260                  0  \n",
       "73261                  1  \n",
       "\n",
       "[73262 rows x 12 columns]>"
      ]
     },
     "execution_count": 73,
     "metadata": {},
     "output_type": "execute_result"
    }
   ],
   "source": [
    "X.describe\n"
   ]
  },
  {
   "cell_type": "code",
   "execution_count": 74,
   "id": "631de879",
   "metadata": {},
   "outputs": [
    {
     "data": {
      "text/plain": [
       "0    67400\n",
       "1     5862\n",
       "Name: hospital_death, dtype: int64"
      ]
     },
     "execution_count": 74,
     "metadata": {},
     "output_type": "execute_result"
    }
   ],
   "source": [
    "#Create our target \n",
    "\n",
    "y = df_vitals_all['hospital_death']\n",
    "\n",
    "y.value_counts()"
   ]
  },
  {
   "cell_type": "code",
   "execution_count": 75,
   "id": "3bb7bf5d",
   "metadata": {},
   "outputs": [],
   "source": [
    "# Split data into Training and Testing\n",
    "\n",
    "X_train, X_test, y_train, y_test = train_test_split(X, y, random_state=1, stratify=y)"
   ]
  },
  {
   "cell_type": "code",
   "execution_count": 76,
   "id": "e1aa4993",
   "metadata": {},
   "outputs": [
    {
     "name": "stdout",
     "output_type": "stream",
     "text": [
      "Counter({0: 50550, 1: 4396})\n",
      "Counter({0: 16850, 1: 1466})\n"
     ]
    }
   ],
   "source": [
    "# Check balances\n",
    "print(Counter(y_train))\n",
    "print(Counter(y_test))"
   ]
  },
  {
   "cell_type": "code",
   "execution_count": 77,
   "id": "5a37e834",
   "metadata": {},
   "outputs": [
    {
     "data": {
      "text/plain": [
       "BalancedRandomForestClassifier(random_state=1)"
      ]
     },
     "execution_count": 77,
     "metadata": {},
     "output_type": "execute_result"
    }
   ],
   "source": [
    "# Instantiate RBC\n",
    "\n",
    "brfc = BalancedRandomForestClassifier(n_estimators=100, random_state=1)\n",
    "\n",
    "# Fit\n",
    "\n",
    "brfc.fit(X_train, y_train)"
   ]
  },
  {
   "cell_type": "code",
   "execution_count": 78,
   "id": "2f749f80",
   "metadata": {},
   "outputs": [
    {
     "data": {
      "text/plain": [
       "0.7438645297363382"
      ]
     },
     "execution_count": 78,
     "metadata": {},
     "output_type": "execute_result"
    }
   ],
   "source": [
    "# Calculated the balanced accuracy score\n",
    "y_pred = brfc.predict(X_test)\n",
    "RandomForest_accuracy_APACHE_covariates = balanced_accuracy_score(y_test, y_pred)\n",
    "\n",
    "RandomForest_accuracy_APACHE_covariates"
   ]
  },
  {
   "cell_type": "code",
   "execution_count": 79,
   "id": "1e12b7ba",
   "metadata": {},
   "outputs": [
    {
     "data": {
      "text/html": [
       "<div>\n",
       "<style scoped>\n",
       "    .dataframe tbody tr th:only-of-type {\n",
       "        vertical-align: middle;\n",
       "    }\n",
       "\n",
       "    .dataframe tbody tr th {\n",
       "        vertical-align: top;\n",
       "    }\n",
       "\n",
       "    .dataframe thead th {\n",
       "        text-align: right;\n",
       "    }\n",
       "</style>\n",
       "<table border=\"1\" class=\"dataframe\">\n",
       "  <thead>\n",
       "    <tr style=\"text-align: right;\">\n",
       "      <th></th>\n",
       "      <th>Predicted Survival</th>\n",
       "      <th>Predicted Death</th>\n",
       "    </tr>\n",
       "  </thead>\n",
       "  <tbody>\n",
       "    <tr>\n",
       "      <th>Actual Survival</th>\n",
       "      <td>12402</td>\n",
       "      <td>4448</td>\n",
       "    </tr>\n",
       "    <tr>\n",
       "      <th>Actual Death</th>\n",
       "      <td>364</td>\n",
       "      <td>1102</td>\n",
       "    </tr>\n",
       "  </tbody>\n",
       "</table>\n",
       "</div>"
      ],
      "text/plain": [
       "                 Predicted Survival  Predicted Death\n",
       "Actual Survival               12402             4448\n",
       "Actual Death                    364             1102"
      ]
     },
     "execution_count": 79,
     "metadata": {},
     "output_type": "execute_result"
    }
   ],
   "source": [
    "# Display the confusion matrix\n",
    "# Calculating the confusion matrix\n",
    "cm = confusion_matrix(y_test, y_pred)\n",
    "\n",
    "\n",
    "# Create a DataFrame from the confusion matrix.\n",
    "cm_df = pd.DataFrame(\n",
    "    cm, index=[\"Actual Survival\", \"Actual Death\"], columns=[\"Predicted Survival\", \"Predicted Death\"])\n",
    "\n",
    "cm_df"
   ]
  },
  {
   "cell_type": "code",
   "execution_count": 80,
   "id": "8830232c",
   "metadata": {},
   "outputs": [
    {
     "name": "stdout",
     "output_type": "stream",
     "text": [
      "                   pre       rec       spe        f1       geo       iba       sup\n",
      "\n",
      "          0       0.97      0.74      0.75      0.84      0.74      0.55     16850\n",
      "          1       0.20      0.75      0.74      0.31      0.74      0.55      1466\n",
      "\n",
      "avg / total       0.91      0.74      0.75      0.80      0.74      0.55     18316\n",
      "\n"
     ]
    }
   ],
   "source": [
    "# Print the imbalanced classification report\n",
    "print(classification_report_imbalanced(y_test, y_pred))"
   ]
  },
  {
   "cell_type": "code",
   "execution_count": 81,
   "id": "77509b61",
   "metadata": {},
   "outputs": [
    {
     "name": "stdout",
     "output_type": "stream",
     "text": [
      "map_apache: (0.19319224605656593)\n",
      "heart_rate_apache: (0.1876816636955183)\n",
      "resprate_apache: (0.1592201197990838)\n",
      "temp_apache: (0.155018229971661)\n",
      "ventilated_apache: (0.07549233821282375)\n",
      "gcs_verbal_apache: (0.06763486600549444)\n",
      "gcs_eyes_apache: (0.05173388818394178)\n",
      "gcs_motor_apache: (0.05102229669481661)\n",
      "apache_post_operative: (0.030671297025877692)\n",
      "intubated_apache: (0.019393473571807273)\n",
      "arf_apache: (0.008939580782409477)\n",
      "gcs_unable_apache: (0.0)\n"
     ]
    }
   ],
   "source": [
    "# List the features sorted in descending order by feature importance\n",
    "features_rank = sorted(zip(brfc.feature_importances_, X.columns), reverse=True)\n",
    "for feature in features_rank:\n",
    "    print(f\"{feature[1]}: ({feature[0]})\")"
   ]
  },
  {
   "cell_type": "code",
   "execution_count": 83,
   "id": "11ead190",
   "metadata": {},
   "outputs": [
    {
     "data": {
      "text/plain": [
       "Text(0.5, 1.0, 'Feature Importance APACHE Covariates')"
      ]
     },
     "execution_count": 83,
     "metadata": {},
     "output_type": "execute_result"
    },
    {
     "data": {
      "image/png": "[encoded data removed]",
      "text/plain": [
       "<Figure size 1080x576 with 1 Axes>"
      ]
     },
     "metadata": {
      "needs_background": "light"
     },
     "output_type": "display_data"
    }
   ],
   "source": [
    "# Plot Features \n",
    "\n",
    "feature_importance = brfc.feature_importances_\n",
    "sorted_idx = np.argsort(feature_importance)\n",
    "fit = plt.figure(figsize=(15,8))\n",
    "plt.barh(range(len(sorted_idx)), feature_importance[sorted_idx], align='center')\n",
    "plt.yticks(range(len(sorted_idx)), np.array(X_test.columns)[sorted_idx])\n",
    "plt.title('Feature Importance APACHE Covariates')"
   ]
  },
  {
   "cell_type": "markdown",
   "id": "39e6b318",
   "metadata": {},
   "source": [
    "### APACHE Comorbidity"
   ]
  },
  {
   "cell_type": "code",
   "execution_count": 84,
   "id": "0d676bf3",
   "metadata": {},
   "outputs": [
    {
     "data": {
      "text/html": [
       "<div>\n",
       "<style scoped>\n",
       "    .dataframe tbody tr th:only-of-type {\n",
       "        vertical-align: middle;\n",
       "    }\n",
       "\n",
       "    .dataframe tbody tr th {\n",
       "        vertical-align: top;\n",
       "    }\n",
       "\n",
       "    .dataframe thead th {\n",
       "        text-align: right;\n",
       "    }\n",
       "</style>\n",
       "<table border=\"1\" class=\"dataframe\">\n",
       "  <thead>\n",
       "    <tr style=\"text-align: right;\">\n",
       "      <th></th>\n",
       "      <th>patient_id</th>\n",
       "      <th>aids</th>\n",
       "      <th>cirrhosis</th>\n",
       "      <th>diabetes_mellitus</th>\n",
       "      <th>hepatic_failure</th>\n",
       "      <th>immunosuppression</th>\n",
       "      <th>leukemia</th>\n",
       "      <th>lymphoma</th>\n",
       "      <th>solid_tumor_with_metastasis</th>\n",
       "      <th>apache_3j_bodysystem</th>\n",
       "      <th>apache_2_bodysystem</th>\n",
       "      <th>hospital_death</th>\n",
       "    </tr>\n",
       "  </thead>\n",
       "  <tbody>\n",
       "    <tr>\n",
       "      <th>0</th>\n",
       "      <td>25312</td>\n",
       "      <td>0</td>\n",
       "      <td>0</td>\n",
       "      <td>1</td>\n",
       "      <td>0</td>\n",
       "      <td>0</td>\n",
       "      <td>0</td>\n",
       "      <td>0</td>\n",
       "      <td>0</td>\n",
       "      <td>9</td>\n",
       "      <td>0</td>\n",
       "      <td>0</td>\n",
       "    </tr>\n",
       "    <tr>\n",
       "      <th>1</th>\n",
       "      <td>59342</td>\n",
       "      <td>0</td>\n",
       "      <td>0</td>\n",
       "      <td>1</td>\n",
       "      <td>0</td>\n",
       "      <td>0</td>\n",
       "      <td>0</td>\n",
       "      <td>0</td>\n",
       "      <td>0</td>\n",
       "      <td>8</td>\n",
       "      <td>6</td>\n",
       "      <td>0</td>\n",
       "    </tr>\n",
       "    <tr>\n",
       "      <th>2</th>\n",
       "      <td>50777</td>\n",
       "      <td>0</td>\n",
       "      <td>0</td>\n",
       "      <td>0</td>\n",
       "      <td>0</td>\n",
       "      <td>0</td>\n",
       "      <td>0</td>\n",
       "      <td>0</td>\n",
       "      <td>0</td>\n",
       "      <td>5</td>\n",
       "      <td>3</td>\n",
       "      <td>0</td>\n",
       "    </tr>\n",
       "    <tr>\n",
       "      <th>3</th>\n",
       "      <td>46918</td>\n",
       "      <td>0</td>\n",
       "      <td>0</td>\n",
       "      <td>0</td>\n",
       "      <td>0</td>\n",
       "      <td>0</td>\n",
       "      <td>0</td>\n",
       "      <td>0</td>\n",
       "      <td>0</td>\n",
       "      <td>0</td>\n",
       "      <td>0</td>\n",
       "      <td>0</td>\n",
       "    </tr>\n",
       "    <tr>\n",
       "      <th>4</th>\n",
       "      <td>74489</td>\n",
       "      <td>0</td>\n",
       "      <td>0</td>\n",
       "      <td>1</td>\n",
       "      <td>0</td>\n",
       "      <td>0</td>\n",
       "      <td>0</td>\n",
       "      <td>0</td>\n",
       "      <td>0</td>\n",
       "      <td>7</td>\n",
       "      <td>4</td>\n",
       "      <td>0</td>\n",
       "    </tr>\n",
       "  </tbody>\n",
       "</table>\n",
       "</div>"
      ],
      "text/plain": [
       "   patient_id  aids  cirrhosis  diabetes_mellitus  hepatic_failure  \\\n",
       "0       25312     0          0                  1                0   \n",
       "1       59342     0          0                  1                0   \n",
       "2       50777     0          0                  0                0   \n",
       "3       46918     0          0                  0                0   \n",
       "4       74489     0          0                  1                0   \n",
       "\n",
       "   immunosuppression  leukemia  lymphoma  solid_tumor_with_metastasis  \\\n",
       "0                  0         0         0                            0   \n",
       "1                  0         0         0                            0   \n",
       "2                  0         0         0                            0   \n",
       "3                  0         0         0                            0   \n",
       "4                  0         0         0                            0   \n",
       "\n",
       "   apache_3j_bodysystem  apache_2_bodysystem  hospital_death  \n",
       "0                     9                    0               0  \n",
       "1                     8                    6               0  \n",
       "2                     5                    3               0  \n",
       "3                     0                    0               0  \n",
       "4                     7                    4               0  "
      ]
     },
     "execution_count": 84,
     "metadata": {},
     "output_type": "execute_result"
    }
   ],
   "source": [
    "file_path = Path(\"C:/Users/emili/Class/Patient_Survival_Prediction/Machine_Learning/Resources/APACHE_comorbidities_patient.csv\")\n",
    "df_vitals_all = pd.read_csv(file_path)\n",
    "df_vitals_all.head()"
   ]
  },
  {
   "cell_type": "code",
   "execution_count": 85,
   "id": "5e5a63ad",
   "metadata": {},
   "outputs": [],
   "source": [
    "# Drop patient_id \n",
    "\n",
    "\n",
    "df_vitals_all=df_vitals_all.drop(columns=['patient_id'])"
   ]
  },
  {
   "cell_type": "code",
   "execution_count": 86,
   "id": "57a882f1",
   "metadata": {},
   "outputs": [
    {
     "data": {
      "text/html": [
       "<div>\n",
       "<style scoped>\n",
       "    .dataframe tbody tr th:only-of-type {\n",
       "        vertical-align: middle;\n",
       "    }\n",
       "\n",
       "    .dataframe tbody tr th {\n",
       "        vertical-align: top;\n",
       "    }\n",
       "\n",
       "    .dataframe thead th {\n",
       "        text-align: right;\n",
       "    }\n",
       "</style>\n",
       "<table border=\"1\" class=\"dataframe\">\n",
       "  <thead>\n",
       "    <tr style=\"text-align: right;\">\n",
       "      <th></th>\n",
       "      <th>aids</th>\n",
       "      <th>cirrhosis</th>\n",
       "      <th>diabetes_mellitus</th>\n",
       "      <th>hepatic_failure</th>\n",
       "      <th>immunosuppression</th>\n",
       "      <th>leukemia</th>\n",
       "      <th>lymphoma</th>\n",
       "      <th>solid_tumor_with_metastasis</th>\n",
       "      <th>apache_3j_bodysystem</th>\n",
       "      <th>apache_2_bodysystem</th>\n",
       "    </tr>\n",
       "  </thead>\n",
       "  <tbody>\n",
       "    <tr>\n",
       "      <th>0</th>\n",
       "      <td>0</td>\n",
       "      <td>0</td>\n",
       "      <td>1</td>\n",
       "      <td>0</td>\n",
       "      <td>0</td>\n",
       "      <td>0</td>\n",
       "      <td>0</td>\n",
       "      <td>0</td>\n",
       "      <td>9</td>\n",
       "      <td>0</td>\n",
       "    </tr>\n",
       "    <tr>\n",
       "      <th>1</th>\n",
       "      <td>0</td>\n",
       "      <td>0</td>\n",
       "      <td>1</td>\n",
       "      <td>0</td>\n",
       "      <td>0</td>\n",
       "      <td>0</td>\n",
       "      <td>0</td>\n",
       "      <td>0</td>\n",
       "      <td>8</td>\n",
       "      <td>6</td>\n",
       "    </tr>\n",
       "    <tr>\n",
       "      <th>2</th>\n",
       "      <td>0</td>\n",
       "      <td>0</td>\n",
       "      <td>0</td>\n",
       "      <td>0</td>\n",
       "      <td>0</td>\n",
       "      <td>0</td>\n",
       "      <td>0</td>\n",
       "      <td>0</td>\n",
       "      <td>5</td>\n",
       "      <td>3</td>\n",
       "    </tr>\n",
       "    <tr>\n",
       "      <th>3</th>\n",
       "      <td>0</td>\n",
       "      <td>0</td>\n",
       "      <td>0</td>\n",
       "      <td>0</td>\n",
       "      <td>0</td>\n",
       "      <td>0</td>\n",
       "      <td>0</td>\n",
       "      <td>0</td>\n",
       "      <td>0</td>\n",
       "      <td>0</td>\n",
       "    </tr>\n",
       "    <tr>\n",
       "      <th>4</th>\n",
       "      <td>0</td>\n",
       "      <td>0</td>\n",
       "      <td>1</td>\n",
       "      <td>0</td>\n",
       "      <td>0</td>\n",
       "      <td>0</td>\n",
       "      <td>0</td>\n",
       "      <td>0</td>\n",
       "      <td>7</td>\n",
       "      <td>4</td>\n",
       "    </tr>\n",
       "  </tbody>\n",
       "</table>\n",
       "</div>"
      ],
      "text/plain": [
       "   aids  cirrhosis  diabetes_mellitus  hepatic_failure  immunosuppression  \\\n",
       "0     0          0                  1                0                  0   \n",
       "1     0          0                  1                0                  0   \n",
       "2     0          0                  0                0                  0   \n",
       "3     0          0                  0                0                  0   \n",
       "4     0          0                  1                0                  0   \n",
       "\n",
       "   leukemia  lymphoma  solid_tumor_with_metastasis  apache_3j_bodysystem  \\\n",
       "0         0         0                            0                     9   \n",
       "1         0         0                            0                     8   \n",
       "2         0         0                            0                     5   \n",
       "3         0         0                            0                     0   \n",
       "4         0         0                            0                     7   \n",
       "\n",
       "   apache_2_bodysystem  \n",
       "0                    0  \n",
       "1                    6  \n",
       "2                    3  \n",
       "3                    0  \n",
       "4                    4  "
      ]
     },
     "execution_count": 86,
     "metadata": {},
     "output_type": "execute_result"
    }
   ],
   "source": [
    "# Create our features\n",
    "\n",
    "X = df_vitals_all.drop('hospital_death', axis=1)\n",
    "\n",
    "\n",
    "X.head()"
   ]
  },
  {
   "cell_type": "code",
   "execution_count": 87,
   "id": "382f93f4",
   "metadata": {},
   "outputs": [
    {
     "data": {
      "text/plain": [
       "<bound method NDFrame.describe of        aids  cirrhosis  diabetes_mellitus  hepatic_failure  immunosuppression  \\\n",
       "0         0          0                  1                0                  0   \n",
       "1         0          0                  1                0                  0   \n",
       "2         0          0                  0                0                  0   \n",
       "3         0          0                  0                0                  0   \n",
       "4         0          0                  1                0                  0   \n",
       "...     ...        ...                ...              ...                ...   \n",
       "73257     0          0                  0                0                  0   \n",
       "73258     0          0                  0                0                  0   \n",
       "73259     0          0                  1                0                  0   \n",
       "73260     0          0                  0                0                  0   \n",
       "73261     0          0                  0                0                  0   \n",
       "\n",
       "       leukemia  lymphoma  solid_tumor_with_metastasis  apache_3j_bodysystem  \\\n",
       "0             0         0                            0                     9   \n",
       "1             0         0                            0                     8   \n",
       "2             0         0                            0                     5   \n",
       "3             0         0                            0                     0   \n",
       "4             0         0                            0                     7   \n",
       "...         ...       ...                          ...                   ...   \n",
       "73257         0         0                            0                     1   \n",
       "73258         0         0                            0                     0   \n",
       "73259         0         0                            1                     9   \n",
       "73260         0         0                            0                     9   \n",
       "73261         0         0                            0                     1   \n",
       "\n",
       "       apache_2_bodysystem  \n",
       "0                        0  \n",
       "1                        6  \n",
       "2                        3  \n",
       "3                        0  \n",
       "4                        4  \n",
       "...                    ...  \n",
       "73257                    1  \n",
       "73258                    0  \n",
       "73259                    0  \n",
       "73260                    0  \n",
       "73261                    1  \n",
       "\n",
       "[73262 rows x 10 columns]>"
      ]
     },
     "execution_count": 87,
     "metadata": {},
     "output_type": "execute_result"
    }
   ],
   "source": [
    "X.describe"
   ]
  },
  {
   "cell_type": "code",
   "execution_count": 88,
   "id": "cfce1271",
   "metadata": {},
   "outputs": [
    {
     "data": {
      "text/plain": [
       "0    67400\n",
       "1     5862\n",
       "Name: hospital_death, dtype: int64"
      ]
     },
     "execution_count": 88,
     "metadata": {},
     "output_type": "execute_result"
    }
   ],
   "source": [
    "#Create our target \n",
    "\n",
    "y = df_vitals_all['hospital_death']\n",
    "\n",
    "y.value_counts()"
   ]
  },
  {
   "cell_type": "code",
   "execution_count": 89,
   "id": "4d07b5ce",
   "metadata": {},
   "outputs": [],
   "source": [
    "# Split data into Training and Testing\n",
    "\n",
    "X_train, X_test, y_train, y_test = train_test_split(X, y, random_state=1, stratify=y)"
   ]
  },
  {
   "cell_type": "code",
   "execution_count": 90,
   "id": "d271d43e",
   "metadata": {},
   "outputs": [
    {
     "name": "stdout",
     "output_type": "stream",
     "text": [
      "Counter({0: 50550, 1: 4396})\n",
      "Counter({0: 16850, 1: 1466})\n"
     ]
    }
   ],
   "source": [
    "# Check balances\n",
    "print(Counter(y_train))\n",
    "print(Counter(y_test))"
   ]
  },
  {
   "cell_type": "code",
   "execution_count": 91,
   "id": "5eebe676",
   "metadata": {},
   "outputs": [
    {
     "data": {
      "text/plain": [
       "BalancedRandomForestClassifier(random_state=1)"
      ]
     },
     "execution_count": 91,
     "metadata": {},
     "output_type": "execute_result"
    }
   ],
   "source": [
    "# Instantiate RBC\n",
    "\n",
    "brfc = BalancedRandomForestClassifier(n_estimators=100, random_state=1)\n",
    "\n",
    "# Fit\n",
    "\n",
    "brfc.fit(X_train, y_train)"
   ]
  },
  {
   "cell_type": "code",
   "execution_count": 92,
   "id": "065844ad",
   "metadata": {},
   "outputs": [
    {
     "data": {
      "text/plain": [
       "0.5944092607511102"
      ]
     },
     "execution_count": 92,
     "metadata": {},
     "output_type": "execute_result"
    }
   ],
   "source": [
    "# Calculated the balanced accuracy score\n",
    "y_pred = brfc.predict(X_test)\n",
    "RandomForest_accuracy_APACHE_comorbidities = balanced_accuracy_score(y_test, y_pred)\n",
    "\n",
    "RandomForest_accuracy_APACHE_comorbidities"
   ]
  },
  {
   "cell_type": "code",
   "execution_count": 93,
   "id": "ecff828a",
   "metadata": {},
   "outputs": [
    {
     "data": {
      "text/html": [
       "<div>\n",
       "<style scoped>\n",
       "    .dataframe tbody tr th:only-of-type {\n",
       "        vertical-align: middle;\n",
       "    }\n",
       "\n",
       "    .dataframe tbody tr th {\n",
       "        vertical-align: top;\n",
       "    }\n",
       "\n",
       "    .dataframe thead th {\n",
       "        text-align: right;\n",
       "    }\n",
       "</style>\n",
       "<table border=\"1\" class=\"dataframe\">\n",
       "  <thead>\n",
       "    <tr style=\"text-align: right;\">\n",
       "      <th></th>\n",
       "      <th>Predicted Survival</th>\n",
       "      <th>Predicted Death</th>\n",
       "    </tr>\n",
       "  </thead>\n",
       "  <tbody>\n",
       "    <tr>\n",
       "      <th>Actual Survival</th>\n",
       "      <td>11779</td>\n",
       "      <td>5071</td>\n",
       "    </tr>\n",
       "    <tr>\n",
       "      <th>Actual Death</th>\n",
       "      <td>748</td>\n",
       "      <td>718</td>\n",
       "    </tr>\n",
       "  </tbody>\n",
       "</table>\n",
       "</div>"
      ],
      "text/plain": [
       "                 Predicted Survival  Predicted Death\n",
       "Actual Survival               11779             5071\n",
       "Actual Death                    748              718"
      ]
     },
     "execution_count": 93,
     "metadata": {},
     "output_type": "execute_result"
    }
   ],
   "source": [
    "# Display the confusion matrix\n",
    "# Calculating the confusion matrix\n",
    "cm = confusion_matrix(y_test, y_pred)\n",
    "\n",
    "\n",
    "# Create a DataFrame from the confusion matrix.\n",
    "cm_df = pd.DataFrame(\n",
    "    cm, index=[\"Actual Survival\", \"Actual Death\"], columns=[\"Predicted Survival\", \"Predicted Death\"])\n",
    "\n",
    "cm_df"
   ]
  },
  {
   "cell_type": "code",
   "execution_count": 94,
   "id": "aab84c22",
   "metadata": {},
   "outputs": [
    {
     "name": "stdout",
     "output_type": "stream",
     "text": [
      "                   pre       rec       spe        f1       geo       iba       sup\n",
      "\n",
      "          0       0.94      0.70      0.49      0.80      0.59      0.35     16850\n",
      "          1       0.12      0.49      0.70      0.20      0.59      0.34      1466\n",
      "\n",
      "avg / total       0.87      0.68      0.51      0.75      0.59      0.35     18316\n",
      "\n"
     ]
    }
   ],
   "source": [
    "# Print the imbalanced classification report\n",
    "print(classification_report_imbalanced(y_test, y_pred))"
   ]
  },
  {
   "cell_type": "code",
   "execution_count": 95,
   "id": "50b02584",
   "metadata": {},
   "outputs": [
    {
     "name": "stdout",
     "output_type": "stream",
     "text": [
      "apache_3j_bodysystem: (0.40676039547327947)\n",
      "apache_2_bodysystem: (0.2970852418626419)\n",
      "solid_tumor_with_metastasis: (0.058331873438163505)\n",
      "diabetes_mellitus: (0.05313531904176189)\n",
      "immunosuppression: (0.04787069757616029)\n",
      "hepatic_failure: (0.0420906000288924)\n",
      "cirrhosis: (0.03915196457000196)\n",
      "leukemia: (0.029427874674045368)\n",
      "lymphoma: (0.018838582973464597)\n",
      "aids: (0.007307450361588646)\n"
     ]
    }
   ],
   "source": [
    "# List the features sorted in descending order by feature importance\n",
    "features_rank = sorted(zip(brfc.feature_importances_, X.columns), reverse=True)\n",
    "for feature in features_rank:\n",
    "    print(f\"{feature[1]}: ({feature[0]})\")"
   ]
  },
  {
   "cell_type": "code",
   "execution_count": 96,
   "id": "9a4e9965",
   "metadata": {},
   "outputs": [
    {
     "data": {
      "text/plain": [
       "Text(0.5, 1.0, 'Feature Importance APACHE Comorbidities')"
      ]
     },
     "execution_count": 96,
     "metadata": {},
     "output_type": "execute_result"
    },
    {
     "data": {
      "image/png": "[encoded data removed]",
      "text/plain": [
       "<Figure size 1080x576 with 1 Axes>"
      ]
     },
     "metadata": {
      "needs_background": "light"
     },
     "output_type": "display_data"
    }
   ],
   "source": [
    "# Plot Features \n",
    "\n",
    "feature_importance = brfc.feature_importances_\n",
    "sorted_idx = np.argsort(feature_importance)\n",
    "fit = plt.figure(figsize=(15,8))\n",
    "plt.barh(range(len(sorted_idx)), feature_importance[sorted_idx], align='center')\n",
    "plt.yticks(range(len(sorted_idx)), np.array(X_test.columns)[sorted_idx])\n",
    "plt.title('Feature Importance APACHE Comorbidities')"
   ]
  },
  {
   "cell_type": "markdown",
   "id": "0773983f",
   "metadata": {},
   "source": [
    "## Accuracy Score Reports"
   ]
  },
  {
   "cell_type": "code",
   "execution_count": 97,
   "id": "728a3462",
   "metadata": {},
   "outputs": [
    {
     "data": {
      "text/html": [
       "<div>\n",
       "<style scoped>\n",
       "    .dataframe tbody tr th:only-of-type {\n",
       "        vertical-align: middle;\n",
       "    }\n",
       "\n",
       "    .dataframe tbody tr th {\n",
       "        vertical-align: top;\n",
       "    }\n",
       "\n",
       "    .dataframe thead th {\n",
       "        text-align: right;\n",
       "    }\n",
       "</style>\n",
       "<table border=\"1\" class=\"dataframe\">\n",
       "  <thead>\n",
       "    <tr style=\"text-align: right;\">\n",
       "      <th></th>\n",
       "      <th>Algorithm</th>\n",
       "      <th>Acuuracy_Score</th>\n",
       "    </tr>\n",
       "  </thead>\n",
       "  <tbody>\n",
       "    <tr>\n",
       "      <th>0</th>\n",
       "      <td>RandomForest_accuracy_vitals_h1</td>\n",
       "      <td>66.105785</td>\n",
       "    </tr>\n",
       "    <tr>\n",
       "      <th>1</th>\n",
       "      <td>RandomForest_accuracy_vitals_d1</td>\n",
       "      <td>73.316001</td>\n",
       "    </tr>\n",
       "    <tr>\n",
       "      <th>2</th>\n",
       "      <td>RandomForest_accuracy_vitals_all</td>\n",
       "      <td>73.456824</td>\n",
       "    </tr>\n",
       "    <tr>\n",
       "      <th>3</th>\n",
       "      <td>RandomForest_accuracy_demographics</td>\n",
       "      <td>63.101024</td>\n",
       "    </tr>\n",
       "    <tr>\n",
       "      <th>4</th>\n",
       "      <td>RandomForest_accuracy_database</td>\n",
       "      <td>79.484311</td>\n",
       "    </tr>\n",
       "    <tr>\n",
       "      <th>5</th>\n",
       "      <td>RandomForest_accuracy_APACHE_covariates</td>\n",
       "      <td>74.386453</td>\n",
       "    </tr>\n",
       "    <tr>\n",
       "      <th>6</th>\n",
       "      <td>RandomForest_accuracy_APACHE_comorbidities</td>\n",
       "      <td>59.440926</td>\n",
       "    </tr>\n",
       "  </tbody>\n",
       "</table>\n",
       "</div>"
      ],
      "text/plain": [
       "                                    Algorithm  Acuuracy_Score\n",
       "0             RandomForest_accuracy_vitals_h1       66.105785\n",
       "1             RandomForest_accuracy_vitals_d1       73.316001\n",
       "2            RandomForest_accuracy_vitals_all       73.456824\n",
       "3          RandomForest_accuracy_demographics       63.101024\n",
       "4              RandomForest_accuracy_database       79.484311\n",
       "5     RandomForest_accuracy_APACHE_covariates       74.386453\n",
       "6  RandomForest_accuracy_APACHE_comorbidities       59.440926"
      ]
     },
     "execution_count": 97,
     "metadata": {},
     "output_type": "execute_result"
    }
   ],
   "source": [
    "# Report the accuracy scores of both models\n",
    "\n",
    "\n",
    "Accuracy=[(RandomForest_accuracy_vitals_h1*100),(RandomForest_accuracy_vitals_d1*100),(RandomForest_accuracy_vitals_all*100),(RandomForest_accuracy_demographics*100),(RandomForest_accuracy_database*100),(RandomForest_accuracy_APACHE_covariates*100),(RandomForest_accuracy_APACHE_comorbidities*100)]\n",
    "\n",
    "  \n",
    "df = {'Algorithm': ['RandomForest_accuracy_vitals_h1','RandomForest_accuracy_vitals_d1','RandomForest_accuracy_vitals_all','RandomForest_accuracy_demographics','RandomForest_accuracy_database','RandomForest_accuracy_APACHE_covariates','RandomForest_accuracy_APACHE_comorbidities'], \\\n",
    "      'Acuuracy_Score':Accuracy}\n",
    "\n",
    "\n",
    "Accuracy_Scores = pd.DataFrame(data=df, columns=['Algorithm','Acuuracy_Score'], index=None)\n",
    "\n",
    "Accuracy_Scores"
   ]
  },
  {
   "cell_type": "code",
   "execution_count": null,
   "id": "945de9f0",
   "metadata": {},
   "outputs": [],
   "source": []
  }
 ],
 "metadata": {
  "kernelspec": {
   "display_name": "mlenv",
   "language": "python",
   "name": "mlenv"
  },
  "language_info": {
   "codemirror_mode": {
    "name": "ipython",
    "version": 3
   },
   "file_extension": ".py",
   "mimetype": "text/x-python",
   "name": "python",
   "nbconvert_exporter": "python",
   "pygments_lexer": "ipython3",
   "version": "3.7.13"
  }
 },
 "nbformat": 4,
 "nbformat_minor": 5
}
