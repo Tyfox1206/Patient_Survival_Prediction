{
 "cells": [
  {
   "cell_type": "code",
   "execution_count": 1,
   "id": "f483ec8a",
   "metadata": {},
   "outputs": [],
   "source": [
    "# Initial imports.\n",
    "\n",
    "import numpy as np\n",
    "import pandas as pd\n",
    "from pathlib import Path\n",
    "from collections import Counter\n",
    "from sklearn.model_selection import train_test_split\n",
    "from sklearn.metrics import balanced_accuracy_score\n",
    "from sklearn.metrics import confusion_matrix\n",
    "from imblearn.metrics import classification_report_imbalanced\n",
    "import matplotlib.pyplot \n",
    "from scipy import stats\n",
    "import matplotlib.pyplot as plt\n",
    "from imblearn.ensemble import BalancedRandomForestClassifier"
   ]
  },
  {
   "cell_type": "code",
   "execution_count": 2,
   "id": "4331af06",
   "metadata": {},
   "outputs": [],
   "source": [
    "# Python SQL toolkit and Object Relational Mapper\n",
    "import sqlalchemy\n",
    "from sqlalchemy.ext.automap import automap_base\n",
    "from sqlalchemy.orm import Session\n",
    "from sqlalchemy import create_engine"
   ]
  },
  {
   "cell_type": "code",
   "execution_count": 8,
   "id": "5a1469c8",
   "metadata": {},
   "outputs": [
    {
     "data": {
      "text/plain": [
       "'postgresql://[emili]:[Sashabean]@[127.0.0.1]:[5432]/[Patient_database]'"
      ]
     },
     "execution_count": 8,
     "metadata": {},
     "output_type": "execute_result"
    }
   ],
   "source": [
    "\"postgresql://[emili]:[Sashabean]@[127.0.0.1]:[5432]/[Patient_database]\""
   ]
  },
  {
   "cell_type": "code",
   "execution_count": 15,
   "id": "22b07fbe",
   "metadata": {},
   "outputs": [],
   "source": [
    "# reflect an existing database into a new model\n",
    "Base = automap_base()\n",
    "# reflect the tables\n",
    "Base.prepare(engine, reflect=True)"
   ]
  },
  {
   "cell_type": "code",
   "execution_count": 16,
   "id": "29d5943c",
   "metadata": {},
   "outputs": [
    {
     "ename": "AttributeError",
     "evalue": "Patient_database",
     "output_type": "error",
     "traceback": [
      "\u001b[1;31m---------------------------------------------------------------------------\u001b[0m",
      "\u001b[1;31mKeyError\u001b[0m                                  Traceback (most recent call last)",
      "\u001b[1;32m~\\anaconda3\\envs\\mlenv\\lib\\site-packages\\sqlalchemy\\util\\_collections.py\u001b[0m in \u001b[0;36m__getattr__\u001b[1;34m(self, key)\u001b[0m\n\u001b[0;32m    185\u001b[0m         \u001b[1;32mtry\u001b[0m\u001b[1;33m:\u001b[0m\u001b[1;33m\u001b[0m\u001b[1;33m\u001b[0m\u001b[0m\n\u001b[1;32m--> 186\u001b[1;33m             \u001b[1;32mreturn\u001b[0m \u001b[0mself\u001b[0m\u001b[1;33m.\u001b[0m\u001b[0m_data\u001b[0m\u001b[1;33m[\u001b[0m\u001b[0mkey\u001b[0m\u001b[1;33m]\u001b[0m\u001b[1;33m\u001b[0m\u001b[1;33m\u001b[0m\u001b[0m\n\u001b[0m\u001b[0;32m    187\u001b[0m         \u001b[1;32mexcept\u001b[0m \u001b[0mKeyError\u001b[0m\u001b[1;33m:\u001b[0m\u001b[1;33m\u001b[0m\u001b[1;33m\u001b[0m\u001b[0m\n",
      "\u001b[1;31mKeyError\u001b[0m: 'Patient_database'",
      "\nDuring handling of the above exception, another exception occurred:\n",
      "\u001b[1;31mAttributeError\u001b[0m                            Traceback (most recent call last)",
      "\u001b[1;32m~\\AppData\\Local\\Temp\\ipykernel_4600\\1775540482.py\u001b[0m in \u001b[0;36m<module>\u001b[1;34m\u001b[0m\n\u001b[0;32m      1\u001b[0m \u001b[1;31m# Save references to each table\u001b[0m\u001b[1;33m\u001b[0m\u001b[1;33m\u001b[0m\u001b[1;33m\u001b[0m\u001b[0m\n\u001b[1;32m----> 2\u001b[1;33m \u001b[0mPatient_database\u001b[0m \u001b[1;33m=\u001b[0m \u001b[0mBase\u001b[0m\u001b[1;33m.\u001b[0m\u001b[0mclasses\u001b[0m\u001b[1;33m.\u001b[0m\u001b[0mPatient_database\u001b[0m\u001b[1;33m\u001b[0m\u001b[1;33m\u001b[0m\u001b[0m\n\u001b[0m",
      "\u001b[1;32m~\\anaconda3\\envs\\mlenv\\lib\\site-packages\\sqlalchemy\\util\\_collections.py\u001b[0m in \u001b[0;36m__getattr__\u001b[1;34m(self, key)\u001b[0m\n\u001b[0;32m    186\u001b[0m             \u001b[1;32mreturn\u001b[0m \u001b[0mself\u001b[0m\u001b[1;33m.\u001b[0m\u001b[0m_data\u001b[0m\u001b[1;33m[\u001b[0m\u001b[0mkey\u001b[0m\u001b[1;33m]\u001b[0m\u001b[1;33m\u001b[0m\u001b[1;33m\u001b[0m\u001b[0m\n\u001b[0;32m    187\u001b[0m         \u001b[1;32mexcept\u001b[0m \u001b[0mKeyError\u001b[0m\u001b[1;33m:\u001b[0m\u001b[1;33m\u001b[0m\u001b[1;33m\u001b[0m\u001b[0m\n\u001b[1;32m--> 188\u001b[1;33m             \u001b[1;32mraise\u001b[0m \u001b[0mAttributeError\u001b[0m\u001b[1;33m(\u001b[0m\u001b[0mkey\u001b[0m\u001b[1;33m)\u001b[0m\u001b[1;33m\u001b[0m\u001b[1;33m\u001b[0m\u001b[0m\n\u001b[0m\u001b[0;32m    189\u001b[0m \u001b[1;33m\u001b[0m\u001b[0m\n\u001b[0;32m    190\u001b[0m     \u001b[1;32mdef\u001b[0m \u001b[0m__contains__\u001b[0m\u001b[1;33m(\u001b[0m\u001b[0mself\u001b[0m\u001b[1;33m,\u001b[0m \u001b[0mkey\u001b[0m\u001b[1;33m)\u001b[0m\u001b[1;33m:\u001b[0m\u001b[1;33m\u001b[0m\u001b[1;33m\u001b[0m\u001b[0m\n",
      "\u001b[1;31mAttributeError\u001b[0m: Patient_database"
     ]
    }
   ],
   "source": [
    "# Save references to each table\n",
    "Patient_database = Base.classes.Patient_database\n"
   ]
  },
  {
   "cell_type": "code",
   "execution_count": 17,
   "id": "4f0cc85e",
   "metadata": {},
   "outputs": [
    {
     "ename": "NameError",
     "evalue": "name 'db_string' is not defined",
     "output_type": "error",
     "traceback": [
      "\u001b[1;31m---------------------------------------------------------------------------\u001b[0m",
      "\u001b[1;31mNameError\u001b[0m                                 Traceback (most recent call last)",
      "\u001b[1;32m~\\AppData\\Local\\Temp\\ipykernel_4600\\2288127933.py\u001b[0m in \u001b[0;36m<module>\u001b[1;34m\u001b[0m\n\u001b[0;32m      1\u001b[0m \u001b[1;31m# Create our session (link) from Python to the DB\u001b[0m\u001b[1;33m\u001b[0m\u001b[1;33m\u001b[0m\u001b[1;33m\u001b[0m\u001b[0m\n\u001b[0;32m      2\u001b[0m \u001b[1;33m\u001b[0m\u001b[0m\n\u001b[1;32m----> 3\u001b[1;33m \u001b[0mengine\u001b[0m \u001b[1;33m=\u001b[0m \u001b[0mcreate_engine\u001b[0m\u001b[1;33m(\u001b[0m\u001b[0mdb_string\u001b[0m\u001b[1;33m)\u001b[0m\u001b[1;33m\u001b[0m\u001b[1;33m\u001b[0m\u001b[0m\n\u001b[0m",
      "\u001b[1;31mNameError\u001b[0m: name 'db_string' is not defined"
     ]
    }
   ],
   "source": [
    "# Create our session (link) from Python to the DB\n",
    "\n",
    "engine = create_engine(db_string)"
   ]
  },
  {
   "cell_type": "code",
   "execution_count": 18,
   "id": "08045916",
   "metadata": {},
   "outputs": [
    {
     "ename": "NameError",
     "evalue": "name 'file_dir' is not defined",
     "output_type": "error",
     "traceback": [
      "\u001b[1;31m---------------------------------------------------------------------------\u001b[0m",
      "\u001b[1;31mNameError\u001b[0m                                 Traceback (most recent call last)",
      "\u001b[1;32m~\\AppData\\Local\\Temp\\ipykernel_4600\\1029741996.py\u001b[0m in \u001b[0;36m<module>\u001b[1;34m\u001b[0m\n\u001b[1;32m----> 1\u001b[1;33m \u001b[1;32mfor\u001b[0m \u001b[0mdata\u001b[0m \u001b[1;32min\u001b[0m \u001b[0mpd\u001b[0m\u001b[1;33m.\u001b[0m\u001b[0mread_csv\u001b[0m\u001b[1;33m(\u001b[0m\u001b[1;34mf'{file_dir}database_patient.csv'\u001b[0m\u001b[1;33m,\u001b[0m \u001b[0mchunksize\u001b[0m\u001b[1;33m=\u001b[0m\u001b[1;36m1000000\u001b[0m\u001b[1;33m)\u001b[0m\u001b[1;33m:\u001b[0m\u001b[1;33m\u001b[0m\u001b[1;33m\u001b[0m\u001b[0m\n\u001b[0m\u001b[0;32m      2\u001b[0m     \u001b[0mdata\u001b[0m\u001b[1;33m.\u001b[0m\u001b[0mto_sql\u001b[0m\u001b[1;33m(\u001b[0m\u001b[0mname\u001b[0m\u001b[1;33m=\u001b[0m\u001b[1;34m'database_patient'\u001b[0m\u001b[1;33m,\u001b[0m \u001b[0mcon\u001b[0m\u001b[1;33m=\u001b[0m\u001b[0mengine\u001b[0m\u001b[1;33m,\u001b[0m \u001b[0mif_exists\u001b[0m\u001b[1;33m=\u001b[0m\u001b[1;34m'append'\u001b[0m\u001b[1;33m)\u001b[0m\u001b[1;33m\u001b[0m\u001b[1;33m\u001b[0m\u001b[0m\n",
      "\u001b[1;31mNameError\u001b[0m: name 'file_dir' is not defined"
     ]
    }
   ],
   "source": [
    "for data in pd.read_csv(f'{file_dir}database_patient.csv', chunksize=1000000):\n",
    "    data.to_sql(name='database_patient', con=engine, if_exists='append')"
   ]
  },
  {
   "cell_type": "code",
   "execution_count": 6,
   "id": "25dfac8f",
   "metadata": {},
   "outputs": [
    {
     "data": {
      "text/html": [
       "<div>\n",
       "<style scoped>\n",
       "    .dataframe tbody tr th:only-of-type {\n",
       "        vertical-align: middle;\n",
       "    }\n",
       "\n",
       "    .dataframe tbody tr th {\n",
       "        vertical-align: top;\n",
       "    }\n",
       "\n",
       "    .dataframe thead th {\n",
       "        text-align: right;\n",
       "    }\n",
       "</style>\n",
       "<table border=\"1\" class=\"dataframe\">\n",
       "  <thead>\n",
       "    <tr style=\"text-align: right;\">\n",
       "      <th></th>\n",
       "      <th>encounter_id</th>\n",
       "      <th>patient_id</th>\n",
       "      <th>hospital_id</th>\n",
       "      <th>hospital_death</th>\n",
       "      <th>age</th>\n",
       "      <th>bmi</th>\n",
       "      <th>elective_surgery</th>\n",
       "      <th>ethnicity</th>\n",
       "      <th>gender</th>\n",
       "      <th>icu_admit_source</th>\n",
       "      <th>...</th>\n",
       "      <th>aids</th>\n",
       "      <th>cirrhosis</th>\n",
       "      <th>diabetes_mellitus</th>\n",
       "      <th>hepatic_failure</th>\n",
       "      <th>immunosuppression</th>\n",
       "      <th>leukemia</th>\n",
       "      <th>lymphoma</th>\n",
       "      <th>solid_tumor_with_metastasis</th>\n",
       "      <th>apache_3j_bodysystem</th>\n",
       "      <th>apache_2_bodysystem</th>\n",
       "    </tr>\n",
       "  </thead>\n",
       "  <tbody>\n",
       "    <tr>\n",
       "      <th>0</th>\n",
       "      <td>66154</td>\n",
       "      <td>25312</td>\n",
       "      <td>118</td>\n",
       "      <td>0</td>\n",
       "      <td>68</td>\n",
       "      <td>22.73</td>\n",
       "      <td>0</td>\n",
       "      <td>2</td>\n",
       "      <td>1</td>\n",
       "      <td>1</td>\n",
       "      <td>...</td>\n",
       "      <td>0</td>\n",
       "      <td>0</td>\n",
       "      <td>1</td>\n",
       "      <td>0</td>\n",
       "      <td>0</td>\n",
       "      <td>0</td>\n",
       "      <td>0</td>\n",
       "      <td>0</td>\n",
       "      <td>9</td>\n",
       "      <td>0</td>\n",
       "    </tr>\n",
       "    <tr>\n",
       "      <th>1</th>\n",
       "      <td>114252</td>\n",
       "      <td>59342</td>\n",
       "      <td>81</td>\n",
       "      <td>0</td>\n",
       "      <td>77</td>\n",
       "      <td>27.42</td>\n",
       "      <td>0</td>\n",
       "      <td>2</td>\n",
       "      <td>0</td>\n",
       "      <td>1</td>\n",
       "      <td>...</td>\n",
       "      <td>0</td>\n",
       "      <td>0</td>\n",
       "      <td>1</td>\n",
       "      <td>0</td>\n",
       "      <td>0</td>\n",
       "      <td>0</td>\n",
       "      <td>0</td>\n",
       "      <td>0</td>\n",
       "      <td>8</td>\n",
       "      <td>6</td>\n",
       "    </tr>\n",
       "    <tr>\n",
       "      <th>2</th>\n",
       "      <td>119783</td>\n",
       "      <td>50777</td>\n",
       "      <td>118</td>\n",
       "      <td>0</td>\n",
       "      <td>25</td>\n",
       "      <td>31.95</td>\n",
       "      <td>0</td>\n",
       "      <td>2</td>\n",
       "      <td>0</td>\n",
       "      <td>0</td>\n",
       "      <td>...</td>\n",
       "      <td>0</td>\n",
       "      <td>0</td>\n",
       "      <td>0</td>\n",
       "      <td>0</td>\n",
       "      <td>0</td>\n",
       "      <td>0</td>\n",
       "      <td>0</td>\n",
       "      <td>0</td>\n",
       "      <td>5</td>\n",
       "      <td>3</td>\n",
       "    </tr>\n",
       "    <tr>\n",
       "      <th>3</th>\n",
       "      <td>79267</td>\n",
       "      <td>46918</td>\n",
       "      <td>118</td>\n",
       "      <td>0</td>\n",
       "      <td>81</td>\n",
       "      <td>22.64</td>\n",
       "      <td>1</td>\n",
       "      <td>2</td>\n",
       "      <td>0</td>\n",
       "      <td>2</td>\n",
       "      <td>...</td>\n",
       "      <td>0</td>\n",
       "      <td>0</td>\n",
       "      <td>0</td>\n",
       "      <td>0</td>\n",
       "      <td>0</td>\n",
       "      <td>0</td>\n",
       "      <td>0</td>\n",
       "      <td>0</td>\n",
       "      <td>0</td>\n",
       "      <td>0</td>\n",
       "    </tr>\n",
       "    <tr>\n",
       "      <th>4</th>\n",
       "      <td>33181</td>\n",
       "      <td>74489</td>\n",
       "      <td>83</td>\n",
       "      <td>0</td>\n",
       "      <td>67</td>\n",
       "      <td>27.56</td>\n",
       "      <td>0</td>\n",
       "      <td>2</td>\n",
       "      <td>1</td>\n",
       "      <td>0</td>\n",
       "      <td>...</td>\n",
       "      <td>0</td>\n",
       "      <td>0</td>\n",
       "      <td>1</td>\n",
       "      <td>0</td>\n",
       "      <td>0</td>\n",
       "      <td>0</td>\n",
       "      <td>0</td>\n",
       "      <td>0</td>\n",
       "      <td>7</td>\n",
       "      <td>4</td>\n",
       "    </tr>\n",
       "  </tbody>\n",
       "</table>\n",
       "<p>5 rows × 69 columns</p>\n",
       "</div>"
      ],
      "text/plain": [
       "   encounter_id  patient_id  hospital_id  hospital_death  age    bmi  \\\n",
       "0         66154       25312          118               0   68  22.73   \n",
       "1        114252       59342           81               0   77  27.42   \n",
       "2        119783       50777          118               0   25  31.95   \n",
       "3         79267       46918          118               0   81  22.64   \n",
       "4         33181       74489           83               0   67  27.56   \n",
       "\n",
       "   elective_surgery  ethnicity  gender  icu_admit_source  ...  aids  \\\n",
       "0                 0          2       1                 1  ...     0   \n",
       "1                 0          2       0                 1  ...     0   \n",
       "2                 0          2       0                 0  ...     0   \n",
       "3                 1          2       0                 2  ...     0   \n",
       "4                 0          2       1                 0  ...     0   \n",
       "\n",
       "   cirrhosis  diabetes_mellitus  hepatic_failure  immunosuppression  leukemia  \\\n",
       "0          0                  1                0                  0         0   \n",
       "1          0                  1                0                  0         0   \n",
       "2          0                  0                0                  0         0   \n",
       "3          0                  0                0                  0         0   \n",
       "4          0                  1                0                  0         0   \n",
       "\n",
       "   lymphoma  solid_tumor_with_metastasis  apache_3j_bodysystem  \\\n",
       "0         0                            0                     9   \n",
       "1         0                            0                     8   \n",
       "2         0                            0                     5   \n",
       "3         0                            0                     0   \n",
       "4         0                            0                     7   \n",
       "\n",
       "   apache_2_bodysystem  \n",
       "0                    0  \n",
       "1                    6  \n",
       "2                    3  \n",
       "3                    0  \n",
       "4                    4  \n",
       "\n",
       "[5 rows x 69 columns]"
      ]
     },
     "execution_count": 6,
     "metadata": {},
     "output_type": "execute_result"
    }
   ],
   "source": [
    "file_path = Path(\"C:/Users/emili/Class/Patient_Survival_Prediction/Machine_Learning/Resources/database_patient.csv\")\n",
    "df_database_patient = pd.read_csv(file_path)\n",
    "df_database_patient.head()"
   ]
  },
  {
   "cell_type": "code",
   "execution_count": 7,
   "id": "9ed9ebc7",
   "metadata": {},
   "outputs": [],
   "source": [
    "df_database_patient=df_database_patient.drop(columns=['patient_id', 'hospital_id', 'encounter_id'])"
   ]
  },
  {
   "cell_type": "code",
   "execution_count": 8,
   "id": "54544e1d",
   "metadata": {},
   "outputs": [
    {
     "data": {
      "text/html": [
       "<div>\n",
       "<style scoped>\n",
       "    .dataframe tbody tr th:only-of-type {\n",
       "        vertical-align: middle;\n",
       "    }\n",
       "\n",
       "    .dataframe tbody tr th {\n",
       "        vertical-align: top;\n",
       "    }\n",
       "\n",
       "    .dataframe thead th {\n",
       "        text-align: right;\n",
       "    }\n",
       "</style>\n",
       "<table border=\"1\" class=\"dataframe\">\n",
       "  <thead>\n",
       "    <tr style=\"text-align: right;\">\n",
       "      <th></th>\n",
       "      <th>age</th>\n",
       "      <th>bmi</th>\n",
       "      <th>elective_surgery</th>\n",
       "      <th>ethnicity</th>\n",
       "      <th>gender</th>\n",
       "      <th>icu_admit_source</th>\n",
       "      <th>icu_id</th>\n",
       "      <th>icu_stay_type</th>\n",
       "      <th>icu_type</th>\n",
       "      <th>pre_icu_los_days</th>\n",
       "      <th>...</th>\n",
       "      <th>aids</th>\n",
       "      <th>cirrhosis</th>\n",
       "      <th>diabetes_mellitus</th>\n",
       "      <th>hepatic_failure</th>\n",
       "      <th>immunosuppression</th>\n",
       "      <th>leukemia</th>\n",
       "      <th>lymphoma</th>\n",
       "      <th>solid_tumor_with_metastasis</th>\n",
       "      <th>apache_3j_bodysystem</th>\n",
       "      <th>apache_2_bodysystem</th>\n",
       "    </tr>\n",
       "  </thead>\n",
       "  <tbody>\n",
       "    <tr>\n",
       "      <th>0</th>\n",
       "      <td>68</td>\n",
       "      <td>22.73</td>\n",
       "      <td>0</td>\n",
       "      <td>2</td>\n",
       "      <td>1</td>\n",
       "      <td>1</td>\n",
       "      <td>92</td>\n",
       "      <td>0</td>\n",
       "      <td>2</td>\n",
       "      <td>0.541667</td>\n",
       "      <td>...</td>\n",
       "      <td>0</td>\n",
       "      <td>0</td>\n",
       "      <td>1</td>\n",
       "      <td>0</td>\n",
       "      <td>0</td>\n",
       "      <td>0</td>\n",
       "      <td>0</td>\n",
       "      <td>0</td>\n",
       "      <td>9</td>\n",
       "      <td>0</td>\n",
       "    </tr>\n",
       "    <tr>\n",
       "      <th>1</th>\n",
       "      <td>77</td>\n",
       "      <td>27.42</td>\n",
       "      <td>0</td>\n",
       "      <td>2</td>\n",
       "      <td>0</td>\n",
       "      <td>1</td>\n",
       "      <td>90</td>\n",
       "      <td>0</td>\n",
       "      <td>5</td>\n",
       "      <td>0.927778</td>\n",
       "      <td>...</td>\n",
       "      <td>0</td>\n",
       "      <td>0</td>\n",
       "      <td>1</td>\n",
       "      <td>0</td>\n",
       "      <td>0</td>\n",
       "      <td>0</td>\n",
       "      <td>0</td>\n",
       "      <td>0</td>\n",
       "      <td>8</td>\n",
       "      <td>6</td>\n",
       "    </tr>\n",
       "    <tr>\n",
       "      <th>2</th>\n",
       "      <td>25</td>\n",
       "      <td>31.95</td>\n",
       "      <td>0</td>\n",
       "      <td>2</td>\n",
       "      <td>0</td>\n",
       "      <td>0</td>\n",
       "      <td>93</td>\n",
       "      <td>0</td>\n",
       "      <td>5</td>\n",
       "      <td>0.000694</td>\n",
       "      <td>...</td>\n",
       "      <td>0</td>\n",
       "      <td>0</td>\n",
       "      <td>0</td>\n",
       "      <td>0</td>\n",
       "      <td>0</td>\n",
       "      <td>0</td>\n",
       "      <td>0</td>\n",
       "      <td>0</td>\n",
       "      <td>5</td>\n",
       "      <td>3</td>\n",
       "    </tr>\n",
       "    <tr>\n",
       "      <th>3</th>\n",
       "      <td>81</td>\n",
       "      <td>22.64</td>\n",
       "      <td>1</td>\n",
       "      <td>2</td>\n",
       "      <td>0</td>\n",
       "      <td>2</td>\n",
       "      <td>92</td>\n",
       "      <td>0</td>\n",
       "      <td>2</td>\n",
       "      <td>0.000694</td>\n",
       "      <td>...</td>\n",
       "      <td>0</td>\n",
       "      <td>0</td>\n",
       "      <td>0</td>\n",
       "      <td>0</td>\n",
       "      <td>0</td>\n",
       "      <td>0</td>\n",
       "      <td>0</td>\n",
       "      <td>0</td>\n",
       "      <td>0</td>\n",
       "      <td>0</td>\n",
       "    </tr>\n",
       "    <tr>\n",
       "      <th>4</th>\n",
       "      <td>67</td>\n",
       "      <td>27.56</td>\n",
       "      <td>0</td>\n",
       "      <td>2</td>\n",
       "      <td>1</td>\n",
       "      <td>0</td>\n",
       "      <td>95</td>\n",
       "      <td>0</td>\n",
       "      <td>5</td>\n",
       "      <td>0.000694</td>\n",
       "      <td>...</td>\n",
       "      <td>0</td>\n",
       "      <td>0</td>\n",
       "      <td>1</td>\n",
       "      <td>0</td>\n",
       "      <td>0</td>\n",
       "      <td>0</td>\n",
       "      <td>0</td>\n",
       "      <td>0</td>\n",
       "      <td>7</td>\n",
       "      <td>4</td>\n",
       "    </tr>\n",
       "  </tbody>\n",
       "</table>\n",
       "<p>5 rows × 65 columns</p>\n",
       "</div>"
      ],
      "text/plain": [
       "   age    bmi  elective_surgery  ethnicity  gender  icu_admit_source  icu_id  \\\n",
       "0   68  22.73                 0          2       1                 1      92   \n",
       "1   77  27.42                 0          2       0                 1      90   \n",
       "2   25  31.95                 0          2       0                 0      93   \n",
       "3   81  22.64                 1          2       0                 2      92   \n",
       "4   67  27.56                 0          2       1                 0      95   \n",
       "\n",
       "   icu_stay_type  icu_type  pre_icu_los_days  ...  aids  cirrhosis  \\\n",
       "0              0         2          0.541667  ...     0          0   \n",
       "1              0         5          0.927778  ...     0          0   \n",
       "2              0         5          0.000694  ...     0          0   \n",
       "3              0         2          0.000694  ...     0          0   \n",
       "4              0         5          0.000694  ...     0          0   \n",
       "\n",
       "   diabetes_mellitus  hepatic_failure  immunosuppression  leukemia  lymphoma  \\\n",
       "0                  1                0                  0         0         0   \n",
       "1                  1                0                  0         0         0   \n",
       "2                  0                0                  0         0         0   \n",
       "3                  0                0                  0         0         0   \n",
       "4                  1                0                  0         0         0   \n",
       "\n",
       "   solid_tumor_with_metastasis  apache_3j_bodysystem  apache_2_bodysystem  \n",
       "0                            0                     9                    0  \n",
       "1                            0                     8                    6  \n",
       "2                            0                     5                    3  \n",
       "3                            0                     0                    0  \n",
       "4                            0                     7                    4  \n",
       "\n",
       "[5 rows x 65 columns]"
      ]
     },
     "execution_count": 8,
     "metadata": {},
     "output_type": "execute_result"
    }
   ],
   "source": [
    "# Create our features\n",
    "\n",
    "X = df_database_patient.drop('hospital_death', axis=1)\n",
    "\n",
    "\n",
    "X.head()"
   ]
  },
  {
   "cell_type": "code",
   "execution_count": 10,
   "id": "1d0c3f4b",
   "metadata": {},
   "outputs": [
    {
     "data": {
      "text/plain": [
       "<bound method NDFrame.describe of        age        bmi  elective_surgery  ethnicity  gender  icu_admit_source  \\\n",
       "0       68  22.730000                 0          2       1                 1   \n",
       "1       77  27.420000                 0          2       0                 1   \n",
       "2       25  31.950000                 0          2       0                 0   \n",
       "3       81  22.640000                 1          2       0                 2   \n",
       "4       67  27.560000                 0          2       1                 0   \n",
       "...    ...        ...               ...        ...     ...               ...   \n",
       "73257   47  51.439842                 1          2       1                 2   \n",
       "73258   54  19.770448                 0          4       1                 0   \n",
       "73259   75  23.060250                 0          2       1                 1   \n",
       "73260   56  47.179671                 0          2       0                 1   \n",
       "73261   82  22.031250                 1          2       0                 2   \n",
       "\n",
       "       icu_id  icu_stay_type  icu_type  pre_icu_los_days  ...  aids  \\\n",
       "0          92              0         2          0.541667  ...     0   \n",
       "1          90              0         5          0.927778  ...     0   \n",
       "2          93              0         5          0.000694  ...     0   \n",
       "3          92              0         2          0.000694  ...     0   \n",
       "4          95              0         5          0.000694  ...     0   \n",
       "...       ...            ...       ...               ...  ...   ...   \n",
       "73257     908              0         5          0.033333  ...     0   \n",
       "73258     925              0         5          0.025694  ...     0   \n",
       "73259     927              0         3          0.298611  ...     0   \n",
       "73260     925              0         5          0.120139  ...     0   \n",
       "73261     926              0         5          0.018056  ...     0   \n",
       "\n",
       "       cirrhosis  diabetes_mellitus  hepatic_failure  immunosuppression  \\\n",
       "0              0                  1                0                  0   \n",
       "1              0                  1                0                  0   \n",
       "2              0                  0                0                  0   \n",
       "3              0                  0                0                  0   \n",
       "4              0                  1                0                  0   \n",
       "...          ...                ...              ...                ...   \n",
       "73257          0                  0                0                  0   \n",
       "73258          0                  0                0                  0   \n",
       "73259          0                  1                0                  0   \n",
       "73260          0                  0                0                  0   \n",
       "73261          0                  0                0                  0   \n",
       "\n",
       "       leukemia  lymphoma  solid_tumor_with_metastasis  apache_3j_bodysystem  \\\n",
       "0             0         0                            0                     9   \n",
       "1             0         0                            0                     8   \n",
       "2             0         0                            0                     5   \n",
       "3             0         0                            0                     0   \n",
       "4             0         0                            0                     7   \n",
       "...         ...       ...                          ...                   ...   \n",
       "73257         0         0                            0                     1   \n",
       "73258         0         0                            0                     0   \n",
       "73259         0         0                            1                     9   \n",
       "73260         0         0                            0                     9   \n",
       "73261         0         0                            0                     1   \n",
       "\n",
       "       apache_2_bodysystem  \n",
       "0                        0  \n",
       "1                        6  \n",
       "2                        3  \n",
       "3                        0  \n",
       "4                        4  \n",
       "...                    ...  \n",
       "73257                    1  \n",
       "73258                    0  \n",
       "73259                    0  \n",
       "73260                    0  \n",
       "73261                    1  \n",
       "\n",
       "[73262 rows x 65 columns]>"
      ]
     },
     "execution_count": 10,
     "metadata": {},
     "output_type": "execute_result"
    }
   ],
   "source": [
    "X.describe"
   ]
  },
  {
   "cell_type": "code",
   "execution_count": 11,
   "id": "88bb00f2",
   "metadata": {},
   "outputs": [
    {
     "data": {
      "text/plain": [
       "0    67400\n",
       "1     5862\n",
       "Name: hospital_death, dtype: int64"
      ]
     },
     "execution_count": 11,
     "metadata": {},
     "output_type": "execute_result"
    }
   ],
   "source": [
    "#Create our target \n",
    "\n",
    "y = df_database_patient['hospital_death']\n",
    "\n",
    "y.value_counts()"
   ]
  },
  {
   "cell_type": "code",
   "execution_count": 12,
   "id": "769f1940",
   "metadata": {},
   "outputs": [],
   "source": [
    "# Split data into Training and Testing\n",
    "\n",
    "X_train, X_test, y_train, y_test = train_test_split(X, y, random_state=1, stratify=y)"
   ]
  },
  {
   "cell_type": "code",
   "execution_count": 13,
   "id": "b5deda5a",
   "metadata": {},
   "outputs": [
    {
     "name": "stdout",
     "output_type": "stream",
     "text": [
      "Counter({0: 50550, 1: 4396})\n",
      "Counter({0: 16850, 1: 1466})\n"
     ]
    }
   ],
   "source": [
    "# Check balances\n",
    "print(Counter(y_train))\n",
    "print(Counter(y_test))"
   ]
  },
  {
   "cell_type": "code",
   "execution_count": 16,
   "id": "cfa76bb3",
   "metadata": {},
   "outputs": [
    {
     "data": {
      "text/plain": [
       "BalancedRandomForestClassifier(n_estimators=1000, random_state=1)"
      ]
     },
     "execution_count": 16,
     "metadata": {},
     "output_type": "execute_result"
    }
   ],
   "source": [
    "# Instantiate RBC\n",
    "\n",
    "brfc = BalancedRandomForestClassifier(n_estimators=1000, random_state=1)\n",
    "\n",
    "# Fit\n",
    "\n",
    "brfc.fit(X_train, y_train)"
   ]
  },
  {
   "cell_type": "code",
   "execution_count": 17,
   "id": "f976fb6d",
   "metadata": {},
   "outputs": [
    {
     "data": {
      "text/plain": [
       "0.7944126612717137"
      ]
     },
     "execution_count": 17,
     "metadata": {},
     "output_type": "execute_result"
    }
   ],
   "source": [
    "y_pred = brfc.predict(X_test)\n",
    "RandomForest_accuracy_database = balanced_accuracy_score(y_test, y_pred)\n",
    "\n",
    "RandomForest_accuracy_database"
   ]
  },
  {
   "cell_type": "code",
   "execution_count": 18,
   "id": "fe425cc8",
   "metadata": {},
   "outputs": [
    {
     "data": {
      "text/html": [
       "<div>\n",
       "<style scoped>\n",
       "    .dataframe tbody tr th:only-of-type {\n",
       "        vertical-align: middle;\n",
       "    }\n",
       "\n",
       "    .dataframe tbody tr th {\n",
       "        vertical-align: top;\n",
       "    }\n",
       "\n",
       "    .dataframe thead th {\n",
       "        text-align: right;\n",
       "    }\n",
       "</style>\n",
       "<table border=\"1\" class=\"dataframe\">\n",
       "  <thead>\n",
       "    <tr style=\"text-align: right;\">\n",
       "      <th></th>\n",
       "      <th>Predicted Survival</th>\n",
       "      <th>Predicted Death</th>\n",
       "    </tr>\n",
       "  </thead>\n",
       "  <tbody>\n",
       "    <tr>\n",
       "      <th>Actual Survival</th>\n",
       "      <td>13117</td>\n",
       "      <td>3733</td>\n",
       "    </tr>\n",
       "    <tr>\n",
       "      <th>Actual Death</th>\n",
       "      <td>278</td>\n",
       "      <td>1188</td>\n",
       "    </tr>\n",
       "  </tbody>\n",
       "</table>\n",
       "</div>"
      ],
      "text/plain": [
       "                 Predicted Survival  Predicted Death\n",
       "Actual Survival               13117             3733\n",
       "Actual Death                    278             1188"
      ]
     },
     "execution_count": 18,
     "metadata": {},
     "output_type": "execute_result"
    }
   ],
   "source": [
    "# Display the confusion matrix\n",
    "# Calculating the confusion matrix\n",
    "cm = confusion_matrix(y_test, y_pred)\n",
    "\n",
    "\n",
    "# Create a DataFrame from the confusion matrix.\n",
    "cm_df = pd.DataFrame(\n",
    "    cm, index=[\"Actual Survival\", \"Actual Death\"], columns=[\"Predicted Survival\", \"Predicted Death\"])\n",
    "\n",
    "cm_df"
   ]
  },
  {
   "cell_type": "code",
   "execution_count": 19,
   "id": "4f87e805",
   "metadata": {},
   "outputs": [
    {
     "name": "stdout",
     "output_type": "stream",
     "text": [
      "                   pre       rec       spe        f1       geo       iba       sup\n",
      "\n",
      "          0       0.98      0.78      0.81      0.87      0.79      0.63     16850\n",
      "          1       0.24      0.81      0.78      0.37      0.79      0.63      1466\n",
      "\n",
      "avg / total       0.92      0.78      0.81      0.83      0.79      0.63     18316\n",
      "\n"
     ]
    }
   ],
   "source": [
    "# Print the imbalanced classification report\n",
    "print(classification_report_imbalanced(y_test, y_pred))"
   ]
  },
  {
   "cell_type": "code",
   "execution_count": 20,
   "id": "96598d90",
   "metadata": {},
   "outputs": [
    {
     "name": "stdout",
     "output_type": "stream",
     "text": [
      "ventilated_apache: (0.0448889890019424)\n",
      "gcs_motor_apache: (0.039037490418697654)\n",
      "age: (0.036557252012101166)\n",
      "d1_sysbp_noninvasive_min: (0.03507592484196871)\n",
      "gcs_verbal_apache: (0.03428894805862581)\n",
      "d1_sysbp_min: (0.0341300891221665)\n",
      "d1_spo2_min: (0.03086663230624626)\n",
      "gcs_eyes_apache: (0.028050369598221648)\n",
      "d1_mbp_min: (0.026035326733977113)\n",
      "d1_heartrate_max: (0.025940622821996846)\n",
      "d1_temp_min: (0.024953210362762455)\n",
      "d1_mbp_noninvasive_min: (0.024325816736358696)\n",
      "d1_resprate_max: (0.024137494811747724)\n",
      "temp_apache: (0.024009338474895874)\n",
      "pre_icu_los_days: (0.023781544861406906)\n",
      "bmi: (0.02120166176532859)\n",
      "d1_heartrate_min: (0.02106651756508995)\n",
      "heart_rate_apache: (0.0205566590754477)\n",
      "h1_resprate_min: (0.020396894322135244)\n",
      "map_apache: (0.019394165346980043)\n",
      "h1_resprate_max: (0.01918573008802336)\n",
      "d1_diasbp_noninvasive_min: (0.01865095516854182)\n",
      "d1_temp_max: (0.01856906295222711)\n",
      "h1_sysbp_min: (0.01845180396177114)\n",
      "resprate_apache: (0.018265772130182985)\n",
      "d1_diasbp_min: (0.01790206722209696)\n",
      "icu_id: (0.017817938438404804)\n",
      "d1_resprate_min: (0.016953072500715288)\n",
      "h1_heartrate_max: (0.016832566539827704)\n",
      "h1_heartrate_min: (0.016688341268696862)\n",
      "h1_mbp_min: (0.015743033597290384)\n",
      "h1_sysbp_max: (0.015560322180826626)\n",
      "d1_sysbp_max: (0.014843395326666647)\n",
      "d1_sysbp_noninvasive_max: (0.014752435836069272)\n",
      "h1_diasbp_min: (0.01473262091286462)\n",
      "h1_mbp_max: (0.014714509809993196)\n",
      "h1_diasbp_max: (0.014472486902221448)\n",
      "d1_diasbp_noninvasive_max: (0.013694679406947075)\n",
      "d1_diasbp_max: (0.013512649910125974)\n",
      "d1_mbp_noninvasive_max: (0.013374203663313504)\n",
      "d1_mbp_max: (0.013245133270428018)\n",
      "h1_spo2_min: (0.012102617160568105)\n",
      "apache_3j_bodysystem: (0.011910791850761793)\n",
      "apache_2_bodysystem: (0.011004001439552366)\n",
      "elective_surgery: (0.008543897916233022)\n",
      "h1_spo2_max: (0.00789724374479295)\n",
      "intubated_apache: (0.007878577289493734)\n",
      "icu_type: (0.007774650548843905)\n",
      "icu_admit_source: (0.007273903776798739)\n",
      "apache_post_operative: (0.006063414142141036)\n",
      "d1_spo2_max: (0.004321915339810983)\n",
      "ethnicity: (0.004225601219869802)\n",
      "gender: (0.0026736705089803305)\n",
      "diabetes_mellitus: (0.002283756143287268)\n",
      "solid_tumor_with_metastasis: (0.0018914931135604832)\n",
      "icu_stay_type: (0.0017972626248691785)\n",
      "immunosuppression: (0.0014269546227300583)\n",
      "arf_apache: (0.0013251370817893885)\n",
      "hepatic_failure: (0.0010837890121360096)\n",
      "cirrhosis: (0.0010426740721317554)\n",
      "leukemia: (0.00051442691753443)\n",
      "lymphoma: (0.00024824388887866776)\n",
      "aids: (5.8248259903944986e-05)\n",
      "readmission_status: (0.0)\n",
      "gcs_unable_apache: (0.0)\n"
     ]
    }
   ],
   "source": [
    "# List the features sorted in descending order by feature importance\n",
    "features_rank = sorted(zip(brfc.feature_importances_, X.columns), reverse=True)\n",
    "for feature in features_rank:\n",
    "    print(f\"{feature[1]}: ({feature[0]})\")"
   ]
  },
  {
   "cell_type": "code",
   "execution_count": 21,
   "id": "7b54963c",
   "metadata": {},
   "outputs": [
    {
     "data": {
      "text/plain": [
       "Text(0.5, 1.0, 'Feature Importance All Vitals')"
      ]
     },
     "execution_count": 21,
     "metadata": {},
     "output_type": "execute_result"
    },
    {
     "data": {
      "image/png": "[encoded data removed]",
      "text/plain": [
       "<Figure size 3600x2520 with 1 Axes>"
      ]
     },
     "metadata": {
      "needs_background": "light"
     },
     "output_type": "display_data"
    }
   ],
   "source": [
    "# Plot Features \n",
    "\n",
    "feature_importance = brfc.feature_importances_\n",
    "sorted_idx = np.argsort(feature_importance)\n",
    "fit = plt.figure(figsize=(50,35))\n",
    "plt.barh(range(len(sorted_idx)), feature_importance[sorted_idx], align='center')\n",
    "plt.yticks(range(len(sorted_idx)), np.array(X_test.columns)[sorted_idx])\n",
    "plt.title('Feature Importance All Vitals')"
   ]
  },
  {
   "cell_type": "code",
   "execution_count": null,
   "id": "0d3f5995",
   "metadata": {},
   "outputs": [],
   "source": []
  },
  {
   "cell_type": "code",
   "execution_count": null,
   "id": "4cb85013",
   "metadata": {},
   "outputs": [],
   "source": []
  },
  {
   "cell_type": "code",
   "execution_count": null,
   "id": "e3b09827",
   "metadata": {},
   "outputs": [],
   "source": []
  }
 ],
 "metadata": {
  "kernelspec": {
   "display_name": "mlenv",
   "language": "python",
   "name": "mlenv"
  },
  "language_info": {
   "codemirror_mode": {
    "name": "ipython",
    "version": 3
   },
   "file_extension": ".py",
   "mimetype": "text/x-python",
   "name": "python",
   "nbconvert_exporter": "python",
   "pygments_lexer": "ipython3",
   "version": "3.7.13"
  }
 },
 "nbformat": 4,
 "nbformat_minor": 5
}
